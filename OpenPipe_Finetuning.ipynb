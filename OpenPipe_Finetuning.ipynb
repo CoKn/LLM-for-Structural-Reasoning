{
 "cells": [
  {
   "metadata": {},
   "cell_type": "markdown",
   "source": "## Data Transformation and Finetuning with OpenPipe",
   "id": "6538db123adabdb0"
  },
  {
   "cell_type": "code",
   "id": "initial_id",
   "metadata": {
    "collapsed": true,
    "ExecuteTime": {
     "end_time": "2025-06-03T16:41:42.443699Z",
     "start_time": "2025-06-03T16:41:42.116683Z"
    }
   },
   "source": [
    "import json\n",
    "import random\n",
    "from openpipe import OpenAI\n",
    "from prompts.prompts import qp_system_prompt, cp_system_prompt\n",
    "from utils.save_and_load_json import load_all_json_files, save_jsonl, save_json\n",
    "from utils.transfrom_data_for_finetuing import split_dataset, format_qp_for_openpipe_finetuning, format_cp_for_openpipe_finetuning\n",
    "\n",
    "# load in datasets\n",
    "logic701 = load_all_json_files(folder_path='./data/train/raw')\n",
    "gpt_one_call = load_all_json_files(folder_path='./data/synthetic/processed/gpt_one_call')\n",
    "gpt_two_calls = load_all_json_files(folder_path='./data/synthetic/processed/gpt_two_calls')\n",
    "sudoku = load_all_json_files(folder_path='./data/synthetic/processed/sudoku_4x4')"
   ],
   "outputs": [
    {
     "name": "stdout",
     "output_type": "stream",
     "text": [
      "Loaded 1 JSON files from ./data/train/raw\n",
      "Loaded 1 JSON files from ./data/synthetic/processed/gpt_one_call\n",
      "Loaded 1 JSON files from ./data/synthetic/processed/gpt_two_calls\n",
      "Loaded 1 JSON files from ./data/synthetic/processed/sudoku_4x4\n"
     ]
    }
   ],
   "execution_count": 49
  },
  {
   "metadata": {
    "ExecuteTime": {
     "end_time": "2025-06-03T15:43:09.644229Z",
     "start_time": "2025-06-03T15:43:09.630594Z"
    }
   },
   "cell_type": "code",
   "source": [
    "# Set seed for reproducibility\n",
    "random.seed(42)\n",
    "\n",
    "# Get 250 random samples\n",
    "logic701_samples = random.sample(logic701[0], 250)\n",
    "sudoku_samples = random.sample(sudoku[0], 250)\n",
    "gpt_one_call_samples = random.sample(gpt_one_call[0], 250)\n",
    "gpt_two_call_samples = random.sample(gpt_two_calls[0], 250)\n",
    "\n",
    "print('verifying dataset len samples:')\n",
    "print(len(logic701_samples))\n",
    "print(len(sudoku_samples))\n",
    "print(len(gpt_one_call_samples))\n",
    "print(len(gpt_two_call_samples))\n",
    "\n",
    "# create qp and cp splits\n",
    "logic701_samples_qp, logic701_samples_cp = split_dataset(logic701_samples)\n",
    "sudoku_samples_qp, sudoku_samples_cp = split_dataset(sudoku_samples)\n",
    "gpt_one_call_samples_qp, gpt_one_call_samples_cp = split_dataset(gpt_one_call_samples)\n",
    "gpt_two_call_samples_qp, gpt_two_call_samples_cp = split_dataset(gpt_two_call_samples)\n",
    "\n",
    "print('verifying dataset len for qp and cp:')\n",
    "for dataset in [logic701_samples_qp, logic701_samples_cp, sudoku_samples_qp, sudoku_samples_cp, gpt_one_call_samples_qp, gpt_two_call_samples_qp, gpt_two_call_samples_cp]: print(len(dataset))"
   ],
   "id": "bbdb9f7e733c1636",
   "outputs": [
    {
     "name": "stdout",
     "output_type": "stream",
     "text": [
      "verifying dataset len samples:\n",
      "250\n",
      "250\n",
      "250\n",
      "250\n",
      "verifying dataset len for qp and cp:\n",
      "250\n",
      "250\n",
      "250\n",
      "250\n",
      "250\n",
      "250\n",
      "250\n"
     ]
    }
   ],
   "execution_count": 2
  },
  {
   "metadata": {
    "ExecuteTime": {
     "end_time": "2025-06-03T15:43:10.031251Z",
     "start_time": "2025-06-03T15:43:09.954940Z"
    }
   },
   "cell_type": "code",
   "source": [
    "# format data into OpenAI finetuning format for OpenPipe\n",
    "logic701_formatted_qp = format_qp_for_openpipe_finetuning(logic701_samples_qp, system_prompt=qp_system_prompt)\n",
    "logic701_formatted_cp = format_cp_for_openpipe_finetuning(logic701_samples_cp, system_prompt=cp_system_prompt)\n",
    "\n",
    "sudoku_formatted_qp = format_qp_for_openpipe_finetuning(sudoku_samples_qp, system_prompt=qp_system_prompt)\n",
    "sudoku_formatted_cp = format_cp_for_openpipe_finetuning(sudoku_samples_cp, system_prompt=cp_system_prompt)\n",
    "\n",
    "gpt_one_call_formatted_qp = format_qp_for_openpipe_finetuning(gpt_one_call_samples_qp, system_prompt=qp_system_prompt)\n",
    "gpt_one_call_formatted_cp = format_cp_for_openpipe_finetuning(gpt_one_call_samples_cp, system_prompt=cp_system_prompt) # delete\n",
    "\n",
    "gpt_two_call_formatted_qp = format_qp_for_openpipe_finetuning(gpt_two_call_samples_qp, system_prompt=qp_system_prompt)\n",
    "gpt_two_call_formatted_cp = format_cp_for_openpipe_finetuning(gpt_two_call_samples_cp, system_prompt=cp_system_prompt) # delete\n",
    "\n",
    "# save data as jsonl\n",
    "save_jsonl(logic701_formatted_qp, \"./data/synthetic/finetuning/logic701_finetuning_qp.jsonl\")\n",
    "save_jsonl(logic701_formatted_cp, \"./data/synthetic/finetuning/logic701_finetuning_cp.jsonl\")\n",
    "\n",
    "save_jsonl(sudoku_formatted_qp, \"./data/synthetic/finetuning/sudoku_finetuning_qp.jsonl\")\n",
    "save_jsonl(sudoku_formatted_cp, \"./data/synthetic/finetuning/sudoku_finetuning_cp.jsonl\")\n",
    "\n",
    "save_jsonl(gpt_one_call_formatted_qp, \"./data/synthetic/finetuning/gpt_one_call_finetuning_qp.jsonl\")\n",
    "save_jsonl(gpt_one_call_formatted_cp, \"./data/synthetic/finetuning/gpt_one_call_finetuning_cp.jsonl\")\n",
    "\n",
    "save_jsonl(gpt_two_call_formatted_qp, \"./data/synthetic/finetuning/gpt_two_call_finetuning_qp.jsonl\")\n",
    "save_jsonl(gpt_two_call_formatted_cp, \"./data/synthetic/finetuning/gpt_two_call_finetuning_cp.jsonl\")"
   ],
   "id": "5aaa7dbd01f592b7",
   "outputs": [],
   "execution_count": 3
  },
  {
   "metadata": {
    "ExecuteTime": {
     "end_time": "2025-06-03T16:34:18.457632Z",
     "start_time": "2025-06-03T16:34:18.314198Z"
    }
   },
   "cell_type": "code",
   "source": [
    "import os\n",
    "from openpipe import OpenAI\n",
    "from dotenv import load_dotenv\n",
    "\n",
    "# Load api key\n",
    "load_dotenv()\n",
    "open_pipe = os.getenv(\"structural-reasoning\")\n",
    "\n",
    "client = OpenAI(openpipe={\"api_key\": f\"{open_pipe}\"})"
   ],
   "id": "1132f7ff3b17a5aa",
   "outputs": [],
   "execution_count": 39
  },
  {
   "metadata": {
    "ExecuteTime": {
     "end_time": "2025-06-03T16:34:18.642190Z",
     "start_time": "2025-06-03T16:34:18.636344Z"
    }
   },
   "cell_type": "code",
   "source": [
    "# load test data\n",
    "with open('./data/test/test-reference.json', 'r') as f:\n",
    "    test_data = json.load(f)\n",
    "\n",
    "test_qp, test_cp = split_dataset(test_data)"
   ],
   "id": "c1f5e2cb9d635298",
   "outputs": [],
   "execution_count": 40
  },
  {
   "metadata": {
    "ExecuteTime": {
     "end_time": "2025-06-03T16:34:19.074923Z",
     "start_time": "2025-06-03T16:34:19.067110Z"
    }
   },
   "cell_type": "code",
   "source": "test_cp[0]",
   "id": "59bab6bf62c318ae",
   "outputs": [
    {
     "data": {
      "text/plain": [
       "{'answer': 'b',\n",
       " 'id': 162,\n",
       " 'cot': \"Since G goes to the United States, we need to analyze the conditions that follow. Condition (1) is not applicable since G is going to the US. Condition (2) is also not applicable since L's destination is not specified. Condition (3) does not provide any information about H, M, U, or W. Condition (4) states that U's destination is different from G's, which is the US, so U must go to the UK. Condition (5) is not applicable since Z's destination is not specified.\",\n",
       " 'cot_parsing': [{'statement': 'Condition (1) is not applicable',\n",
       "   'evidence': 'Condition (1): If G goes to the UK, then H To the United States. | G is going to the US',\n",
       "   'Verification': 'false'},\n",
       "  {'statement': 'Condition (2) is also not applicable',\n",
       "   'evidence': \"Condition (2): If L goes to the UK, both M and U go to the US. | L's destination is not specified\",\n",
       "   'Verification': 'false'},\n",
       "  {'statement': 'Condition (3) does not provide any information about H, M, U, or W',\n",
       "   'evidence': 'Condition (3): The country W went to was different from the country Z went to.',\n",
       "   'Verification': 'false'},\n",
       "  {'statement': 'U must go to the UK',\n",
       "   'evidence': \"Condition (4): The country where U goes is different from the country where G goes. | Condition (4) states that U's destination is different from G's, which is the US\",\n",
       "   'Verification': 'true'},\n",
       "  {'statement': 'Condition (5) is not applicable',\n",
       "   'evidence': \"Condition (5): If Z goes to the UK, then H also goes to the UK. | Z's destination is not specified\",\n",
       "   'Verification': 'true'}],\n",
       " 'sel_idx': 92}"
      ]
     },
     "execution_count": 41,
     "metadata": {},
     "output_type": "execute_result"
    }
   ],
   "execution_count": 41
  },
  {
   "metadata": {
    "ExecuteTime": {
     "end_time": "2025-06-03T16:34:19.630264Z",
     "start_time": "2025-06-03T16:34:19.622924Z"
    }
   },
   "cell_type": "code",
   "source": [
    "# Run inference pipeline\n",
    "# Format question data\n",
    "content_formated_question = format_qp_for_openpipe_finetuning(test_qp, system_prompt=qp_system_prompt)\n",
    "content_questions = [item[\"messages\"][1][\"content\"] for item in content_formated_question]\n",
    "\n",
    "# Format CoT data\n",
    "content_formated_cot = format_cp_for_openpipe_finetuning(test_cp, system_prompt=cp_system_prompt)\n",
    "content_cots = [item[\"messages\"][1][\"content\"] for item in content_formated_cot]"
   ],
   "id": "b94450c569ea7bad",
   "outputs": [],
   "execution_count": 42
  },
  {
   "metadata": {
    "ExecuteTime": {
     "end_time": "2025-06-03T17:06:54.390750Z",
     "start_time": "2025-06-03T17:06:54.379783Z"
    }
   },
   "cell_type": "code",
   "source": [
    "def run_pipeline(test_qp, test_cp, content_question,  content_cot, model_qp, model_cp):\n",
    "    puzzle = {\n",
    "            \"question\": test_qp['question'],\n",
    "            \"question_parsing\": None,\n",
    "            \"answer\": test_cp['answer'],\n",
    "            \"id\": test_cp['id'],\n",
    "            \"sel_idx\": test_cp['sel_idx'],\n",
    "            \"cot\": test_cp['cot'],\n",
    "            \"cot_parsing\": None\n",
    "                }\n",
    "\n",
    "    try:\n",
    "        completion_qp = client.chat.completions.create(\n",
    "            model=model_qp,\n",
    "            messages=[\n",
    "                {\n",
    "                    \"role\": \"system\",\n",
    "                    \"content\": qp_system_prompt\n",
    "                },\n",
    "                {\n",
    "                    \"role\": \"user\",\n",
    "                    \"content\": content_question\n",
    "                }\n",
    "            ],\n",
    "            temperature=0\n",
    "        )\n",
    "\n",
    "        string_data = completion_qp.choices[0].message.content.replace('\\'', '\"')\n",
    "        puzzle[\"question_parsing\"] = json.loads(string_data)\n",
    "        print(string_data)\n",
    "\n",
    "        completion_cp = client.chat.completions.create(\n",
    "            model=model_cp,\n",
    "            messages=[\n",
    "                {\n",
    "                    \"role\": \"system\",\n",
    "                    \"content\": cp_system_prompt\n",
    "                },\n",
    "                {\n",
    "                    \"role\": \"user\",\n",
    "                    \"content\": content_cot\n",
    "                }\n",
    "            ],\n",
    "            temperature=0\n",
    "        )\n",
    "\n",
    "        puzzle[\"cot_parsing\"] = json.loads(completion_cp.choices[0].message.content)\n",
    "        print(puzzle[\"cot_parsing\"])\n",
    "        return puzzle\n",
    "    except Exception as e:\n",
    "        print(f\"Error occurred: {e}\")\n",
    "        return None, None"
   ],
   "id": "f3cdc075b534181",
   "outputs": [],
   "execution_count": 64
  },
  {
   "metadata": {
    "jupyter": {
     "is_executing": true
    },
    "ExecuteTime": {
     "start_time": "2025-06-03T17:06:58.827448Z"
    }
   },
   "cell_type": "code",
   "source": [
    "name = 'gpt_one_call'  # 'logic701', gpt_one_call, gpt_two_calls, sudoku\n",
    "results = []\n",
    "for idx in range(len(test_data)):\n",
    "    try:\n",
    "        result = run_pipeline(test_qp[idx],\n",
    "                              test_cp[idx],\n",
    "                              content_question=content_questions[idx],\n",
    "                              content_cot=content_cots[idx],\n",
    "                              model_qp='openpipe:gpt-one-call-finetuning-qp',\n",
    "                              model_cp='openpipe:gpt-one-call-finetuning-cp')\n",
    "        results.append(result)\n",
    "        print(result)\n",
    "        save_json(result, \"./data/comparison/gpt_one_call/result-{}-{}.json\".format(idx, name))\n",
    "    except Exception as e:\n",
    "        print(f\"Error occurred: {e} at index {idx}\")"
   ],
   "id": "b08af93da0785111",
   "outputs": [
    {
     "name": "stdout",
     "output_type": "stream",
     "text": [
      "[\"There are 7 students: G, H, L, M, U, W, Z\", \"Each person goes to either the UK or the US\", \"Condition 1: If G goes to the UK, H goes to the US\", \"Condition 2: If L goes to the UK, M and U go to the US\", \"Condition 3: W and Z go to different countries\", \"Condition 4: U and G go to different countries\", \"Condition 5: If Z goes to the UK, H also goes to the UK\", \"Scenario: G goes to the United States\"]\n",
      "[{'statement': \"U must go to the UK since its destination is different from G's (US).\", 'evidence': 'Condition (4)', 'Verification': 'true'}, {'statement': 'Since U is in the UK, one person must go to each destination.', 'evidence': 'Condition (4)', 'Verification': 'true'}, {'statement': 'By elimination, H must go to the UK.', 'evidence': 'Only three people can go to different destinations.', 'Verification': 'true'}]\n",
      "{'question': 'There are 7 outstanding students G, H, L, M, U, W and Z in a school.During the summer vacation, the school will send them to the United Kingdom and the United States for inspection.The school has only 7 students participating in this activity, and each person happens to go to one of these two countries.Considering the specialty of each student, this activity must meet the following conditions? (1) If G goes to the UK, then H To the United States.(2) If L goes to the UK, both M and U go to the US.(3) The country W went to was different from the country Z went to.(4) The country where U goes is different from the country where G goes.(5) If Z goes to the UK, then H also goes to the UK.\\nIf G goes to the United States, which of the following must be true?\\nA.H go to the UK\\nB.L go to America\\nC.M go to the UK\\nD.W go to America', 'question_parsing': ['There are 7 students: G, H, L, M, U, W, Z', 'Each person goes to either the UK or the US', 'Condition 1: If G goes to the UK, H goes to the US', 'Condition 2: If L goes to the UK, M and U go to the US', 'Condition 3: W and Z go to different countries', 'Condition 4: U and G go to different countries', 'Condition 5: If Z goes to the UK, H also goes to the UK', 'Scenario: G goes to the United States'], 'answer': 'b', 'id': 162, 'sel_idx': 92, 'cot': \"Since G goes to the United States, we need to analyze the conditions that follow. Condition (1) is not applicable since G is going to the US. Condition (2) is also not applicable since L's destination is not specified. Condition (3) does not provide any information about H, M, U, or W. Condition (4) states that U's destination is different from G's, which is the US, so U must go to the UK. Condition (5) is not applicable since Z's destination is not specified.\", 'cot_parsing': [{'statement': \"U must go to the UK since its destination is different from G's (US).\", 'evidence': 'Condition (4)', 'Verification': 'true'}, {'statement': 'Since U is in the UK, one person must go to each destination.', 'evidence': 'Condition (4)', 'Verification': 'true'}, {'statement': 'By elimination, H must go to the UK.', 'evidence': 'Only three people can go to different destinations.', 'Verification': 'true'}]}\n",
      "[\"6 clear flower porcelains: S, Y, M, Q, K, X\", \"Different production times\", \"Exhibition order from earliest to latest\", \"(1) M -> X\", \"(2) If Y -> M, then Q -> K -> X\", \"(3) If M -> Y, then K -> Q -> X\", \"(4) S -> either Y or M, neither\"]\n",
      "[{'statement': 'M is older than X.', 'evidence': 'Condition 1', 'Verification': 'true'}, {'statement': 'If Y is earlier than M, then Q is earlier than K and X.', 'evidence': 'Condition 2', 'Verification': 'true'}, {'statement': 'If M is earlier than Y, then K is earlier than Q and X.', 'evidence': 'Condition 3', 'Verification': 'true'}, {'statement': 'S can be placed anywhere except between Y and M.', 'evidence': 'Condition 4', 'Verification': 'true'}]\n",
      "{'question': 'There are 6 clear flower porcelains? S, Y, M, Q, K, X.The production time of each piece is different.From left to right, the exhibitions are sorted in order from the earliest to the latest.The known sorting conditions are as follows? (1) M is older than X.(2) If Y is earlier than M, then Q is earlier than K and X.(3) If the age of M is earlier than Y, the age of K is earlier than Q and X.(4) The age of S is either earlier than Y or earlier than M, and both have neither.\\nWhich of the following lists the possible exhibition order?\\nA.Q.M.S, K.Y.X\\nB.Q, K.Y, M.X, S\\nC.Y.S, M.X.Q, K\\nD.M, K, S, Q, Y, X', 'question_parsing': ['6 clear flower porcelains: S, Y, M, Q, K, X', 'Different production times', 'Exhibition order from earliest to latest', '(1) M -> X', '(2) If Y -> M, then Q -> K -> X', '(3) If M -> Y, then K -> Q -> X', '(4) S -> either Y or M, neither'], 'answer': 'd', 'id': 374, 'sel_idx': 89, 'cot': \"Let's analyze the given conditions:\\n\\n1. M is older than X.\\n2. If Y is earlier than M, then Q is earlier than K and X.\\n3. If M is earlier than Y, then K is earlier than Q and X.\\n4. The age of S is either earlier than Y or earlier than M, and both have neither.\\n\\nFrom condition 1, we know M is older than X.\\n\\nFrom condition 2, if Y is earlier than M, then Q is earlier than K and X. This means that if Y is earlier than M, the order is Y, M, Q, K, X.\\n\\nFrom condition 3, if M is earlier than Y, then K is earlier than Q and X. This means that if M is earlier than Y, the order is M, K, Q, X.\\n\\nFrom condition 4, the age of S is either earlier than Y or earlier than M, and both have neither. This means that S can be placed anywhere in the sequence, but it cannot be placed between Y and M.\", 'cot_parsing': [{'statement': 'M is older than X.', 'evidence': 'Condition 1', 'Verification': 'true'}, {'statement': 'If Y is earlier than M, then Q is earlier than K and X.', 'evidence': 'Condition 2', 'Verification': 'true'}, {'statement': 'If M is earlier than Y, then K is earlier than Q and X.', 'evidence': 'Condition 3', 'Verification': 'true'}, {'statement': 'S can be placed anywhere except between Y and M.', 'evidence': 'Condition 4', 'Verification': 'true'}]}\n",
      "[\"Seven magicians: G, H, K, L, N, P, Q\", \"Choose 6 people, divide into two teams of 3\", \"Each team has three positions: front, middle, back\", \"Condition 1: If G or H is at the front\", \"Condition 2: If K is in the middle\", \"Condition 3: If L is on team 1\", \"Condition 4: Neither P nor K can be with N\", \"Condition 5: P cannot be with Q\", \"Condition 6: If H is in team 2, Q is in middle of team 1\"]\n",
      "[{'statement': 'If G is in the front, then P must also be in the front.', 'evidence': 'From condition 4: Neither P nor K can be in the same team as N. Since K is in the back, P cannot be in the back. Therefore, P must be in the front.', 'Verification': 'true'}, {'statement': 'L must be in the middle if he is scheduled to play.', 'evidence': 'From condition 3: If L is scheduled to play, he must be on team 1.', 'Verification': 'true'}, {'statement': 'K must be in the back if he is scheduled to play.', 'evidence': 'From condition 2: If K is scheduled to play, he must be in the middle. However, since L is already in the middle, K cannot be in the middle.', 'Verification': 'true'}]\n",
      "{'question': \"In a magic show, from the seven magicians-G.H.K.L.N.P and Q, choose 6 people to play, and the performance is divided into two teams? 1 team and 2 teams.Each team consists of three positions? front, middle, and back.The magicians on the field happen to occupy one position each.The choice and location of the magician must meet the following conditions? (1) If G or H is arranged to play, they must be in the front.Bit.(2) If K is scheduled to play, he must be in the middle.(3) If L is scheduled to play, he must be on team 1.(4) Neither P nor K can be in the same team as N.(5) P cannot be in the same team as Q.(6) If H is in team 2, Q is in the middle of team 1.\\nWhich of the following is an acceptable arrangement for the first team's performance?\\nA.Before? Q In? L After? N\\nB.Before? L Middle? K After? Q\\nC.Before? Q In? K After? P\\nD.Before? G In? K After? P\", 'question_parsing': ['Seven magicians: G, H, K, L, N, P, Q', 'Choose 6 people, divide into two teams of 3', 'Each team has three positions: front, middle, back', 'Condition 1: If G or H is at the front', 'Condition 2: If K is in the middle', 'Condition 3: If L is on team 1', 'Condition 4: Neither P nor K can be with N', 'Condition 5: P cannot be with Q', 'Condition 6: If H is in team 2, Q is in middle of team 1'], 'answer': 'a', 'id': 476, 'sel_idx': 95, 'cot': \"Let's analyze the conditions given:\\n\\n1. If G or H is arranged to play, they must be in the front.\\n2. If K is scheduled to play, he must be in the middle.\\n3. If L is scheduled to play, he must be on team 1.\\n4. Neither P nor K can be in the same team as N.\\n5. P cannot be in the same team as Q.\\n6. If H is in team 2, Q is in the middle of team 1.\\n\\nWe need to find an acceptable arrangement for the first team's performance, which consists of three positions: front, middle, and back. Let's try to find a possible arrangement for the first team's performance. We can start by considering the conditions one by one.\\n\\nFrom condition 1, we know that if G or H is arranged to play, they must be in the front. Let's assume G is in the front.\\n\\nFrom condition 3, we know that if L is scheduled to play, he must be on team 1. Since L is not in the front, he must be in the middle or back. Let's assume L is in the middle.\\n\\nFrom condition 2, we know that if K is scheduled to play, he must be in the middle. Since L is already in the middle, K cannot be in the middle. Therefore, K must be in the back.\\n\\nFrom condition 4, we know that neither P nor K can be in the same team as N. Since K is in the back, P cannot be in the back. Therefore, P must be in the front or middle. However, P cannot be in the same team as Q, so P cannot be in the same team as L. Therefore, P must be in the front.\\n\\nFrom condition 6, we know that if H is in team 2, Q is in the middle of team 1. Since G is already in the front, H cannot be in team 1. Therefore, H must be in team 2.\\n\\nNow we have a possible arrangement for the first team's performance:\\n\\nFront: G, P\\nMiddle: L\\nBack: K\\n\\nPlease proceed to the next step\", 'cot_parsing': [{'statement': 'If G is in the front, then P must also be in the front.', 'evidence': 'From condition 4: Neither P nor K can be in the same team as N. Since K is in the back, P cannot be in the back. Therefore, P must be in the front.', 'Verification': 'true'}, {'statement': 'L must be in the middle if he is scheduled to play.', 'evidence': 'From condition 3: If L is scheduled to play, he must be on team 1.', 'Verification': 'true'}, {'statement': 'K must be in the back if he is scheduled to play.', 'evidence': 'From condition 2: If K is scheduled to play, he must be in the middle. However, since L is already in the middle, K cannot be in the middle.', 'Verification': 'true'}]}\n",
      "Error occurred: Expecting ',' delimiter: line 1 column 87 (char 86)\n",
      "(None, None)\n",
      "[\"Seven people: G, H, J, K, L, M, O traveled together.\", \"Two people cook each day for four days.\", \"Staff arrangement cannot be repeated.\", \"One person on duty for two days.\", \"Duty on fourth day, not third.\", \"Condition 1: J after H.\", \"Condition 2: Person on two days must be on fourth day.\", \"Condition 3: G with J or O.\", \"Condition 4: K on first or second day.\", \"Condition 5: O on third day.\", \"Question: Which person can\\\"t be on duty for two days?\"]\n",
      "[{'statement': 'G must be on the same day as J.', 'evidence': 'Condition (3): G must be on the same day as one of J and O. Since O is on the third day, G must be on the same day as J.', 'Verification': 'true'}, {'statement': 'G is not on duty for two days.', 'evidence': 'G and J are on different duty arrangements since J should be placed on the next day of duty H.', 'Verification': 'true'}]\n",
      "{'question': \"Seven people from G, H, J, K, L, M and O traveled together.In their 4-day camping life, two people are scheduled to cook for everyone every day.It is required that the four-day staff arrangement cannot be repeated, and there is exactly one person on duty for two days.In addition, the duty arrangement must also meet the following conditions? (1) J should be placed on the next day of duty H.(2) The person on duty for two days must be on the fourth day, not the third day.(3) G must be on the same day as one of J and O.(4) Arrange K at least one day on the first or second day.(5) O must be on the third day.\\nWhich of the following people can't be on duty for two days?\\nA.G\\nB.H\\nC.K\\nD.L\", 'question_parsing': ['Seven people: G, H, J, K, L, M, O traveled together.', 'Two people cook each day for four days.', 'Staff arrangement cannot be repeated.', 'One person on duty for two days.', 'Duty on fourth day, not third.', 'Condition 1: J after H.', 'Condition 2: Person on two days must be on fourth day.', 'Condition 3: G with J or O.', 'Condition 4: K on first or second day.', 'Condition 5: O on third day.', 'Question: Which person can\"t be on duty for two days?'], 'answer': 'a', 'id': 54, 'sel_idx': 84, 'cot': \"Let's analyze the given conditions. We know that the duty arrangement cannot be repeated, and there is exactly one person on duty for two days. We also know that J should be placed on the next day of duty H, and G must be on the same day as one of J and O. Additionally, O must be on the third day, and K must be on at least one day on the first or second day.\\n\\nFrom condition (2), we know that the person on duty for two days must be on the fourth day, not the third day. This means that the person on duty for two days cannot be O, since O is already on the third day.\\n\\nFrom condition (3), we know that G must be on the same day as one of J and O. Since O is on the third day, G must be on the same day as J. This means that G and J are on the same day, and G is not on duty for two days.\", 'cot_parsing': [{'statement': 'G must be on the same day as J.', 'evidence': 'Condition (3): G must be on the same day as one of J and O. Since O is on the third day, G must be on the same day as J.', 'Verification': 'true'}, {'statement': 'G is not on duty for two days.', 'evidence': 'G and J are on different duty arrangements since J should be placed on the next day of duty H.', 'Verification': 'true'}]}\n",
      "[\"The coach selects 4 players from E, F, G, H, J, K, and M.\", \"E or F has one person to participate, but not both.\", \"One of J or K will participate, but not both.\", \"If J participates, then G participates.\", \"Unless F participates, M does not participate.\", \"Which players will definitely participate in the game?\"]\n",
      "[{'statement': 'Unless F participates, M does not participate.', 'evidence': 'Condition 4', 'Verification': 'true'}, {'statement': 'If J participates, then G participates.', 'evidence': 'Condition 3', 'Verification': 'true'}, {'statement': 'One of J or K will participate, but not both.', 'evidence': 'Condition 2', 'Verification': 'true'}]\n",
      "{'question': 'A provincial Go team coach selects 4 of the 7 players from E, F, G, H, J, K and M to participate in the professional league.The selection must meet the following conditions? E or F has one person to participate, but not both .One of J or K will participate, but not both.If J participates, then G participates.Unless F participates, M does not participate.\\nWhich of the following players will definitely participate in the game?\\nA.F or M, or both.\\nC.H or J, or both.\\nB.G or H, or both.\\nD.J or M, or both.', 'question_parsing': ['The coach selects 4 players from E, F, G, H, J, K, and M.', 'E or F has one person to participate, but not both.', 'One of J or K will participate, but not both.', 'If J participates, then G participates.', 'Unless F participates, M does not participate.', 'Which players will definitely participate in the game?'], 'answer': 'b', 'id': 100, 'sel_idx': 96, 'cot': \"Let's analyze the conditions given:\\n\\n1. E or F has one person to participate, but not both.\\n2. One of J or K will participate, but not both.\\n3. If J participates, then G participates.\\n4. Unless F participates, M does not participate.\\n\\nFrom condition 1, we know that either E or F will participate, but not both. Let's consider the possibilities:\\n\\n* If E participates, then F cannot participate (by condition 1). But condition 4 says that unless F participates, M does not participate. So, if E participates, M must participate.\\n* If F participates, then E cannot participate (by condition 1). In this case, condition 4 does not apply, and we don't know if M will participate.\\n\\nFrom condition 2, we know that one of J or K will participate, but not both. Let's consider the possibilities:\\n\\n* If J participates, then G participates (by condition 3). In this case, K cannot participate (by condition 2).\\n* If K participates, then J cannot participate (by condition 2). We don't know if G will participate.\\n\\nNow, let's combine the possibilities:\\n\\n* If E participates, then M participates, and J or K participates (but not both).\\n* If F participates, then J or K participates (but not both), and we don't know if M participates.\", 'cot_parsing': [{'statement': 'Unless F participates, M does not participate.', 'evidence': 'Condition 4', 'Verification': 'true'}, {'statement': 'If J participates, then G participates.', 'evidence': 'Condition 3', 'Verification': 'true'}, {'statement': 'One of J or K will participate, but not both.', 'evidence': 'Condition 2', 'Verification': 'true'}]}\n",
      "[\"Seven employees: F, G, H, J, K, L, M\", \"Each group must have at least 3 members\", \"F and K cannot be in the same group\", \"If K is in a group, J must be there too\", \"M must be in at least one of the groups\", \"At least one member common to both groups\"]\n",
      "[{'statement': 'K and J are in the same group.', 'evidence': 'Conditions 2 and 3 imply that K and J must be together.', 'Verification': 'true'}, {'statement': 'At least one of the same employees in both groups.', 'evidence': 'Condition 5 directly states this.', 'Verification': 'true'}, {'statement': 'M is at least one of the members of these two groups.', 'evidence': 'Condition 4 ensures M is in one of the groups.', 'Verification': 'true'}]\n",
      "{'question': 'The members of the printing group and the binding group are mainly from the following seven employees-F, G, H, J, K, L and M.The members of each group must meet the following conditions? (1) Each group has at least 3 employees .(2) F and K cannot be in the same group.(3) If K is in a certain group, J must also be in this group.(4) M is at least one of the members of these two groups.(5) At least one of the same employees in both groups.\\nHow many employees can be a member of printing group and binding group at most?\\nA.4\\nB.5\\nC.6\\nD.7', 'question_parsing': ['Seven employees: F, G, H, J, K, L, M', 'Each group must have at least 3 members', 'F and K cannot be in the same group', 'If K is in a group, J must be there too', 'M must be in at least one of the groups', 'At least one member common to both groups'], 'answer': 'c', 'id': 175, 'sel_idx': 66, 'cot': \"Let's analyze the conditions given:\\n\\n1. Each group has at least 3 employees.\\n2. F and K cannot be in the same group.\\n3. If K is in a certain group, J must also be in this group.\\n4. M is at least one of the members of these two groups.\\n5. At least one of the same employees in both groups.\\n\\nFrom condition 2, we know F and K cannot be in the same group. From condition 3, if K is in a group, J must also be in that group. This means K and J are in the same group.\", 'cot_parsing': [{'statement': 'K and J are in the same group.', 'evidence': 'Conditions 2 and 3 imply that K and J must be together.', 'Verification': 'true'}, {'statement': 'At least one of the same employees in both groups.', 'evidence': 'Condition 5 directly states this.', 'Verification': 'true'}, {'statement': 'M is at least one of the members of these two groups.', 'evidence': 'Condition 4 ensures M is in one of the groups.', 'Verification': 'true'}]}\n",
      "[\"A company with a 6-story office building\", \"Each department occupies one floor\", \"(1) Human resources and sales are not adjacent\", \"(2) Finance is next to planning\", \"(3) Administration is above planning but below HR\", \"If HR is not on the top, where can R&D be?\"]\n",
      "[{'statement': 'The human resources department and the sales department cannot be on the same floor.', 'evidence': 'They are in different departments, and one must be above the other.', 'Verification': 'true'}, {'statement': 'The finance department is above the planning department.', 'evidence': 'Given in the scenario.', 'Verification': 'true'}, {'statement': 'The administrative department is above the planning department and below the human resources department.', 'evidence': 'Given in the scenario.', 'Verification': 'true'}, {'statement': 'The research and development department must be on either floor 3 or floor 4.', 'evidence': 'Eliminated options C and D.', 'Verification': 'true'}]\n",
      "{'question': \"A company has a 6-story office building.The company's finance department, planning department, administration department, sales department, human resources department, and research and development department work here, and each department occupies one of the floors.Known? (1) The two floors of the human resources department and the sales department are not adjacent; (2) The finance department is on the next floor of the planning department; (3) The floor of the administrative department is above the planning department, but in the manpower Below the Resources Department.\\nIf the human resources department is not on the top floor, the floors that the R & D department may be on are?\\nA.3, 4, 6\\nB.3, 4, 5\\nC.4, 5\\nD.5, 6\", 'question_parsing': ['A company with a 6-story office building', 'Each department occupies one floor', '(1) Human resources and sales are not adjacent', '(2) Finance is next to planning', '(3) Administration is above planning but below HR', 'If HR is not on the top, where can R&D be?'], 'answer': 'd', 'id': 497, 'sel_idx': 67, 'cot': \"Let's analyze the given information. We know that the human resources department and the sales department are not adjacent, so they cannot be on the same floor. We also know that the finance department is on the floor above the planning department, and the administrative department is above the planning department but below the human resources department. This means that the planning department is on a floor that is below the administrative department and the human resources department. Since the human resources department is not on the top floor, the top floor must be occupied by either the research and development department or the sales department. We can eliminate option D because the sales department cannot be on the top floor. We can also eliminate option C because the research and development department cannot be on the floor below the human resources department. This leaves us with options A and B. We can eliminate option B because the research and development department cannot be on the floor below the administrative department. Therefore, the research and development department must be on either floor 3 or floor 4.\", 'cot_parsing': [{'statement': 'The human resources department and the sales department cannot be on the same floor.', 'evidence': 'They are in different departments, and one must be above the other.', 'Verification': 'true'}, {'statement': 'The finance department is above the planning department.', 'evidence': 'Given in the scenario.', 'Verification': 'true'}, {'statement': 'The administrative department is above the planning department and below the human resources department.', 'evidence': 'Given in the scenario.', 'Verification': 'true'}, {'statement': 'The research and development department must be on either floor 3 or floor 4.', 'evidence': 'Eliminated options C and D.', 'Verification': 'true'}]}\n",
      "[\"Six members: F, G, H, I, M, P\", \"Each member in at least one of three sub-committees\", \"Each sub-committee has three different members\", \"One member serves as a member of three subcommittees\", \"F not a member of the same subcommittee as G\", \"H not a member of the same subcommittee as I\"]\n",
      "[{'statement': 'F must be in a sub-committee with G and M.', 'evidence': 'Since F is a member of three sub-committees, it must be the case that F is a member of two sub-committees that have only one member in common, and the third sub-committee has the remaining three members.', 'Verification': 'true'}, {'statement': 'H and I are not in the same sub-committee.', 'evidence': 'Since H and I are not members of the same sub-committee, they must be in different sub-committees.', 'Verification': 'true'}, {'statement': 'The sub-committee with F, G, and M does not have H and I.', 'evidence': 'F cannot be in the same sub-committee as H and I.', 'Verification': 'true'}]\n",
      "{'question': 'A street comprehensive governance committee has 6 members? F, G, H, I, M and P.Each of these members must be a member of at least one of the three sub-committees under the Comprehensive Governance Committee.Each sub-committee is composed of 3 different members.The known information is as follows? one of the six members serves as a member of three subcommittees.F is not a member of the same subcommittee as G.H is not a member of the same subcommittee as I.\\nWhich of the following statements must be true?\\nA.M and P are members of a subcommittee.\\nB.F and H are members of a subcommittee.\\nC.G and I are members of a subcommittee.\\nD.1 member of any sub-committee.', 'question_parsing': ['Six members: F, G, H, I, M, P', 'Each member in at least one of three sub-committees', 'Each sub-committee has three different members', 'One member serves as a member of three subcommittees', 'F not a member of the same subcommittee as G', 'H not a member of the same subcommittee as I'], 'answer': 'a', 'id': 338, 'sel_idx': 69, 'cot': 'Since each member must be a member of at least one sub-committee, and each sub-committee has 3 members, we can conclude that each member is a member of exactly one sub-committee. Since F is a member of three sub-committees, it must be the case that F is a member of two sub-committees that have only one member in common, and the third sub-committee has the remaining three members. Since H and I are not members of the same sub-committee, they must be in different sub-committees. Therefore, F cannot be in the same sub-committee as H and I. This means that F must be in a sub-committee with G and M, and the other two sub-committees must have H and I, and P respectively.', 'cot_parsing': [{'statement': 'F must be in a sub-committee with G and M.', 'evidence': 'Since F is a member of three sub-committees, it must be the case that F is a member of two sub-committees that have only one member in common, and the third sub-committee has the remaining three members.', 'Verification': 'true'}, {'statement': 'H and I are not in the same sub-committee.', 'evidence': 'Since H and I are not members of the same sub-committee, they must be in different sub-committees.', 'Verification': 'true'}, {'statement': 'The sub-committee with F, G, and M does not have H and I.', 'evidence': 'F cannot be in the same sub-committee as H and I.', 'Verification': 'true'}]}\n",
      "[\"6 rectangular vegetable ponds of the same size\", \"Ponds numbered 1 to 6 from left to right\", \"No.1 and No.6 ponds are not adjacent\", \"6 kinds of vegetables: Q, L, H, x, S, Y\", \"Each pond grows one of the six vegetables\", \"Conditions: Q left of H\", \"X in No.1 or No.6\", \"Y or S in No.3\", \"L planted next to S\", \"Scenario: H in No.2\"]\n",
      "[{'statement': 'H is in No.2, so X must be in No.1 or No.3.', 'evidence': 'No.1 and No.6 are not adjacent, and H is in No.2.', 'Verification': 'true'}, {'statement': 'Since No.3 is planted with Y or S, L cannot be in No.3.', 'evidence': 'L is planted right next to S.', 'Verification': 'true'}, {'statement': 'Therefore, L must be in No.4 or No.5.', 'evidence': 'L cannot be in No.3.', 'Verification': 'true'}, {'statement': 'Since Y must be in No.3, S must be in No.5.', 'evidence': 'Y and S must be together, and L is not in No.3.', 'Verification': 'true'}]\n",
      "{'question': 'There are 6 rectangular vegetable ponds of the same size in a plastic shed, arranged in order from left to right? 1, 2, 3, 4, 5 and 6.And No.1 and No.6 are not adjacent.There are exactly 6 kinds of vegetables that need to be planted in the greenhouse? Q, L, H, x, S and Y.Each vegetable pond can only grow one of them.The planting arrangement must meet the following conditions? Q is planted in a vegetable pond on the left side of H.X species are in No.1 or No.6 vegetable ponds.No.3 vegetable pond is planted with Y or s.L is planted right next to S.\\nIf the H species is in No.2 Caichizi, which of the following statements must be true?\\nA.X species are in No.6 vegetable pond.\\nB.Type L is in No.4 vegetable pond.\\nC.L is planted in No.5 vegetable pond.\\nD.Type Y is in No.3 vegetable pond.', 'question_parsing': ['6 rectangular vegetable ponds of the same size', 'Ponds numbered 1 to 6 from left to right', 'No.1 and No.6 ponds are not adjacent', '6 kinds of vegetables: Q, L, H, x, S, Y', 'Each pond grows one of the six vegetables', 'Conditions: Q left of H', 'X in No.1 or No.6', 'Y or S in No.3', 'L planted next to S', 'Scenario: H in No.2'], 'answer': 'a', 'id': 411, 'sel_idx': 74, 'cot': 'Since H is in the No.2 vegetable pond, and No.1 and No.6 are not adjacent, H cannot be in No.1 or No.6. This means that X must be in No.1 or No.3. Since No.3 is planted with Y or S, and L is planted right next to S, L cannot be in No.3. Therefore, L must be in No.4 or No.5. Since L is not in No.3, Y must be in No.3. This means that S must be in No.5.', 'cot_parsing': [{'statement': 'H is in No.2, so X must be in No.1 or No.3.', 'evidence': 'No.1 and No.6 are not adjacent, and H is in No.2.', 'Verification': 'true'}, {'statement': 'Since No.3 is planted with Y or S, L cannot be in No.3.', 'evidence': 'L is planted right next to S.', 'Verification': 'true'}, {'statement': 'Therefore, L must be in No.4 or No.5.', 'evidence': 'L cannot be in No.3.', 'Verification': 'true'}, {'statement': 'Since Y must be in No.3, S must be in No.5.', 'evidence': 'Y and S must be together, and L is not in No.3.', 'Verification': 'true'}]}\n",
      "[\"There are three girls: Fang Rufen, Guo Yanran, He Zhilian\", \"There are five boys: Peng Youwen, Qiu Zhijie, Ren Xiangyang, Song Wenkai, Tang Xiaohua\", \"The group needs two girls and three boys\", \"Conditions: (1) Guo Yanran and Tang Xiaohua are not selected at the same time\", \"(2) Peng Youwen and Song Wenkai are not selected at the same time\", \"(3) Qiu Zhijie and Tang Xiaohua are not selected at the same time\"]\n",
      "[{'statement': 'If Guo Yanran is selected, then Tang Xiaohua cannot be selected.', 'evidence': 'Condition 1: Guo Yanran and Tang Xiaohua are not selected at the same time.', 'Verification': 'true'}, {'statement': 'At least one of Peng Youwen or Song Kaiwen must be selected.', 'evidence': 'Condition 2: Peng Youwen and Song Kaiwen are not selected at the same time.', 'Verification': 'true'}, {'statement': 'Qiu Zhijie can be selected since Tang Xiaohua is not selected.', 'evidence': 'Condition 3: Qiu Zhijie and Tang Xiaohua are not selected at the same time.', 'Verification': 'true'}]\n",
      "{'question': 'A certain class intends to select two of three girls from Fang Rufen, Guo Yanran, He Zhilian, and three from five male students such as Peng Youwen, Qiu Zhijie, Ren Xiangyang, Song Wenkai, Tang Xiaohua to form a five-person support group for college students to volunteer teaching in the mountains.Requirements? (1) Guo Yanran and Tang Xiaohua are not selected at the same time; (2) Peng Youwen and Song Kaiwen are not selected at the same time; (3) Qiu Zhijie and Tang Xiaohua are not selected at the same time.\\nWhich of the following must be selected?\\nA.Fang Rufen\\nB.Guo Yanran\\nC.Song Kaiwen\\nD.Ren Xiangyang', 'question_parsing': ['There are three girls: Fang Rufen, Guo Yanran, He Zhilian', 'There are five boys: Peng Youwen, Qiu Zhijie, Ren Xiangyang, Song Wenkai, Tang Xiaohua', 'The group needs two girls and three boys', 'Conditions: (1) Guo Yanran and Tang Xiaohua are not selected at the same time', '(2) Peng Youwen and Song Wenkai are not selected at the same time', '(3) Qiu Zhijie and Tang Xiaohua are not selected at the same time'], 'answer': 'd', 'id': 32, 'sel_idx': 78, 'cot': \"We need to find the must-selected students. Let's analyze the given conditions:\\n\\n1. Guo Yanran and Tang Xiaohua are not selected at the same time.\\n2. Peng Youwen and Song Kaiwen are not selected at the same time.\\n3. Qiu Zhijie and Tang Xiaohua are not selected at the same time.\\n\\nFrom condition 1, we know that either Guo Yanran or Tang Xiaohua must be selected. Let's assume Guo Yanran is selected. Then, Tang Xiaohua cannot be selected, and we have 2 girls and 4 boys left.\\n\\nFrom condition 2, we know that Peng Youwen and Song Kaiwen are not selected at the same time. This means that at least one of them must be selected.\\n\\nFrom condition 3, we know that Qiu Zhijie and Tang Xiaohua are not selected at the same time. Since Tang Xiaohua is not selected, Qiu Zhijie can be selected.\", 'cot_parsing': [{'statement': 'If Guo Yanran is selected, then Tang Xiaohua cannot be selected.', 'evidence': 'Condition 1: Guo Yanran and Tang Xiaohua are not selected at the same time.', 'Verification': 'true'}, {'statement': 'At least one of Peng Youwen or Song Kaiwen must be selected.', 'evidence': 'Condition 2: Peng Youwen and Song Kaiwen are not selected at the same time.', 'Verification': 'true'}, {'statement': 'Qiu Zhijie can be selected since Tang Xiaohua is not selected.', 'evidence': 'Condition 3: Qiu Zhijie and Tang Xiaohua are not selected at the same time.', 'Verification': 'true'}]}\n",
      "[\"Six members: F, G, H, I, M, P\", \"Each member in at least one of three sub-committees\", \"Each sub-committee has three different members\", \"One member serves on three sub-committees\", \"F not a member of the same sub-committee as G\", \"H not a member of the same sub-committee as I\"]\n",
      "[{'statement': 'F must serve on three subcommittees because the other members cannot.', 'evidence': 'Rule 4: F can be on at most three subcommittees.', 'Verification': 'true'}, {'statement': 'Either H or I must serve on one subcommittee.', 'evidence': 'Rule 2: H and I cannot be on the same subcommittee.', 'Verification': 'true'}]\n",
      "{'question': 'A street comprehensive governance committee has 6 members? F, G, H, I, M and P.Each of these members must be a member of at least one of the three sub-committees under the Comprehensive Governance Committee.Each sub-committee is composed of 3 different members.The known information is as follows? one of the six members serves as a member of three subcommittees.F is not a member of the same subcommittee as G.H is not a member of the same subcommittee as I.\\nWhich of the following statements must be true?\\nA.One of F or G is a member of three subcommittees.\\nB.One of H or I is a member of three subcommittees.\\nC.P or M only serve on one subcommittee.\\nD.One member happens to be a member of the two subcommittees.', 'question_parsing': ['Six members: F, G, H, I, M, P', 'Each member in at least one of three sub-committees', 'Each sub-committee has three different members', 'One member serves on three sub-committees', 'F not a member of the same sub-committee as G', 'H not a member of the same sub-committee as I'], 'answer': 'd', 'id': 493, 'sel_idx': 493, 'cot': 'Since one of the six members serves as a member of three subcommittees, and F is not a member of the same subcommittee as G, F must be this member. Since H is not a member of the same subcommittee as I, H and I cannot both be members of three subcommittees. Therefore, either H or I must be a member of one subcommittee, and the other must be a member of two subcommittees.', 'cot_parsing': [{'statement': 'F must serve on three subcommittees because the other members cannot.', 'evidence': 'Rule 4: F can be on at most three subcommittees.', 'Verification': 'true'}, {'statement': 'Either H or I must serve on one subcommittee.', 'evidence': 'Rule 2: H and I cannot be on the same subcommittee.', 'Verification': 'true'}]}\n",
      "[\"There are five teams: Shannan, Jiangbei, Shanbei, Jiangnan.\", \"The champion is either the Shannan team or the Jiangbei team.\", \"The champion is neither Shanbei nor Jiangnan.\", \"The champion is Jiangnan Team.\", \"The champion is not the Shannan team.\", \"Only one argument is correct.\"]\n",
      "[{'statement': 'The champion is either the Shannan team or the Jiangbei team.', 'evidence': 'Statement (1)', 'Verification': 'true'}, {'statement': 'The champion is neither Shanbei nor Jiangnan.', 'evidence': 'Statement (2)', 'Verification': 'true'}, {'statement': 'The champion is Jiangnan Team.', 'evidence': 'Statement (3)', 'Verification': 'false'}, {'statement': 'The champion is not the Shannan team.', 'evidence': 'Statement (4)', 'Verification': 'true'}]\n",
      "{'question': 'There are five teams participating in the game.The audience had the following comments on the results? (1) The champion is either the Shannan team or the Jiangbei team.(2) The champion is neither Shanbei nor Jiangnan.(3) The champion is Jiangnan Team.(4) The champion is not the Shannan team.\\nThe result of the match showed that only one argument was correct, so who won the championship?\\nA Shannan\\nB Jiangnan\\nC Shanbei\\nD Jiangbei', 'question_parsing': ['There are five teams: Shannan, Jiangbei, Shanbei, Jiangnan.', 'The champion is either the Shannan team or the Jiangbei team.', 'The champion is neither Shanbei nor Jiangnan.', 'The champion is Jiangnan Team.', 'The champion is not the Shannan team.', 'Only one argument is correct.'], 'answer': 'C', 'id': 441, 'sel_idx': 441, 'cot': \"Let's analyze the given statements:\\n(1) The champion is either the Shannan team or the Jiangbei team.\\n(2) The champion is neither Shanbei nor Jiangnan.\\n(3) The champion is Jiangnan Team.\\n(4) The champion is not the Shannan team.\\nFrom statement (1), we know the champion is either Shannan or Jiangbei.\\n\\nFrom statement (2), we know the champion is not Shanbei or Jiangnan.\\nFrom statement (3), we know the champion is Jiangnan.\\nFrom statement (4), we know the champion is not Shannan.\\nCombining these statements, we can conclude that the champion is Jiangnan, as it is the only team that satisfies all the conditions.\", 'cot_parsing': [{'statement': 'The champion is either the Shannan team or the Jiangbei team.', 'evidence': 'Statement (1)', 'Verification': 'true'}, {'statement': 'The champion is neither Shanbei nor Jiangnan.', 'evidence': 'Statement (2)', 'Verification': 'true'}, {'statement': 'The champion is Jiangnan Team.', 'evidence': 'Statement (3)', 'Verification': 'false'}, {'statement': 'The champion is not the Shannan team.', 'evidence': 'Statement (4)', 'Verification': 'true'}]}\n",
      "[\"(1) If statement A is retained, then statement B and statement C must be retained.\", \"(2) If statement E is retained, statement D and statement C must be deleted at the same time.\", \"(3) Statement F can only be retained if statement E is retained.\", \"(4) Statement A is important information and cannot be deleted.\", \"What must be true?\"]\n",
      "[{'statement': 'If statement E is retained, then statement C must be deleted.', 'evidence': 'Condition (2) states that if statement E is retained, then statements D and C must be deleted.', 'Verification': 'true'}, {'statement': 'If statement F is retained, then statement E must be retained.', 'evidence': 'Condition (3) states that statement F can only be retained if statement E is retained.', 'Verification': 'true'}]\n",
      "{'question': 'There are six statements A.B, C, D, E, and F in a database, but this database is currently uncoordinated, and certain statements must be deleted to restore the coordination of the database.Known? (1) If statement A is retained, then statement B and statement C must be retained.(2) If statement E is retained, statement D and statement C must be deleted at the same time.(3) Statement F can only be retained if statement E is retained.(4) Statement A is important information and cannot be deleted.\\nIf the above items are true, which of the following must be true?\\nA.Keep statement E and delete statement C.\\nB.At the same time retain the statement C and statement D.\\nC.Keep statement E and delete statement D.\\nD.Delete statement E and statement F at the same time.', 'question_parsing': ['(1) If statement A is retained, then statement B and statement C must be retained.', '(2) If statement E is retained, statement D and statement C must be deleted at the same time.', '(3) Statement F can only be retained if statement E is retained.', '(4) Statement A is important information and cannot be deleted.', 'What must be true?'], 'answer': 'd', 'id': 217, 'sel_idx': 217, 'cot': \"We need to analyze the given conditions to determine which statements must be true. From condition (1), we know that if statement A is retained, then statements B and C must be retained. From condition (2), we know that if statement E is retained, then statements D and C must be deleted at the same time. From condition (3), we know that statement F can only be retained if statement E is retained. From condition (4), we know that statement A is important information and cannot be deleted. Since we have analyzed the conditions, we can now make some conclusions. We know that statement A is important and cannot be deleted (condition 4). We also know that if statement A is retained, then statements B and C must be retained (condition 1). This means that statements B and C must be retained. \\nNow, let's consider the relationship between statements E, D, and C. From condition (2), we know that if statement E is retained, then statements D and C must be deleted at the same time. This means that if statement E is retained, statement C must be deleted. \\nFrom condition (3), we know that statement F can only be retained if statement E is retained. This means that if statement F is retained, statement E must also be retained. \\nNow, we can conclude that if statement E is retained, then statement C must be deleted, and if statement F is retained, then statement E must be retained. This means that statement E and statement F are related, and we cannot retain one without the other. \\n\\nBased on this analysis, we can conclude that if statement E is retained, then statement C must be deleted, and if statement F is retained, then statement E must be retained.\", 'cot_parsing': [{'statement': 'If statement E is retained, then statement C must be deleted.', 'evidence': 'Condition (2) states that if statement E is retained, then statements D and C must be deleted.', 'Verification': 'true'}, {'statement': 'If statement F is retained, then statement E must be retained.', 'evidence': 'Condition (3) states that statement F can only be retained if statement E is retained.', 'Verification': 'true'}]}\n"
     ]
    }
   ],
   "execution_count": null
  },
  {
   "metadata": {
    "ExecuteTime": {
     "end_time": "2025-06-03T17:04:08.601614Z",
     "start_time": "2025-06-03T17:04:08.596281Z"
    }
   },
   "cell_type": "code",
   "source": "len(results)",
   "id": "7095b0587e38fe59",
   "outputs": [
    {
     "data": {
      "text/plain": [
       "24"
      ]
     },
     "execution_count": 62,
     "metadata": {},
     "output_type": "execute_result"
    }
   ],
   "execution_count": 62
  },
  {
   "metadata": {
    "ExecuteTime": {
     "end_time": "2025-06-03T17:04:36.864317Z",
     "start_time": "2025-06-03T17:04:36.848734Z"
    }
   },
   "cell_type": "code",
   "source": [
    "data_combined = load_all_json_files(folder_path='./data/comparison/gpt_one_call')\n",
    "save_json(data_combined, \"./data/comparison/gpt_one_call-combined.json\")"
   ],
   "id": "4a1509504440fef7",
   "outputs": [
    {
     "name": "stdout",
     "output_type": "stream",
     "text": [
      "Loaded 24 JSON files from ./data/comparison/gpt_one_call\n"
     ]
    },
    {
     "data": {
      "text/plain": [
       "True"
      ]
     },
     "execution_count": 63,
     "metadata": {},
     "output_type": "execute_result"
    }
   ],
   "execution_count": 63
  },
  {
   "metadata": {
    "ExecuteTime": {
     "end_time": "2025-06-03T16:12:59.640337Z",
     "start_time": "2025-06-03T16:12:59.636433Z"
    }
   },
   "cell_type": "code",
   "source": [
    "lines = string_data.split('\\n')\n",
    "string_data = completion.choices[0].message.content.replace('\\'', '\"')\n",
    "\n",
    "json.loads(string_data)"
   ],
   "id": "da68e5b92c638fb1",
   "outputs": [],
   "execution_count": 8
  },
  {
   "metadata": {},
   "cell_type": "code",
   "outputs": [],
   "execution_count": null,
   "source": "",
   "id": "2a22d902f2f58144"
  }
 ],
 "metadata": {
  "kernelspec": {
   "display_name": ".venv-nlp-project",
   "language": "python",
   "name": ".venv-nlp-project"
  },
  "language_info": {
   "codemirror_mode": {
    "name": "ipython",
    "version": 2
   },
   "file_extension": ".py",
   "mimetype": "text/x-python",
   "name": "python",
   "nbconvert_exporter": "python",
   "pygments_lexer": "ipython2",
   "version": "2.7.6"
  }
 },
 "nbformat": 4,
 "nbformat_minor": 5
}
