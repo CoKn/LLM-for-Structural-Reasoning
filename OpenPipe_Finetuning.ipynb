{
 "cells": [
  {
   "metadata": {},
   "cell_type": "markdown",
   "source": "## Data Transformation and Finetuning with OpenPipe",
   "id": "6538db123adabdb0"
  },
  {
   "cell_type": "code",
   "id": "initial_id",
   "metadata": {
    "collapsed": true,
    "ExecuteTime": {
     "end_time": "2025-06-03T17:43:44.016778Z",
     "start_time": "2025-06-03T17:43:42.262124Z"
    }
   },
   "source": [
    "import json\n",
    "import random\n",
    "\n",
    "from argon2.low_level import error_to_str\n",
    "from openpipe import OpenAI\n",
    "from prompts.prompts import qp_system_prompt, cp_system_prompt, qp_system_prompt_sudoku, cp_system_prompt_sudoku\n",
    "from utils.save_and_load_json import load_all_json_files, save_jsonl, save_json\n",
    "from utils.transfrom_data_for_finetuing import split_dataset, format_qp_for_openpipe_finetuning, format_cp_for_openpipe_finetuning\n",
    "\n",
    "# load in datasets\n",
    "logic701 = load_all_json_files(folder_path='./data/train/raw')\n",
    "gpt_one_call = load_all_json_files(folder_path='./data/synthetic/processed/gpt_one_call')\n",
    "gpt_two_calls = load_all_json_files(folder_path='./data/synthetic/processed/gpt_two_calls')\n",
    "sudoku = load_all_json_files(folder_path='./data/synthetic/processed/sudoku_4x4')"
   ],
   "outputs": [
    {
     "name": "stdout",
     "output_type": "stream",
     "text": [
      "Loaded 1 JSON files from ./data/train/raw\n",
      "Loaded 1 JSON files from ./data/synthetic/processed/gpt_one_call\n",
      "Loaded 1 JSON files from ./data/synthetic/processed/gpt_two_calls\n",
      "Loaded 1 JSON files from ./data/synthetic/processed/sudoku_4x4\n"
     ]
    }
   ],
   "execution_count": 1
  },
  {
   "metadata": {
    "ExecuteTime": {
     "end_time": "2025-06-03T17:43:44.038116Z",
     "start_time": "2025-06-03T17:43:44.026776Z"
    }
   },
   "cell_type": "code",
   "source": [
    "# Set seed for reproducibility\n",
    "random.seed(42)\n",
    "\n",
    "# Get 250 random samples\n",
    "logic701_samples = random.sample(logic701[0], 250)\n",
    "sudoku_samples = random.sample(sudoku[0], 250)\n",
    "gpt_one_call_samples = random.sample(gpt_one_call[0], 250)\n",
    "gpt_two_call_samples = random.sample(gpt_two_calls[0], 250)\n",
    "\n",
    "print('verifying dataset len samples:')\n",
    "print(len(logic701_samples))\n",
    "print(len(sudoku_samples))\n",
    "print(len(gpt_one_call_samples))\n",
    "print(len(gpt_two_call_samples))\n",
    "\n",
    "# create qp and cp splits\n",
    "logic701_samples_qp, logic701_samples_cp = split_dataset(logic701_samples)\n",
    "sudoku_samples_qp, sudoku_samples_cp = split_dataset(sudoku_samples)\n",
    "gpt_one_call_samples_qp, gpt_one_call_samples_cp = split_dataset(gpt_one_call_samples)\n",
    "gpt_two_call_samples_qp, gpt_two_call_samples_cp = split_dataset(gpt_two_call_samples)\n",
    "\n",
    "print('verifying dataset len for qp and cp:')\n",
    "for dataset in [logic701_samples_qp, logic701_samples_cp, sudoku_samples_qp, sudoku_samples_cp, gpt_one_call_samples_qp, gpt_two_call_samples_qp, gpt_two_call_samples_cp]: print(len(dataset))"
   ],
   "id": "bbdb9f7e733c1636",
   "outputs": [
    {
     "name": "stdout",
     "output_type": "stream",
     "text": [
      "verifying dataset len samples:\n",
      "250\n",
      "250\n",
      "250\n",
      "250\n",
      "verifying dataset len for qp and cp:\n",
      "250\n",
      "250\n",
      "250\n",
      "250\n",
      "250\n",
      "250\n",
      "250\n"
     ]
    }
   ],
   "execution_count": 2
  },
  {
   "metadata": {
    "ExecuteTime": {
     "end_time": "2025-06-03T17:43:44.922309Z",
     "start_time": "2025-06-03T17:43:44.824606Z"
    }
   },
   "cell_type": "code",
   "source": [
    "# format data into OpenAI finetuning format for OpenPipe\n",
    "logic701_formatted_qp = format_qp_for_openpipe_finetuning(logic701_samples_qp, system_prompt=qp_system_prompt)\n",
    "logic701_formatted_cp = format_cp_for_openpipe_finetuning(logic701_samples_cp, system_prompt=cp_system_prompt)\n",
    "\n",
    "sudoku_formatted_qp = format_qp_for_openpipe_finetuning(sudoku_samples_qp, system_prompt=qp_system_prompt)\n",
    "sudoku_formatted_cp = format_cp_for_openpipe_finetuning(sudoku_samples_cp, system_prompt=cp_system_prompt)\n",
    "\n",
    "gpt_one_call_formatted_qp = format_qp_for_openpipe_finetuning(gpt_one_call_samples_qp, system_prompt=qp_system_prompt)\n",
    "gpt_one_call_formatted_cp = format_cp_for_openpipe_finetuning(gpt_one_call_samples_cp, system_prompt=cp_system_prompt)\n",
    "\n",
    "gpt_two_call_formatted_qp = format_qp_for_openpipe_finetuning(gpt_two_call_samples_qp, system_prompt=qp_system_prompt)\n",
    "gpt_two_call_formatted_cp = format_cp_for_openpipe_finetuning(gpt_two_call_samples_cp, system_prompt=cp_system_prompt)\n",
    "\n",
    "# save data as jsonl\n",
    "save_jsonl(logic701_formatted_qp, \"./data/synthetic/finetuning/logic701_finetuning_qp.jsonl\")\n",
    "save_jsonl(logic701_formatted_cp, \"./data/synthetic/finetuning/logic701_finetuning_cp.jsonl\")\n",
    "\n",
    "save_jsonl(sudoku_formatted_qp, \"./data/synthetic/finetuning/sudoku_finetuning_qp.jsonl\")\n",
    "save_jsonl(sudoku_formatted_cp, \"./data/synthetic/finetuning/sudoku_finetuning_cp.jsonl\")\n",
    "\n",
    "save_jsonl(gpt_one_call_formatted_qp, \"./data/synthetic/finetuning/gpt_one_call_finetuning_qp.jsonl\")\n",
    "save_jsonl(gpt_one_call_formatted_cp, \"./data/synthetic/finetuning/gpt_one_call_finetuning_cp.jsonl\")\n",
    "\n",
    "save_jsonl(gpt_two_call_formatted_qp, \"./data/synthetic/finetuning/gpt_two_call_finetuning_qp.jsonl\")\n",
    "save_jsonl(gpt_two_call_formatted_cp, \"./data/synthetic/finetuning/gpt_two_call_finetuning_cp.jsonl\")"
   ],
   "id": "5aaa7dbd01f592b7",
   "outputs": [],
   "execution_count": 3
  },
  {
   "metadata": {
    "ExecuteTime": {
     "end_time": "2025-06-03T17:43:46.744802Z",
     "start_time": "2025-06-03T17:43:46.488828Z"
    }
   },
   "cell_type": "code",
   "source": [
    "import os\n",
    "from openpipe import OpenAI\n",
    "from dotenv import load_dotenv\n",
    "\n",
    "# Load api key\n",
    "load_dotenv()\n",
    "open_pipe = os.getenv(\"structural-reasoning\")\n",
    "\n",
    "client = OpenAI(openpipe={\"api_key\": f\"{open_pipe}\"})"
   ],
   "id": "1132f7ff3b17a5aa",
   "outputs": [],
   "execution_count": 4
  },
  {
   "metadata": {
    "ExecuteTime": {
     "end_time": "2025-06-03T17:43:47.401216Z",
     "start_time": "2025-06-03T17:43:47.393424Z"
    }
   },
   "cell_type": "code",
   "source": [
    "# load test data\n",
    "with open('./data/test/test-reference.json', 'r') as f:\n",
    "    test_data = json.load(f)\n",
    "\n",
    "test_qp, test_cp = split_dataset(test_data)"
   ],
   "id": "c1f5e2cb9d635298",
   "outputs": [],
   "execution_count": 5
  },
  {
   "metadata": {
    "ExecuteTime": {
     "end_time": "2025-06-03T17:43:48.962498Z",
     "start_time": "2025-06-03T17:43:48.952839Z"
    }
   },
   "cell_type": "code",
   "source": "test_cp[0]",
   "id": "59bab6bf62c318ae",
   "outputs": [
    {
     "data": {
      "text/plain": [
       "{'answer': 'b',\n",
       " 'id': 162,\n",
       " 'cot': \"Since G goes to the United States, we need to analyze the conditions that follow. Condition (1) is not applicable since G is going to the US. Condition (2) is also not applicable since L's destination is not specified. Condition (3) does not provide any information about H, M, U, or W. Condition (4) states that U's destination is different from G's, which is the US, so U must go to the UK. Condition (5) is not applicable since Z's destination is not specified.\",\n",
       " 'cot_parsing': [{'statement': 'Condition (1) is not applicable',\n",
       "   'evidence': 'Condition (1): If G goes to the UK, then H To the United States. | G is going to the US',\n",
       "   'Verification': 'false'},\n",
       "  {'statement': 'Condition (2) is also not applicable',\n",
       "   'evidence': \"Condition (2): If L goes to the UK, both M and U go to the US. | L's destination is not specified\",\n",
       "   'Verification': 'false'},\n",
       "  {'statement': 'Condition (3) does not provide any information about H, M, U, or W',\n",
       "   'evidence': 'Condition (3): The country W went to was different from the country Z went to.',\n",
       "   'Verification': 'false'},\n",
       "  {'statement': 'U must go to the UK',\n",
       "   'evidence': \"Condition (4): The country where U goes is different from the country where G goes. | Condition (4) states that U's destination is different from G's, which is the US\",\n",
       "   'Verification': 'true'},\n",
       "  {'statement': 'Condition (5) is not applicable',\n",
       "   'evidence': \"Condition (5): If Z goes to the UK, then H also goes to the UK. | Z's destination is not specified\",\n",
       "   'Verification': 'true'}],\n",
       " 'sel_idx': 92}"
      ]
     },
     "execution_count": 6,
     "metadata": {},
     "output_type": "execute_result"
    }
   ],
   "execution_count": 6
  },
  {
   "metadata": {
    "ExecuteTime": {
     "end_time": "2025-06-03T17:43:51.259341Z",
     "start_time": "2025-06-03T17:43:51.251305Z"
    }
   },
   "cell_type": "code",
   "source": [
    "# Run inference pipeline\n",
    "# Format question data\n",
    "content_formated_question = format_qp_for_openpipe_finetuning(test_qp, system_prompt=qp_system_prompt)\n",
    "content_questions = [item[\"messages\"][1][\"content\"] for item in content_formated_question]\n",
    "\n",
    "# Format CoT data\n",
    "content_formated_cot = format_cp_for_openpipe_finetuning(test_cp, system_prompt=cp_system_prompt)\n",
    "content_cots = [item[\"messages\"][1][\"content\"] for item in content_formated_cot]"
   ],
   "id": "b94450c569ea7bad",
   "outputs": [],
   "execution_count": 7
  },
  {
   "metadata": {
    "ExecuteTime": {
     "end_time": "2025-06-03T17:37:58.853439Z",
     "start_time": "2025-06-03T17:37:58.841712Z"
    }
   },
   "cell_type": "code",
   "source": [
    "def run_pipeline(test_qp, test_cp, content_question,  content_cot, model_qp, model_cp):\n",
    "    puzzle = {\n",
    "            \"question\": test_qp['question'],\n",
    "            \"question_parsing\": None,\n",
    "            \"answer\": test_cp['answer'],\n",
    "            \"id\": test_cp['id'],\n",
    "            \"sel_idx\": test_cp['sel_idx'],\n",
    "            \"cot\": test_cp['cot'],\n",
    "            \"cot_parsing\": None\n",
    "                }\n",
    "\n",
    "    try:\n",
    "        completion_qp = client.chat.completions.create(\n",
    "            model=model_qp,\n",
    "            messages=[\n",
    "                {\n",
    "                    \"role\": \"system\",\n",
    "                    \"content\": qp_system_prompt\n",
    "                },\n",
    "                {\n",
    "                    \"role\": \"user\",\n",
    "                    \"content\": content_question\n",
    "                }\n",
    "            ],\n",
    "            temperature=0\n",
    "        )\n",
    "\n",
    "        string_data = completion_qp.choices[0].message.content.replace('\\'', '\"')\n",
    "        print(string_data)\n",
    "        puzzle[\"question_parsing\"] = json.loads(string_data)\n",
    "\n",
    "        completion_cp = client.chat.completions.create(\n",
    "            model=model_cp,\n",
    "            messages=[\n",
    "                {\n",
    "                    \"role\": \"system\",\n",
    "                    \"content\": cp_system_prompt\n",
    "                },\n",
    "                {\n",
    "                    \"role\": \"user\",\n",
    "                    \"content\": content_cot\n",
    "                }\n",
    "            ],\n",
    "            temperature=0\n",
    "        )\n",
    "\n",
    "        print(completion_cp.choices[0].message.content)\n",
    "        puzzle[\"cot_parsing\"] = json.loads(completion_cp.choices[0].message.content)\n",
    "        return puzzle\n",
    "    except Exception as e:\n",
    "        print(f\"Error occurred: {e}\")\n",
    "        return None, None"
   ],
   "id": "f3cdc075b534181",
   "outputs": [],
   "execution_count": 8
  },
  {
   "metadata": {
    "ExecuteTime": {
     "end_time": "2025-06-03T17:30:27.132185Z",
     "start_time": "2025-06-03T17:28:23.927872Z"
    }
   },
   "cell_type": "code",
   "source": [
    "name = 'gpt-two-call'  # 'logic701', gpt_one_call, gpt_two_calls, sudoku\n",
    "results = []\n",
    "error_n = 0\n",
    "errors = []\n",
    "for idx in range(len(test_data)):\n",
    "    try:\n",
    "        result = run_pipeline(test_qp[idx],\n",
    "                              test_cp[idx],\n",
    "                              content_question=content_questions[idx],\n",
    "                              content_cot=content_cots[idx],\n",
    "                              model_qp='openpipe:gpt-two-call-finetuning-cp',\n",
    "                              model_cp='openpipe:gpt-two-call-finetuning-cp')\n",
    "        results.append(result)\n",
    "        # break\n",
    "        # print(result)\n",
    "        save_json(result, \"./data/comparison/gpt-two-call/result-{}-{}.json\".format(idx, name))\n",
    "    except Exception as e:\n",
    "        print(f\"Error occurred: {e} at index {idx}\")\n",
    "        error_n += 1\n",
    "        errors.append(idx)"
   ],
   "id": "b08af93da0785111",
   "outputs": [
    {
     "name": "stdout",
     "output_type": "stream",
     "text": [
      "[{\"Brief description of objects and setup\": \"7 students G, H, L, M, U, W, Z; each goes to either UK or US\"}, {\"Rule 1 in simplified form\": \"If G goes to UK, H goes to US\"}, {\"Rule 2 in simplified form\": \"If L goes to UK, M and U go to US\"}, {\"Rule 3 in simplified form\": \"W and Z go to different countries\"}, {\"Rule 4 in simplified form\": \"U goes to different country than G\"}, {\"Rule 5 in simplified form\": \"If Z goes to UK, H goes to UK\"}, {\"Condition to evaluate\": \"G goes to US; must be true\"}], {\"[\\\"If G goes to US, then by rule 4, U must go to UK. Therefore, option D W goes to America must be true.\\\"]\": \"true\"}\n",
      "Error occurred: Extra data: line 1 column 499 (char 498)\n",
      "[{\"The six clear flower porcelains are S, Y, M, Q, K, X.\", \"Each piece has a different production time.\", \"Exhibitions are sorted from earliest to latest.\"], [\"M is older than X.\", \"If Y is earlier than M, then Q is earlier than K and X.\", \"If M is older than Y, then K is older than Q and X.\", \"S\"s age is either earlier than Y or M, but not both.\"], [\"Q, M, S, K, Y, X\", \"Q, K, Y, M, X, S\", \"Y, S, M, X, Q, K\", \"M, K, S, Q, Y, X\"]\n",
      "Error occurred: Expecting ':' delimiter: line 1 column 58 (char 57)\n",
      "[{\"objects/entities\": \"Seven magicians: G, H, K, L, N, P, Q\"}, {\"Rule 1\": \"If G or H is in team 1, they must be in the front position\"}, {\"Rule 2\": \"If K is in team 2, he must be in the middle position\"}, {\"Rule 3\": \"If L is in team 1, he must be on team 1\"}, {\"Rule 4\": \"Neither P nor K can be in the same team as N\"}, {\"Rule 5\": \"P cannot be in the same team as Q\"}, {\"Rule 6\": \"If H is in team 2, Q is in the middle of team 1\"}, {\"Acceptable Arrangement\": \"G, K, P\"}]\n",
      "[{\"statement\": \"G is in the front.\", \"evidence\": \"If G or H is arranged to play, they must be in the front.\", \"Verification\": \"true\"}, {\"statement\": \"P is in the front.\", \"evidence\": \"P cannot be in the same team as N and P cannot be in the same team as Q. Since L is in the middle, P cannot be in the middle. Therefore, P must be in the front.\", \"Verification\": \"true\"}, {\"statement\": \"L is in the middle.\", \"evidence\": \"If L is scheduled to play, he must be on team 1. Since L is not in the front, he must be in the middle or back. Let's assume L is in the middle.\", \"Verification\": \"true\"}, {\"statement\": \"K is in the back.\", \"evidence\": \"If K is scheduled to play, he must be in the middle. Since L is already in the middle, K cannot be in the middle. Therefore, K must be in the back.\", \"Verification\": \"true\"}, {\"statement\": \"H is in team 2.\", \"evidence\": \"If H is in team 2, Q is in the middle of team 1. Since G is already in the front, H cannot be in team 1. Therefore, H must be in team 2.\", \"Verification\": \"true\"}, {\"statement\": \"Acceptable arrangement: Front - G, P; Middle - L; Back - K\", \"evidence\": \"The arrangement satisfies all conditions.\", \"Verification\": \"true\"}]\n",
      "[{\"Chinese students must go wherever foreign students go.\"}, {\"Wherever Chinese students go, foreign students must go.\"}, {\"John went to Xi\"an or Hangzhou, and Zhao Qiang went to Zhangjiajie.\"}, {\"Each person can only go to one place.\"}]\n",
      "Error occurred: Expecting ':' delimiter: line 1 column 59 (char 58)\n",
      "[{\"Brief description of objects and setup\": \"Seven people G, H, J, K, L, M, O go on a 4-day camping trip. Two people are on duty each day, with one person serving for two days. Conditions include placement rules for each person and constraints on duty arrangements.\"}, {\"Rule 1\": \"J must be on duty after H\"}, {\"Rule 2\": \"G must be on the same day as either J or O\"}, {\"Rule 3\": \"O is on duty on the third day\"}, {\"Rule 4\": \"K must be on duty on either the first or second day\"}, {\"Rule 5\": \"The person on duty for two days must be on the fourth day, not the third day\"}, {\"Rule 6\": \"Exactly one person is on duty for two days\"}]\n",
      "[{\"statement\": \"O must be on the third day.\", \"evidence\": \"Condition (4): O must be on the third day.\", \"Verification\": \"true\"}, {\"statement\": \"The person on duty for two days cannot be O.\", \"evidence\": \"Condition (2): The person on duty for two days must be on the fourth day, not the third day.\", \"Verification\": \"true\"}, {\"statement\": \"G must be on the same day as J.\", \"evidence\": \"Condition (3): G must be on the same day as one of J and O. Since O is on the third day, G must be on the same day as J.\", \"Verification\": \"true\"}, {\"statement\": \"H should be placed on day 1, and J on day 2.\", \"evidence\": \"Condition (5): J should be placed on the next day of duty H. Additionally, to meet constraints, H cannot be on the third day (as O must be), hence day 1.\", \"Verification\": \"true\"}, {\"statement\": \"G cannot be on duty for two days.\", \"evidence\": \"If G were on duty for two days, it would have to be on the fourth day, conflicting with O on the third day.\", \"Verification\": \"true\"}]\n",
      "[{\"E or F must have one person participate, but not both.\"}, {\"One of J or K will participate, but not both.\"}, {\"If J participates, then G participates.\"}, {\"Unless F participates, M does not participate.\"}, {\"The only absolutely necessary participation is of G in option B, because if J participates, then G must also participate. Thus, G must participate in every scenario involving J.\"}]\n",
      "Error occurred: Expecting ':' delimiter: line 1 column 59 (char 58)\n",
      "[{\"Brief description of objects and setup\": \"Seven employees (F, G, H, J, K, L, M) are divided into printing and binding groups with given conditions.\"}, {\"Rule 1: Each group has at least 3 employees\": \"Printing group: >=3, Binding group: >=3\"}, {\"Rule 2: F and K cannot be in the same group\": \"F in Printing => K in Binding, F in Binding => K in Printing\"}, {\"Rule 3: If K is in a group, J must also be in this group\": \"K in Printing => J in Printing, K in Binding => J in Binding\"}, {\"Rule 4: M is at least one of the members of these two groups\": \"M in Printing or M in Binding\"}, {\"Rule 5: At least one of the same employees in both groups\": \"Overlap: >=1\"}], {\"[M in Printing, M in Binding, G in Printing, G in Binding, H in Printing, H in Binding, L in Printing, L in Binding, F in Printing, F in Binding, J in Printing, J in Binding, K in Printing, K in Binding]\": \"Max Overlap: 6\"}]\n",
      "Error occurred: Extra data: line 1 column 663 (char 662)\n",
      "[{\"The six departments are on different floors.\", \"Each department occupies one floor.\"}, {\"HR and Sales are not on adjacent floors.\", \"HR and Sales have floors that are not next to each other.\"}, {\"Finance is directly above Planning.\", \"Finance is on the floor right above Planning.\"}, {\"Administration is above Planning but below HR.\", \"Admin is on a floor above Planning but below HR.\"}]\n",
      "Error occurred: Expecting ':' delimiter: line 1 column 49 (char 48)\n",
      "[{\"Brief description of objects and setup\": \"6 members (F, G, H, I, M, P) in the Comprehensive Governance Committee, each in at least one of 3 sub-committees\"}, {\"Rule 1\": \"One member serves on three sub-committees\"}, {\"Rule 2\": \"F is not in the same sub-committee as G\"}, {\"Rule 3\": \"H is not in the same sub-committee as I\"}, {\"Rule 4\": \"Each sub-committee has 3 different members\"}, {\"Simplified Conclusion\": \"D. At least 1 member of any sub-committee.\"}]\n",
      "[{\"statement\": \"Each member is a member of exactly one sub-committee.\", \"evidence\": \"Each member must be a member of at least one sub-committee, and with 3-member sub-committees, each member is uniquely assigned.\", \"Verification\": \"true\"}, {\"statement\": \"F is a member of two sub-committees with only one common member and the third sub-committee has three members.\", \"evidence\": \"Since F is in three sub-committees, this distribution is the only possibility.\", \"Verification\": \"true\"}, {\"statement\": \"H and I are not members of the same sub-committee.\", \"evidence\": \"This condition forces them into different sub-committees.\", \"Verification\": \"true\"}, {\"statement\": \"F is in a sub-committee with G and M, and H and I are in different sub-committees.\", \"evidence\": \"Given conditions restrict F's options, forcing it into a sub-committee with G and M.\", \"Verification\": \"true\"}]\n",
      "[{\"H is in No.2 vegetable pond.\", \"X cannot be in No.1, therefore X must be in No.6\"}, {\"L and S must be together, so they must be in either No.3 or No.5.\", \"Since No.3 is Y or S, L and S cannot be in No.3, therefore L and S are in No.5\"}, {\"Q is to the left of H, therefore Q must be in either No.1 or No.2.\", \"Since H is in No.2, Q must be in No.1\"}, {\"Given that N.1 and N.6 are not adjacent, X cannot be in N.1.\", \"Therefore X must be in N.6\"}]\n",
      "Error occurred: Expecting ':' delimiter: line 1 column 33 (char 32)\n",
      "[{\"Fang Rufen must be selected\"], [\"Guo Yanran must be selected\"], [\"Song Wenkai must be selected\"], [\"Ren Xiangyang must be selected\"]]\n",
      "Error occurred: Expecting ':' delimiter: line 1 column 32 (char 31)\n",
      "[{\"Brief description of objects and setup\": \"6 members (F, G, H, I, M, P) in the Comprehensive Governance Committee, each serving in at least one of three subcommittees.\"}, {\"Rule 1\": \"One member serves on three subcommittees.\"}, {\"Rule 2\": \"F and G cannot be on the same subcommittee.\"}, {\"Rule 3\": \"H and I cannot be on the same subcommittee.\"}, {\"Rule 4\": \"Each subcommittee has three different members.\"}, {\"Rule 5\": \"Each member serves on at least one subcommittee.\"}]\n",
      "[{\"statement\": \"F is a member of exactly three subcommittees.\", \"evidence\": \"Condition 5: One member serves on three subcommittees.\", \"Verification\": \"true\"}, {\"statement\": \"F and G cannot be members of the same subcommittee.\", \"evidence\": \"Condition 2: F is not a member of the same subcommittee as G.\", \"Verification\": \"true\"}, {\"statement\": \"H or I, but not both, serve on three subcommittees.\", \"evidence\": \"Condition 4: H is not a member of the same subcommittee as I.\", \"Verification\": \"true\"}]\n",
      "[{\"The champion is either the Shannan team or the Jiangbei team.\", \"Either Shannan or Jiangbei won\"}, {\"The champion is neither Shanbei nor Jiangnan.\", \"Shanbei and Jiangnan did not win\"}, {\"The champion is Jiangnan Team.\", \"Jiangnan won\"}, {\"The champion is not the Shannan team.\", \"Shannan did not win\"}]\n",
      "Error occurred: Expecting ':' delimiter: line 1 column 66 (char 65)\n",
      "[{\"statement A must be retained\"}, {\"if statement A is retained, then statements B and C must be retained\"}, {\"if statement E is retained, then statements D and C must be deleted\"}, {\"statement F can only be retained if statement E is retained\"}, {\"statement A is important information and cannot be deleted\"}], [{\"keep statement E and delete statement D\"}, {\"delete statement C\"}, {\"retain statement F only if statement E is retained\"}], {\"[keep statement E and delete statement D, delete statement C, retain statement F only if statement E is retained]\"}, {\"[keep statement E and delete statement D, delete statement C, retain statement F only if statement E is retained]\"}, {\"[keep statement E and delete statement D, delete statement C, retain statement F only if statement E is retained]\"}, {\"[keep statement E and delete statement D, delete statement C, retain statement F only if statement E is retained]\"}, {\"[keep statement E and delete statement D, delete statement C, retain statement F only if statement E is retained]\"}, {\"[keep statement E and delete statement D, delete statement C, retain statement F only if statement E is retained]\"}, {\"[keep statement E and delete statement D, delete statement C, retain statement F only if statement E is retained]\"}, {\"[keep statement E and delete statement D, delete statement C, retain statement F only if statement E is retained]\"}, {\"[keep statement E and delete statement D, delete statement C, retain statement F only if statement E is retained]\"}, {\"[keep statement E and delete statement D, delete statement C, retain statement F only if statement E is retained]\"}, {\"[keep statement E and delete statement D, delete statement C, retain statement F only if statement E is retained]\"}, {\"[keep statement E and delete statement D, delete statement C, retain statement F only if statement E is retained]\"}, {\"[keep statement E and delete statement D, delete statement C, retain statement F only if statement E is retained]\"}, {\"[keep statement E and delete statement D, delete statement C, retain statement F only if statement E is retained]\"}, {\"[keep statement E and delete statement D, delete statement C, retain statement F only if statement E is retained]\"}, {\"[keep statement E and delete statement D, delete statement C, retain statement F only if statement E is retained]\"}, {\"[keep statement E and delete statement D, delete statement C, retain statement F only if statement E is retained]\"}, {\"[keep statement E and delete statement D, delete statement C, retain statement F only if statement E is retained]\"}, {\"[keep statement E and delete statement D, delete statement C, retain statement F only if statement E is retained]\"}, {\"[keep statement E and delete statement D, delete statement C, retain statement F only if statement E is retained]\"}, {\"[keep statement E and delete statement D, delete statement C, retain statement F only if statement E is retained]\"}, {\"[keep statement E and delete statement D, delete statement C, retain statement F only if statement E is retained]\"}, {\"[keep statement E and delete statement D, delete statement C, retain statement F only if statement E is retained]\"}, {\"[keep statement E and delete statement D, delete statement C, retain statement F only if statement E is retained]\"}, {\"[keep statement E and delete statement D, delete statement C, retain statement F only if statement E is retained]\"}, {\"[keep statement E and delete statement D, delete statement C, retain statement F only if statement E is retained]\"}, {\"[keep statement E and delete statement D, delete statement C, retain statement F only if statement E is retained]\"}, {\"[keep statement E and delete statement D, delete statement C, retain statement F only if statement E is retained]\"}, {\"[keep statement E and delete statement D, delete statement C, retain statement F only if statement E is retained]\"}, {\"[keep statement E and delete statement D, delete statement C, retain statement F only if statement E is retained]\"}, {\"[keep statement E and delete statement D, delete statement C, retain statement F only if statement E is retained]\"}, {\"[keep statement E and delete statement D, delete statement C, retain statement F only if statement E is retained]\"}, {\"[keep statement E and delete statement D, delete statement C, retain statement F only if statement E is retained]\"}, {\"[keep statement E and delete statement D, delete statement C, retain statement F only if statement E is retained]\"}, {\"[keep statement E and delete statement D, delete statement C, retain statement F only if statement E is retained]\"}, {\"[keep statement E and delete statement D, delete statement C, retain statement F only if statement E is retained]\"}, {\"[keep statement E and delete statement D, delete statement C, retain statement F only if statement E is retained]\"}, {\"[keep statement E and delete statement D, delete statement C, retain statement F only if statement E is retained]\"}, {\"[keep statement E and delete statement D, delete statement C, retain statement F only if statement E is retained]\"}, {\"[keep statement E and delete statement D, delete statement C, retain statement F only if statement E is retained]\"}, {\"[keep statement E and delete statement D, delete statement C, retain statement F only if statement E is retained]\"}, {\"[keep statement E and delete statement D, delete statement C, retain statement F only if statement E is retained]\"}, {\"[keep statement E and delete statement D, delete statement C, retain statement F only if statement E is retained]\"}, {\"[keep statement E and delete statement D, delete statement C, retain statement F only if statement E is retained]\"}, {\"[keep statement E and delete statement D, delete statement C, retain statement F only if statement E is retained]\"}, {\"[keep statement E and delete statement D, delete statement C, retain statement F only if statement E is retained]\"}, {\"[keep statement E and delete statement D, delete statement C, retain statement F only if statement E is retained]\"}, {\"[keep statement E and delete statement D, delete statement C, retain statement F only if statement E is retained]\"}, {\"[keep statement E and delete statement D, delete statement C, retain statement F only if statement E is retained]\"}, {\"[keep statement E and delete statement D, delete statement C, retain statement F only if statement E is retained]\"}, {\"[keep statement E and delete statement D, delete statement C, retain statement F only if statement E is retained]\"}, {\"[keep statement E and delete statement D, delete statement C, retain statement F only if statement E is retained]\"}, {\"[keep statement E and delete statement D, delete statement C, retain statement F only if statement E is retained]\"}, {\"[keep statement E and delete statement D, delete statement C, retain statement F only if statement E is retained]\"}, {\"[keep statement E and delete statement D, delete statement C, retain statement F only if statement E is retained]\"}, {\"[keep statement E and delete statement D, delete statement C, retain statement F only if statement E is retained]\"}, {\"[keep statement E and delete statement D, delete statement C, retain statement F only if statement E is retained]\"}, {\"[keep statement E and delete statement D, delete statement C, retain statement F only if statement E is retained]\"}, {\"[keep statement E and delete statement D, delete statement C, retain statement F only if statement E is retained]\"}, {\"[keep statement E and delete statement D, delete statement C, retain statement F only if statement E is retained]\"}, {\"[keep statement E and delete statement D, delete statement C, retain statement F only if statement E is retained]\"}, {\"[keep statement E and delete statement D, delete statement C, retain statement F only if statement E is retained]\"}, {\"[keep statement E and delete statement D, delete statement C, retain statement F only if statement E is retained]\"}, {\"[keep statement E and delete statement D, delete statement C, retain statement F only if statement E is retained]\"}, {\"[keep statement E and delete statement D, delete statement C, retain statement F only if statement E is retained]\"}, {\"[keep statement E and delete statement D, delete statement C, retain statement F only if statement E is retained]\"}, {\"[keep statement E and delete statement D, delete statement C, retain statement F only if statement E is retained]\"}, {\"[keep statement E and delete statement D, delete statement C, retain statement F only if statement E is retained]\"}, {\"[keep statement E and delete statement D, delete statement C, retain statement F only if statement E is retained]\"}, {\"[keep statement E and delete statement D, delete statement C, retain statement F only if statement E is retained]\"}, {\"[keep statement E and delete statement D, delete statement C, retain statement F only if statement E is retained]\"}, {\"[keep statement E and delete statement D, delete statement C, retain statement F only if statement E is retained]\"}, {\"[keep statement E and delete statement D, delete statement C, retain statement F only if statement E is retained]\"}, {\"[keep statement E and delete statement D, delete statement C, retain statement F only if statement E is retained]\"}, {\"[keep statement E and delete statement D, delete statement C, retain statement F only if statement E is retained]\"}, {\"[keep statement E and delete statement D, delete statement C, retain statement F only if statement E is retained]\"}, {\"[keep statement E and delete statement D, delete statement C, retain statement F only if statement E is retained]\"}, {\"[keep statement E and delete statement D, delete statement C, retain statement F only if statement E is retained]\"}, {\"[keep statement E and delete statement D, delete statement C, retain statement F only if statement E is retained]\"}, {\"[keep statement E and delete statement D, delete statement C, retain statement F only if statement E is retained]\"}, {\"[keep statement E and delete statement D, delete statement C, retain statement F only if statement E is retained]\"}, {\"[keep statement E and delete statement D, delete statement C, retain statement F only if statement E is retained]\"}, {\"[keep statement E and delete statement D, delete statement C, retain statement F only if statement E is retained]\"}, {\"[keep statement E and delete statement D, delete statement C, retain statement F only if statement E is retained]\"}, {\"[keep statement E and delete statement D, delete statement C, retain statement F only if statement E is retained]\"}, {\"[keep statement E and delete statement D, delete statement C, retain statement F only if statement E is retained]\"}, {\"[keep statement E and delete statement D, delete statement C, retain statement F only if statement E is retained]\"}, {\"[keep statement E and delete statement D, delete statement C, retain statement F only if statement E is retained]\"}, {\"[keep statement E and delete statement D, delete statement C, retain statement F only if statement E is retained]\"}, {\"[keep statement E and delete statement D, delete statement C, retain statement F only if statement E is retained]\"}, {\"[keep statement E and delete statement D, delete statement C, retain statement F only if statement E is retained]\"}, {\"[keep statement E and delete statement D, delete statement C,0\n",
      "Error occurred: Expecting ':' delimiter: line 1 column 33 (char 32)\n",
      "[{\"F, H, L, M are in the printing group\"], [\"G, H, J are in the binding group\"], [\"F and K cannot be in the same group\"], [\"If K is in a group, J must also be in that group\"], [\"M is in at least one of the groups\"], [\"At least one member is in both groups\"], [\"K can replace L in the printing group without violating any conditions\"]](true)\n",
      "Error occurred: Expecting ':' delimiter: line 1 column 41 (char 40)\n",
      "[{\"objects\": \"6 people: G, H, K, L, P, S\"}, {\"rules\": [\"L and P must be on duty on the same day.\", \"G and H cannot be on duty on the same day.\", \"If K is on the first day of duty, then G is on the second day of duty.\", \"If S is on the third day of duty, then H is on the second day of duty.\"]}, {\"setup\": \"2 people per day for 3 days\"}, {\"constraint\": \"Each rule must be satisfied\"}, {\"solution\": \"No specific solution provided, options contain varied arrangements\"}]\n",
      "[{\"statement\": \"L and P are on duty on the same day.\", \"evidence\": \"Condition 1 explicitly states that L and P must be on duty on the same day.\", \"Verification\": \"true\"}, {\"statement\": \"G and H cannot be on duty on the same day.\", \"evidence\": \"Condition 2 states that G and H cannot be on duty on the same day.\", \"Verification\": \"true\"}, {\"statement\": \"If K is on the first day of duty, then G is on the second day of duty.\", \"evidence\": \"Condition 3 states that if K is on the first day of duty, then G is on the second day of duty.\", \"Verification\": \"true\"}, {\"statement\": \"If S is on the third day of duty, then H is on the second day of duty.\", \"evidence\": \"Condition 4 states that if S is on the third day of duty, then H is on the second day of duty.\", \"Verification\": \"true\"}, {\"statement\": \"Place L and P on the first day of duty.\", \"evidence\": \"Trying initial placements to satisfy condition 1.\", \"Verification\": \"true\"}, {\"statement\": \"Assign G and H to the second and third days such that they do not share the same day.\", \"evidence\": \"Combining condition 2 with initial placements of L and P.\", \"Verification\": \"true\"}, {\"statement\": \"Verify all conditions with the assigned duties.\", \"evidence\": \"Final check to ensure all conditions are satisfied.\", \"Verification\": \"true\"}]\n",
      "[{\"Brief description of objects and setup\": \"7 heart disease patients (E, F, G, H, I, J, K) and 4 doctors (Dr.Zhang, Dr.Li, Dr.Wang, Dr.Liu) with conditions on patient assignment.\"}, {\"Rule 1\": \"Dr.Zhang only treats males.\"}, {\"Rule 2\": \"Dr.Li treats exactly one patient.\"}, {\"Rule 3\": \"If a doctor treats a child, they must treat an adult of the same sex.\"}, {\"Rule 4\": \"J and K are children, males.\"}, {\"Rule 5\": \"E, F, and J are males; the others are females.\"}]\n",
      "[{\"statement\": \"Dr. Zhang treats either E or F.\", \"evidence\": \"Condition (3): If Dr. Zhang treats a child patient (J), they must also treat an adult male patient. Since J is male, Dr. Zhang must treat an adult male (either E or F).\", \"Verification\": \"true\"}, {\"statement\": \"Dr. Zhang treats male patients only.\", \"evidence\": \"Given constraint: Dr. Zhang only treats male patients.\", \"Verification\": \"true\"}, {\"statement\": \"J is a male child patient.\", \"evidence\": \"Given constraint: J is a male.\", \"Verification\": \"true\"}, {\"statement\": \"Dr. Zhang treats J and must treat an adult male patient.\", \"evidence\": \"Condition (3): Dr. Zhang treats child and must treat adult male (same sex).\", \"Verification\": \"true\"}]\n",
      "[{\"The late famous logician Jin Yuelin of China heard the words \"Money is like dung\" and \"Friends are worth a thousand dollars\" when he was a child, and found that there are logical problems because they can lead to the absurd conclusion of \"friends are like dung\".\"], [\"Since the conclusion of \"friends like dung\" is not true, it can be logically derived:\"], [\"If money is like dung, then friends are like dung.\"], [\"Therefore, the expression \"money is like dung\" must be false.\"], [\"Alternatively, if a friend is indeed worth a lot of money, then money is not like dung.\"], [\"Thus, the statement that \"friends are valuable\" is true.\"], [\"The words \"Money is like dung\" and \"Friends are worth a thousand dollars\" are either true or false.\"]]\n",
      "Error occurred: Expecting ':' delimiter: line 1 column 66 (char 65)\n",
      "[{\"Brief description of objects and setup\": \"7 candidates (F, G, H, I, W, X, Y) for 3 departments (Public Relations, Production, Sales)\"}, {\"Rule 1 in simplified form\": \"H and Y must be assigned to the same department\"}, {\"Rule 2 in simplified form\": \"F and G cannot be assigned to the same department\"}, {\"Rule 3 in simplified form\": \"If X is assigned to Sales, W is assigned to Production\"}, {\"Rule 4 in simplified form\": \"F must be assigned to Production\"}, {\"Analysis of each rule and its implications\": \"Rule 1 and Rule 2 create dependencies in department assignments, limiting combinations. Rule 3 and Rule 4 further restrict options by linking decisions.\"}, {\"Determination of unlikely sales pair\": \"Given constraints, specifically Rule 3, if X is in Sales, W must be in Production. This limits W\"s placement options. Among choices, (D) creates a situation where W, needing to be in Production due to Rule 3, being paired with H who must be with Y, creates a logistical nightmare for assignment without violating other rules.\"}]\n",
      "Error occurred: Expecting ',' delimiter: line 1 column 805 (char 804)\n",
      "[{\"F, G, L, K, H, M are singers, X, Y, W are piano accompanists.\"}, {\"If X is F accompaniment, then W is L accompaniment.\"}, {\"If X is not a G accompaniment, then Y is an M accompaniment.\"}, {\"X or Y is H accompaniment.\"}, {\"F and G do not share accompaniment; L and K do not share accompaniment; H and M do not share accompaniment.\"}, {\"X is an accompaniment to L and H.\"}, {\"Therefore, Y must be F accompaniment, as X is accompanying L and the condition X or Y is H accompaniment needs to be satisfied.\"}]\n",
      "Error occurred: Expecting ':' delimiter: line 1 column 66 (char 65)\n",
      "[{\"F, G, L, K, H, M\"}, {\"If W = F and M, then X can accompany either G and H or L and K\"}]\n",
      "Error occurred: Expecting ':' delimiter: line 1 column 21 (char 20)\n",
      "[{\"Brief description of objects and setup\": \"7 athletes (S, T, U, W, X, Y, Z) participate in the men\"s 5km finals. They wear either red or green costumes. No athletes finish at the same time.\"}, {\"Rule 1\": \"Athletes who finish in succession are not all red.\"}, {\"Rule 2\": \"Y finished before T and W.\"}, {\"Rule 3\": \"Two athletes before Y wear red.\"}, {\"Rule 4\": \"S is the sixth to finish.\"}, {\"Rule 5\": \"Z finishes before U.\"}, {\"Conclusions\": \"If three athletes wear green, then S must be green.\"}]\n",
      "Error occurred: Expecting ',' delimiter: line 1 column 102 (char 101)\n",
      "[{\"F, G, H, J, K, L, M are the employees.\"}, {\"Each group has at least 3 employees.\"}, {\"F and K cannot be in the same group.\"}, {\"If K is in a certain group, J must also be in this group.\"}, {\"M is at least one of the members of these two groups.\"}, {\"At least one of the same employees in both groups.\"}, {\"Both K and L are members of both groups.\"}, {\"The printing group has exactly three members.\"}, {\"Therefore, G must be in the printing group.\"}, {\"H and M must be in the binding group.\"}]\n",
      "Error occurred: Expecting ':' delimiter: line 1 column 43 (char 42)\n",
      "[{\"If I don\"t exist, then I don\"t think.\"}, {\"If I think, then life means nothing.\"}, {\"Life does not mean emptiness.\"}, {\"Therefore, I must exist.\"}]\n",
      "Error occurred: Expecting ':' delimiter: line 1 column 13 (char 12)\n"
     ]
    }
   ],
   "execution_count": 11
  },
  {
   "metadata": {
    "ExecuteTime": {
     "end_time": "2025-06-03T17:30:27.184466Z",
     "start_time": "2025-06-03T17:30:27.178413Z"
    }
   },
   "cell_type": "code",
   "source": "print(error_n)",
   "id": "7095b0587e38fe59",
   "outputs": [
    {
     "name": "stdout",
     "output_type": "stream",
     "text": [
      "0\n"
     ]
    }
   ],
   "execution_count": 12
  },
  {
   "metadata": {
    "ExecuteTime": {
     "end_time": "2025-06-03T17:11:44.261605Z",
     "start_time": "2025-06-03T17:11:44.235865Z"
    }
   },
   "cell_type": "code",
   "source": [
    "data_combined = load_all_json_files(folder_path='./data/comparison/gpt_one_call')\n",
    "save_json(data_combined, \"./data/comparison/sudoku-combined.json\")"
   ],
   "id": "4a1509504440fef7",
   "outputs": [
    {
     "name": "stdout",
     "output_type": "stream",
     "text": [
      "Loaded 21 JSON files from ./data/comparison/gpt_one_call\n"
     ]
    },
    {
     "data": {
      "text/plain": [
       "True"
      ]
     },
     "execution_count": 67,
     "metadata": {},
     "output_type": "execute_result"
    }
   ],
   "execution_count": 67
  },
  {
   "metadata": {
    "ExecuteTime": {
     "end_time": "2025-06-03T16:12:59.640337Z",
     "start_time": "2025-06-03T16:12:59.636433Z"
    }
   },
   "cell_type": "code",
   "source": [
    "lines = string_data.split('\\n')\n",
    "string_data = completion.choices[0].message.content.replace('\\'', '\"')\n",
    "\n",
    "json.loads(string_data)"
   ],
   "id": "da68e5b92c638fb1",
   "outputs": [],
   "execution_count": 8
  },
  {
   "metadata": {},
   "cell_type": "code",
   "outputs": [],
   "execution_count": null,
   "source": "",
   "id": "2a22d902f2f58144"
  }
 ],
 "metadata": {
  "kernelspec": {
   "display_name": ".venv-nlp-project",
   "language": "python",
   "name": ".venv-nlp-project"
  },
  "language_info": {
   "codemirror_mode": {
    "name": "ipython",
    "version": 2
   },
   "file_extension": ".py",
   "mimetype": "text/x-python",
   "name": "python",
   "nbconvert_exporter": "python",
   "pygments_lexer": "ipython2",
   "version": "2.7.6"
  }
 },
 "nbformat": 4,
 "nbformat_minor": 5
}
