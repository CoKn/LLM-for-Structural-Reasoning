{
 "cells": [
  {
   "metadata": {},
   "cell_type": "markdown",
   "source": "## Data Transformation and Finetuning with OpenPipe",
   "id": "6538db123adabdb0"
  },
  {
   "cell_type": "code",
   "id": "initial_id",
   "metadata": {
    "collapsed": true,
    "ExecuteTime": {
     "end_time": "2025-06-03T17:43:44.016778Z",
     "start_time": "2025-06-03T17:43:42.262124Z"
    }
   },
   "source": [
    "import json\n",
    "import random\n",
    "\n",
    "from argon2.low_level import error_to_str\n",
    "from openpipe import OpenAI\n",
    "from prompts.prompts import qp_system_prompt, cp_system_prompt, qp_system_prompt_sudoku, cp_system_prompt_sudoku\n",
    "from utils.save_and_load_json import load_all_json_files, save_jsonl, save_json\n",
    "from utils.transfrom_data_for_finetuing import split_dataset, format_qp_for_openpipe_finetuning, format_cp_for_openpipe_finetuning\n",
    "\n",
    "# load in datasets\n",
    "logic701 = load_all_json_files(folder_path='./data/train/raw')\n",
    "gpt_one_call = load_all_json_files(folder_path='./data/synthetic/processed/gpt_one_call')\n",
    "gpt_two_calls = load_all_json_files(folder_path='./data/synthetic/processed/gpt_two_calls')\n",
    "sudoku = load_all_json_files(folder_path='./data/synthetic/processed/sudoku_4x4')"
   ],
   "outputs": [
    {
     "name": "stdout",
     "output_type": "stream",
     "text": [
      "Loaded 1 JSON files from ./data/train/raw\n",
      "Loaded 1 JSON files from ./data/synthetic/processed/gpt_one_call\n",
      "Loaded 1 JSON files from ./data/synthetic/processed/gpt_two_calls\n",
      "Loaded 1 JSON files from ./data/synthetic/processed/sudoku_4x4\n"
     ]
    }
   ],
   "execution_count": 1
  },
  {
   "metadata": {
    "ExecuteTime": {
     "end_time": "2025-06-03T17:43:44.038116Z",
     "start_time": "2025-06-03T17:43:44.026776Z"
    }
   },
   "cell_type": "code",
   "source": [
    "# Set seed for reproducibility\n",
    "random.seed(42)\n",
    "\n",
    "# Get 250 random samples\n",
    "logic701_samples = random.sample(logic701[0], 250)\n",
    "sudoku_samples = random.sample(sudoku[0], 250)\n",
    "gpt_one_call_samples = random.sample(gpt_one_call[0], 250)\n",
    "gpt_two_call_samples = random.sample(gpt_two_calls[0], 250)\n",
    "\n",
    "print('verifying dataset len samples:')\n",
    "print(len(logic701_samples))\n",
    "print(len(sudoku_samples))\n",
    "print(len(gpt_one_call_samples))\n",
    "print(len(gpt_two_call_samples))\n",
    "\n",
    "# create qp and cp splits\n",
    "logic701_samples_qp, logic701_samples_cp = split_dataset(logic701_samples)\n",
    "sudoku_samples_qp, sudoku_samples_cp = split_dataset(sudoku_samples)\n",
    "gpt_one_call_samples_qp, gpt_one_call_samples_cp = split_dataset(gpt_one_call_samples)\n",
    "gpt_two_call_samples_qp, gpt_two_call_samples_cp = split_dataset(gpt_two_call_samples)\n",
    "\n",
    "print('verifying dataset len for qp and cp:')\n",
    "for dataset in [logic701_samples_qp, logic701_samples_cp, sudoku_samples_qp, sudoku_samples_cp, gpt_one_call_samples_qp, gpt_two_call_samples_qp, gpt_two_call_samples_cp]: print(len(dataset))"
   ],
   "id": "bbdb9f7e733c1636",
   "outputs": [
    {
     "name": "stdout",
     "output_type": "stream",
     "text": [
      "verifying dataset len samples:\n",
      "250\n",
      "250\n",
      "250\n",
      "250\n",
      "verifying dataset len for qp and cp:\n",
      "250\n",
      "250\n",
      "250\n",
      "250\n",
      "250\n",
      "250\n",
      "250\n"
     ]
    }
   ],
   "execution_count": 2
  },
  {
   "metadata": {
    "ExecuteTime": {
     "end_time": "2025-06-03T17:43:44.922309Z",
     "start_time": "2025-06-03T17:43:44.824606Z"
    }
   },
   "cell_type": "code",
   "source": [
    "# format data into OpenAI finetuning format for OpenPipe\n",
    "logic701_formatted_qp = format_qp_for_openpipe_finetuning(logic701_samples_qp, system_prompt=qp_system_prompt)\n",
    "logic701_formatted_cp = format_cp_for_openpipe_finetuning(logic701_samples_cp, system_prompt=cp_system_prompt)\n",
    "\n",
    "sudoku_formatted_qp = format_qp_for_openpipe_finetuning(sudoku_samples_qp, system_prompt=qp_system_prompt)\n",
    "sudoku_formatted_cp = format_cp_for_openpipe_finetuning(sudoku_samples_cp, system_prompt=cp_system_prompt)\n",
    "\n",
    "gpt_one_call_formatted_qp = format_qp_for_openpipe_finetuning(gpt_one_call_samples_qp, system_prompt=qp_system_prompt)\n",
    "gpt_one_call_formatted_cp = format_cp_for_openpipe_finetuning(gpt_one_call_samples_cp, system_prompt=cp_system_prompt)\n",
    "\n",
    "gpt_two_call_formatted_qp = format_qp_for_openpipe_finetuning(gpt_two_call_samples_qp, system_prompt=qp_system_prompt)\n",
    "gpt_two_call_formatted_cp = format_cp_for_openpipe_finetuning(gpt_two_call_samples_cp, system_prompt=cp_system_prompt)\n",
    "\n",
    "# save data as jsonl\n",
    "save_jsonl(logic701_formatted_qp, \"./data/synthetic/finetuning/logic701_finetuning_qp.jsonl\")\n",
    "save_jsonl(logic701_formatted_cp, \"./data/synthetic/finetuning/logic701_finetuning_cp.jsonl\")\n",
    "\n",
    "save_jsonl(sudoku_formatted_qp, \"./data/synthetic/finetuning/sudoku_finetuning_qp.jsonl\")\n",
    "save_jsonl(sudoku_formatted_cp, \"./data/synthetic/finetuning/sudoku_finetuning_cp.jsonl\")\n",
    "\n",
    "save_jsonl(gpt_one_call_formatted_qp, \"./data/synthetic/finetuning/gpt_one_call_finetuning_qp.jsonl\")\n",
    "save_jsonl(gpt_one_call_formatted_cp, \"./data/synthetic/finetuning/gpt_one_call_finetuning_cp.jsonl\")\n",
    "\n",
    "save_jsonl(gpt_two_call_formatted_qp, \"./data/synthetic/finetuning/gpt_two_call_finetuning_qp.jsonl\")\n",
    "save_jsonl(gpt_two_call_formatted_cp, \"./data/synthetic/finetuning/gpt_two_call_finetuning_cp.jsonl\")"
   ],
   "id": "5aaa7dbd01f592b7",
   "outputs": [],
   "execution_count": 3
  },
  {
   "metadata": {
    "ExecuteTime": {
     "end_time": "2025-06-03T17:43:46.744802Z",
     "start_time": "2025-06-03T17:43:46.488828Z"
    }
   },
   "cell_type": "code",
   "source": [
    "import os\n",
    "from openpipe import OpenAI\n",
    "from dotenv import load_dotenv\n",
    "\n",
    "# Load api key\n",
    "load_dotenv()\n",
    "open_pipe = os.getenv(\"structural-reasoning\")\n",
    "\n",
    "client = OpenAI(openpipe={\"api_key\": f\"{open_pipe}\"})"
   ],
   "id": "1132f7ff3b17a5aa",
   "outputs": [],
   "execution_count": 4
  },
  {
   "metadata": {
    "ExecuteTime": {
     "end_time": "2025-06-03T17:43:47.401216Z",
     "start_time": "2025-06-03T17:43:47.393424Z"
    }
   },
   "cell_type": "code",
   "source": [
    "# load test data\n",
    "with open('./data/test/test-reference.json', 'r') as f:\n",
    "    test_data = json.load(f)\n",
    "\n",
    "test_qp, test_cp = split_dataset(test_data)"
   ],
   "id": "c1f5e2cb9d635298",
   "outputs": [],
   "execution_count": 5
  },
  {
   "metadata": {
    "ExecuteTime": {
     "end_time": "2025-06-03T17:43:48.962498Z",
     "start_time": "2025-06-03T17:43:48.952839Z"
    }
   },
   "cell_type": "code",
   "source": "test_cp[0]",
   "id": "59bab6bf62c318ae",
   "outputs": [
    {
     "data": {
      "text/plain": [
       "{'answer': 'b',\n",
       " 'id': 162,\n",
       " 'cot': \"Since G goes to the United States, we need to analyze the conditions that follow. Condition (1) is not applicable since G is going to the US. Condition (2) is also not applicable since L's destination is not specified. Condition (3) does not provide any information about H, M, U, or W. Condition (4) states that U's destination is different from G's, which is the US, so U must go to the UK. Condition (5) is not applicable since Z's destination is not specified.\",\n",
       " 'cot_parsing': [{'statement': 'Condition (1) is not applicable',\n",
       "   'evidence': 'Condition (1): If G goes to the UK, then H To the United States. | G is going to the US',\n",
       "   'Verification': 'false'},\n",
       "  {'statement': 'Condition (2) is also not applicable',\n",
       "   'evidence': \"Condition (2): If L goes to the UK, both M and U go to the US. | L's destination is not specified\",\n",
       "   'Verification': 'false'},\n",
       "  {'statement': 'Condition (3) does not provide any information about H, M, U, or W',\n",
       "   'evidence': 'Condition (3): The country W went to was different from the country Z went to.',\n",
       "   'Verification': 'false'},\n",
       "  {'statement': 'U must go to the UK',\n",
       "   'evidence': \"Condition (4): The country where U goes is different from the country where G goes. | Condition (4) states that U's destination is different from G's, which is the US\",\n",
       "   'Verification': 'true'},\n",
       "  {'statement': 'Condition (5) is not applicable',\n",
       "   'evidence': \"Condition (5): If Z goes to the UK, then H also goes to the UK. | Z's destination is not specified\",\n",
       "   'Verification': 'true'}],\n",
       " 'sel_idx': 92}"
      ]
     },
     "execution_count": 6,
     "metadata": {},
     "output_type": "execute_result"
    }
   ],
   "execution_count": 6
  },
  {
   "metadata": {
    "ExecuteTime": {
     "end_time": "2025-06-03T17:43:51.259341Z",
     "start_time": "2025-06-03T17:43:51.251305Z"
    }
   },
   "cell_type": "code",
   "source": [
    "# Run inference pipeline\n",
    "# Format question data\n",
    "content_formated_question = format_qp_for_openpipe_finetuning(test_qp, system_prompt=qp_system_prompt)\n",
    "content_questions = [item[\"messages\"][1][\"content\"] for item in content_formated_question]\n",
    "\n",
    "# Format CoT data\n",
    "content_formated_cot = format_cp_for_openpipe_finetuning(test_cp, system_prompt=cp_system_prompt)\n",
    "content_cots = [item[\"messages\"][1][\"content\"] for item in content_formated_cot]"
   ],
   "id": "b94450c569ea7bad",
   "outputs": [],
   "execution_count": 7
  },
  {
   "metadata": {
    "ExecuteTime": {
     "end_time": "2025-06-03T17:57:28.933686Z",
     "start_time": "2025-06-03T17:57:28.910640Z"
    }
   },
   "cell_type": "code",
   "source": [
    "def run_pipeline(test_qp, test_cp, content_question,  content_cot, model_qp, model_cp):\n",
    "    puzzle = {\n",
    "            \"question\": test_qp['question'],\n",
    "            \"question_parsing\": None,\n",
    "            \"answer\": test_cp['answer'],\n",
    "            \"id\": test_cp['id'],\n",
    "            \"sel_idx\": test_cp['sel_idx'],\n",
    "            \"cot\": test_cp['cot'],\n",
    "            \"cot_parsing\": None\n",
    "                }\n",
    "\n",
    "    try:\n",
    "        completion_qp = client.chat.completions.create(\n",
    "            model=model_qp,\n",
    "            messages=[\n",
    "                {\n",
    "                    \"role\": \"system\",\n",
    "                    \"content\": qp_system_prompt\n",
    "                },\n",
    "                {\n",
    "                    \"role\": \"user\",\n",
    "                    \"content\": content_question\n",
    "                }\n",
    "            ],\n",
    "            temperature=0\n",
    "        )\n",
    "\n",
    "        string_data = completion_qp.choices[0].message.content.replace('\\'', '\"')\n",
    "        print(string_data)\n",
    "        puzzle[\"question_parsing\"] = json.loads(string_data)\n",
    "\n",
    "        completion_cp = client.chat.completions.create(\n",
    "            model=model_cp,\n",
    "            messages=[\n",
    "                {\n",
    "                    \"role\": \"system\",\n",
    "                    \"content\": cp_system_prompt\n",
    "                },\n",
    "                {\n",
    "                    \"role\": \"user\",\n",
    "                    \"content\": content_cot\n",
    "                }\n",
    "            ],\n",
    "            temperature=0\n",
    "        )\n",
    "\n",
    "        print(completion_cp.choices[0].message.content)\n",
    "        puzzle[\"cot_parsing\"] = json.loads(completion_cp.choices[0].message.content)\n",
    "        return puzzle\n",
    "    except Exception as e:\n",
    "        print(f\"Error occurred: {e}\")\n",
    "        return None, None"
   ],
   "id": "f3cdc075b534181",
   "outputs": [],
   "execution_count": 8
  },
  {
   "metadata": {
    "ExecuteTime": {
     "end_time": "2025-06-03T17:58:20.212678Z",
     "start_time": "2025-06-03T17:57:30.943885Z"
    }
   },
   "cell_type": "code",
   "source": [
    "name = 'gpt-two-call'  # 'logic701', gpt_one_call, gpt_two_calls, sudoku\n",
    "results = []\n",
    "error_n = 0\n",
    "errors = []\n",
    "for idx in range(len(test_data)):\n",
    "    try:\n",
    "        result = run_pipeline(test_qp[idx],\n",
    "                              test_cp[idx],\n",
    "                              content_question=content_questions[idx],\n",
    "                              content_cot=content_cots[idx],\n",
    "                              model_qp='openpipe:gpt-two-call-finetuning-cp',\n",
    "                              model_cp='openpipe:gpt-two-call-finetuning-cp')\n",
    "        results.append(result)\n",
    "        # break\n",
    "        # print(result)\n",
    "        save_json(result, \"./data/comparison/gpt-two-call/result-{}-{}.json\".format(idx, name))\n",
    "    except Exception as e:\n",
    "        print(f\"Error occurred: {e} at index {idx}\")\n",
    "        error_n += 1\n",
    "        errors.append(idx)"
   ],
   "id": "b08af93da0785111",
   "outputs": [
    {
     "name": "stdout",
     "output_type": "stream",
     "text": [
      "[{\"Brief description of objects and setup\": \"7 students G, H, L, M, U, W, Z; each goes to either UK or US\"}, {\"Rule 1 in simplified form\": \"If G goes to UK, H goes to US\"}, {\"Rule 2 in simplified form\": \"If L goes to UK, M and U go to US\"}, {\"Rule 3 in simplified form\": \"W and Z go to different countries\"}, {\"Rule 4 in simplified form\": \"U goes to different country than G\"}, {\"Rule 5 in simplified form\": \"If Z goes to UK, H goes to UK\"}, {\"Condition to satisfy G goes to US:\": \"G goes to US\"}]\n",
      "[{\"statement\": \"G goes to the United States.\", \"evidence\": \"Scenario condition specifies G's destination.\", \"Verification\": \"true\"}, {\"statement\": \"Condition 1 is not applicable since G is going to the US.\", \"evidence\": \"Condition 1 only applies if G goes to the UK.\", \"Verification\": \"true\"}, {\"statement\": \"Condition 2 is not applicable since L's destination is not specified.\", \"evidence\": \"Condition 2 requires L's destination to be either UK or US.\", \"Verification\": \"true\"}, {\"statement\": \"Condition 3 does not provide any information about H, M, U, or W.\", \"evidence\": \"Condition 3 only affects I's destination.\", \"Verification\": \"true\"}, {\"statement\": \"U must go to the UK since U's destination is different from G's.\", \"evidence\": \"Condition 4 requires U's destination to be different from G's.\", \"Verification\": \"true\"}, {\"statement\": \"Condition 5 is not applicable since Z's destination is not specified.\", \"evidence\": \"Condition 5 only applies if Z goes to the UK.\", \"Verification\": \"true\"}]\n",
      "[{\"The six clear flower porcelains are S, Y, M, Q, K, X.\", \"M is older than X.\", \"If Y is earlier than M, then Q is earlier than K and X.\", \"If M is older than Y, then K is older than Q and X.\", \"S\"s age is either earlier than Y or earlier than M, but not both.\"], [\"M, K, S, Q, Y, X\", \"Q, K, Y, M, X, S\", \"Y, S, M, X, Q, K\", \"K, S, M, Q, Y, X\"]\n",
      "Error occurred: Expecting ':' delimiter: line 1 column 58 (char 57)\n",
      "[{\"Objects/entities: Seven magicians-G.H.K.L.N.P and Q\"}, {\"Rule 1: If G or H is arranged to play, they must be in the front.\"}, {\"Rule 2: If K is scheduled to play, he must be in the middle.\"}, {\"Rule 3: If L is scheduled to play, he must be on team 1.\"}, {\"Rule 4: Neither P nor K can be in the same team as N.\"}, {\"Rule 5: P cannot be in the same team as Q.\"}, {\"Rule 6: If H is in team 2, Q is in the middle of team 1.\"}, {\"Acceptable arrangement for the first team\"s performance: G.H.K.L.N.P and Q\"}, {\"Before? G In? K After? P is an acceptable arrangement.\"}]\n",
      "Error occurred: Expecting ':' delimiter: line 1 column 56 (char 55)\n",
      "[{\"Brief description of objects and setup\": \"Three Chinese students (Zhang Lin, Zhao Qiang, Li Shan) and three foreign students (John, Jesse, Anna) went on a summer vacation to one of four places (Xi\"an, Hangzhou, Dalian, Zhangjiajie).\"}, {\"Rule 1\": \"Each person can only go to one place.\"}, {\"Rule 2\": \"Wherever Chinese students go, foreign students must go.\"}, {\"Rule 3\": \"Where there are foreign students, Chinese students must go.\"}, {\"Rule 4\": \"John went to Xi\"an or Hangzhou, and Zhao Qiang went to Zhangjiajie.\"}, {\"Conclusion\": \"D.Zhang Lin and Jessie cannot go to Hangzhou at the same time.\"}]\n",
      "Error occurred: Expecting ',' delimiter: line 1 column 201 (char 200)\n",
      "[{\"Brief description of objects and setup\": \"Seven people G, H, J, K, L, M, O go on a 4-day camping trip. Two people are on duty each day, with one person serving for two days exactly on the fourth day. Conditions include placement rules for J, G, O, K, and constraints on who cannot be on duty for two days.\"}, {\"Rule 1\": \"J must be on duty after H\"}, {\"Rule 2\": \"G must be on the same day as either J or O\"}, {\"Rule 3\": \"O is on duty on the third day\"}, {\"Rule 4\": \"K must be on duty on either the first or second day\"}, {\"Rule 5\": \"The person on duty for two days must be on the fourth day, not the third day\"}, {\"Rule 6\": \"Exactly one person is on duty for two days\"}, {\"Conclusion\": \"To determine who cannot be on duty for two days, we must analyze the constraints. Given that O is on the third day and G must be with either J or O, combined with J following H, the only configuration that satisfies all conditions without repeating staff arrangements is when L is not on duty for two days.\"}]\n",
      "[{\"statement\": \"O must be on the third day.\", \"evidence\": \"Condition (4): O must be on the third day.\", \"Verification\": \"true\"}, {\"statement\": \"The person on duty for two days cannot be O.\", \"evidence\": \"Condition (2): The person on duty for two days must be on the fourth day, not the third day, and O is already on the third day.\", \"Verification\": \"true\"}, {\"statement\": \"G and J are on the same day.\", \"evidence\": \"Condition (3): G must be on the same day as one of J and O. Since O is on the third day, G must be on the same day as J.\", \"Verification\": \"true\"}, {\"statement\": \"H should be placed on day 1, and J on day 2.\", \"evidence\": \"Condition (5): J should be placed on the next day of duty H. Additionally, to meet constraints and have G not on two days, H and J cannot be on the same day.\", \"Verification\": \"true\"}]\n",
      "[{\"Brief description of objects and setup\": \"The coach selects 4 players from 7 (E, F, G, H, J, K, M) under constraints: E/F each 1, not both; J/K one, but not both; if J, then G; unless F, M doesn\"t participate.\"}, {\"Rule 1 in simplified form\": \"E or F, but not both participate.\"}, {\"Rule 2 in simplified form\": \"Either J or K participates, but not both.\"}, {\"Rule 3 in simplified form\": \"If J participates, then G must participate.\"}, {\"Rule 4 in simplified form\": \"Unless F participates, M does not participate.\"}, {\"Conclusion for A: F or M, or both\": \"F must participate to satisfy rules 2 and 4, or M participates if F doesn\"t\"}, {\"Conclusion for B: G or H, or both\": \"G must participate if J is selected; H can participate in any of the scenarios\"}, {\"Conclusion for C: H or J, or both\": \"H can participate in any of the scenarios; J participates if G does\"}, {\"Conclusion for D: J or M, or both\": \"M must participate if F doesn\"t; J participates if G does\"}]\n",
      "Error occurred: Expecting ',' delimiter: line 1 column 199 (char 198)\n",
      "[{\"Brief description of objects and setup\",\"Seven employees (F, G, H, J, K, L, M) are divided into printing and binding groups, with various constraints on their membership.\"],[\"Rule 1\",\"Each group has at least 3 employees.\"],[\"Rule 2\",\"F and K cannot be in the same group.\"],[\"Rule 3\",\"If K is in a certain group, J must also be in this group.\"],[\"Rule 4\",\"M is at least one of the members of these two groups.\"],[\"Rule 5\",\"At least one of the same employees in both groups.\"],[\"Analysis\",\"To maximize the number of employees in both groups, we should minimize overlap while satisfying all conditions. One way to achieve this is by placing M in one group and ensuring K and J are together in the other group. F and K cannot be in the same group, so they must be in separate groups.\"],[\"Maximum number of employees\",\"By carefully placing each employee in either group while adhering to the rules, we can have at most 5 employees in both groups without violating any conditions.\"]]\n",
      "Error occurred: Expecting ':' delimiter: line 1 column 43 (char 42)\n",
      "[{\"The six departments occupy different floors.\", \"Each department occupies one floor.\"}, {\"The human resources department and the sales department are not on adjacent floors.\", \"HR and Sales do not share the same floor or are separated by at least one floor.\"}, {\"The finance department is on the next floor of the planning department.\", \"Finance is either directly above or below Planning.\"}, {\"The administration department is above the planning department but below the human resources department.\", \"Admin is above Planning but below HR.\"}]\n",
      "Error occurred: Expecting ':' delimiter: line 1 column 49 (char 48)\n",
      "[{\"Brief description of objects and setup\": \"6 members (F, G, H, I, M, P) in the Comprehensive Governance Committee, each in at least one of 3 sub-committees.\", \"Rule 1 in simplified form\": \"One member serves on three sub-committees.\", \"Rule 2 in simplified form\": \"F is not in the same sub-committee as G.\", \"Rule 3 in simplified form\": \"H is not in the same sub-committee as I.\"}, {\"Rule 4 in simplified form\": \"Each sub-committee has 3 different members.\", \"Rule 5 in simplified form\": \"Each member is in at least one sub-committee.\", \"Conclusion\": \"D. 1 member of any sub-committee.\"}]\n",
      "[{\"statement\": \"Each member is a member of exactly one sub-committee.\", \"evidence\": \"Since each member must be on at least one sub-committee and each sub-committee has 3 members.\", \"Verification\": \"true\"}, {\"statement\": \"F is a member of two sub-committees with only one member in common and the third sub-committee has the remaining three members.\", \"evidence\": \"Since F is a member of three sub-committees.\", \"Verification\": \"true\"}, {\"statement\": \"H and I are not members of the same sub-committee.\", \"evidence\": \"Given condition.\", \"Verification\": \"true\"}, {\"statement\": \"F cannot be in the same sub-committee as H and I.\", \"evidence\": \"Since H and I are not members of the same sub-committee.\", \"Verification\": \"true\"}, {\"statement\": \"F is in a sub-committee with G and M, and H and I are in different sub-committees.\", \"evidence\": \"Since F cannot be in the same sub-committee as H and I.\", \"Verification\": \"true\"}]\n"
     ]
    },
    {
     "ename": "KeyboardInterrupt",
     "evalue": "",
     "output_type": "error",
     "traceback": [
      "\u001B[31m---------------------------------------------------------------------------\u001B[39m",
      "\u001B[31mKeyboardInterrupt\u001B[39m                         Traceback (most recent call last)",
      "\u001B[36mCell\u001B[39m\u001B[36m \u001B[39m\u001B[32mIn[9]\u001B[39m\u001B[32m, line 7\u001B[39m\n\u001B[32m      5\u001B[39m \u001B[38;5;28;01mfor\u001B[39;00m idx \u001B[38;5;129;01min\u001B[39;00m \u001B[38;5;28mrange\u001B[39m(\u001B[38;5;28mlen\u001B[39m(test_data)):\n\u001B[32m      6\u001B[39m     \u001B[38;5;28;01mtry\u001B[39;00m:\n\u001B[32m----> \u001B[39m\u001B[32m7\u001B[39m         result = \u001B[43mrun_pipeline\u001B[49m\u001B[43m(\u001B[49m\u001B[43mtest_qp\u001B[49m\u001B[43m[\u001B[49m\u001B[43midx\u001B[49m\u001B[43m]\u001B[49m\u001B[43m,\u001B[49m\n\u001B[32m      8\u001B[39m \u001B[43m                              \u001B[49m\u001B[43mtest_cp\u001B[49m\u001B[43m[\u001B[49m\u001B[43midx\u001B[49m\u001B[43m]\u001B[49m\u001B[43m,\u001B[49m\n\u001B[32m      9\u001B[39m \u001B[43m                              \u001B[49m\u001B[43mcontent_question\u001B[49m\u001B[43m=\u001B[49m\u001B[43mcontent_questions\u001B[49m\u001B[43m[\u001B[49m\u001B[43midx\u001B[49m\u001B[43m]\u001B[49m\u001B[43m,\u001B[49m\n\u001B[32m     10\u001B[39m \u001B[43m                              \u001B[49m\u001B[43mcontent_cot\u001B[49m\u001B[43m=\u001B[49m\u001B[43mcontent_cots\u001B[49m\u001B[43m[\u001B[49m\u001B[43midx\u001B[49m\u001B[43m]\u001B[49m\u001B[43m,\u001B[49m\n\u001B[32m     11\u001B[39m \u001B[43m                              \u001B[49m\u001B[43mmodel_qp\u001B[49m\u001B[43m=\u001B[49m\u001B[33;43m'\u001B[39;49m\u001B[33;43mopenpipe:gpt-two-call-finetuning-cp\u001B[39;49m\u001B[33;43m'\u001B[39;49m\u001B[43m,\u001B[49m\n\u001B[32m     12\u001B[39m \u001B[43m                              \u001B[49m\u001B[43mmodel_cp\u001B[49m\u001B[43m=\u001B[49m\u001B[33;43m'\u001B[39;49m\u001B[33;43mopenpipe:gpt-two-call-finetuning-cp\u001B[39;49m\u001B[33;43m'\u001B[39;49m\u001B[43m)\u001B[49m\n\u001B[32m     13\u001B[39m         results.append(result)\n\u001B[32m     14\u001B[39m         \u001B[38;5;66;03m# break\u001B[39;00m\n\u001B[32m     15\u001B[39m         \u001B[38;5;66;03m# print(result)\u001B[39;00m\n",
      "\u001B[36mCell\u001B[39m\u001B[36m \u001B[39m\u001B[32mIn[8]\u001B[39m\u001B[32m, line 13\u001B[39m, in \u001B[36mrun_pipeline\u001B[39m\u001B[34m(test_qp, test_cp, content_question, content_cot, model_qp, model_cp)\u001B[39m\n\u001B[32m      2\u001B[39m puzzle = {\n\u001B[32m      3\u001B[39m         \u001B[33m\"\u001B[39m\u001B[33mquestion\u001B[39m\u001B[33m\"\u001B[39m: test_qp[\u001B[33m'\u001B[39m\u001B[33mquestion\u001B[39m\u001B[33m'\u001B[39m],\n\u001B[32m      4\u001B[39m         \u001B[33m\"\u001B[39m\u001B[33mquestion_parsing\u001B[39m\u001B[33m\"\u001B[39m: \u001B[38;5;28;01mNone\u001B[39;00m,\n\u001B[32m   (...)\u001B[39m\u001B[32m      9\u001B[39m         \u001B[33m\"\u001B[39m\u001B[33mcot_parsing\u001B[39m\u001B[33m\"\u001B[39m: \u001B[38;5;28;01mNone\u001B[39;00m\n\u001B[32m     10\u001B[39m             }\n\u001B[32m     12\u001B[39m \u001B[38;5;28;01mtry\u001B[39;00m:\n\u001B[32m---> \u001B[39m\u001B[32m13\u001B[39m     completion_qp = \u001B[43mclient\u001B[49m\u001B[43m.\u001B[49m\u001B[43mchat\u001B[49m\u001B[43m.\u001B[49m\u001B[43mcompletions\u001B[49m\u001B[43m.\u001B[49m\u001B[43mcreate\u001B[49m\u001B[43m(\u001B[49m\n\u001B[32m     14\u001B[39m \u001B[43m        \u001B[49m\u001B[43mmodel\u001B[49m\u001B[43m=\u001B[49m\u001B[43mmodel_qp\u001B[49m\u001B[43m,\u001B[49m\n\u001B[32m     15\u001B[39m \u001B[43m        \u001B[49m\u001B[43mmessages\u001B[49m\u001B[43m=\u001B[49m\u001B[43m[\u001B[49m\n\u001B[32m     16\u001B[39m \u001B[43m            \u001B[49m\u001B[43m{\u001B[49m\n\u001B[32m     17\u001B[39m \u001B[43m                \u001B[49m\u001B[33;43m\"\u001B[39;49m\u001B[33;43mrole\u001B[39;49m\u001B[33;43m\"\u001B[39;49m\u001B[43m:\u001B[49m\u001B[43m \u001B[49m\u001B[33;43m\"\u001B[39;49m\u001B[33;43msystem\u001B[39;49m\u001B[33;43m\"\u001B[39;49m\u001B[43m,\u001B[49m\n\u001B[32m     18\u001B[39m \u001B[43m                \u001B[49m\u001B[33;43m\"\u001B[39;49m\u001B[33;43mcontent\u001B[39;49m\u001B[33;43m\"\u001B[39;49m\u001B[43m:\u001B[49m\u001B[43m \u001B[49m\u001B[43mqp_system_prompt\u001B[49m\n\u001B[32m     19\u001B[39m \u001B[43m            \u001B[49m\u001B[43m}\u001B[49m\u001B[43m,\u001B[49m\n\u001B[32m     20\u001B[39m \u001B[43m            \u001B[49m\u001B[43m{\u001B[49m\n\u001B[32m     21\u001B[39m \u001B[43m                \u001B[49m\u001B[33;43m\"\u001B[39;49m\u001B[33;43mrole\u001B[39;49m\u001B[33;43m\"\u001B[39;49m\u001B[43m:\u001B[49m\u001B[43m \u001B[49m\u001B[33;43m\"\u001B[39;49m\u001B[33;43muser\u001B[39;49m\u001B[33;43m\"\u001B[39;49m\u001B[43m,\u001B[49m\n\u001B[32m     22\u001B[39m \u001B[43m                \u001B[49m\u001B[33;43m\"\u001B[39;49m\u001B[33;43mcontent\u001B[39;49m\u001B[33;43m\"\u001B[39;49m\u001B[43m:\u001B[49m\u001B[43m \u001B[49m\u001B[43mcontent_question\u001B[49m\n\u001B[32m     23\u001B[39m \u001B[43m            \u001B[49m\u001B[43m}\u001B[49m\n\u001B[32m     24\u001B[39m \u001B[43m        \u001B[49m\u001B[43m]\u001B[49m\u001B[43m,\u001B[49m\n\u001B[32m     25\u001B[39m \u001B[43m        \u001B[49m\u001B[43mtemperature\u001B[49m\u001B[43m=\u001B[49m\u001B[32;43m0\u001B[39;49m\n\u001B[32m     26\u001B[39m \u001B[43m    \u001B[49m\u001B[43m)\u001B[49m\n\u001B[32m     28\u001B[39m     string_data = completion_qp.choices[\u001B[32m0\u001B[39m].message.content.replace(\u001B[33m'\u001B[39m\u001B[38;5;130;01m\\'\u001B[39;00m\u001B[33m'\u001B[39m, \u001B[33m'\u001B[39m\u001B[33m\"\u001B[39m\u001B[33m'\u001B[39m)\n\u001B[32m     29\u001B[39m     \u001B[38;5;28mprint\u001B[39m(string_data)\n",
      "\u001B[36mFile \u001B[39m\u001B[32m~/Dev/python/LLM-for-Structural-Reasoning/.venv-nlp-project/lib/python3.11/site-packages/openpipe/openai_sync_wrapper.py:71\u001B[39m, in \u001B[36mCompletionsWrapper.create\u001B[39m\u001B[34m(self, *args, **kwargs)\u001B[39m\n\u001B[32m     69\u001B[39m extra_headers = get_extra_headers(kwargs, openpipe_options)\n\u001B[32m     70\u001B[39m \u001B[38;5;28;01mtry\u001B[39;00m:\n\u001B[32m---> \u001B[39m\u001B[32m71\u001B[39m     \u001B[38;5;28;01mreturn\u001B[39;00m \u001B[38;5;28;43mself\u001B[39;49m\u001B[43m.\u001B[49m\u001B[43mopenpipe_completions_client\u001B[49m\u001B[43m.\u001B[49m\u001B[43mchat\u001B[49m\u001B[43m.\u001B[49m\u001B[43mcompletions\u001B[49m\u001B[43m.\u001B[49m\u001B[43mcreate\u001B[49m\u001B[43m(\u001B[49m\n\u001B[32m     72\u001B[39m \u001B[43m        \u001B[49m\u001B[43m*\u001B[49m\u001B[43m*\u001B[49m\u001B[43mkwargs\u001B[49m\u001B[43m,\u001B[49m\u001B[43m \u001B[49m\u001B[43mextra_headers\u001B[49m\u001B[43m=\u001B[49m\u001B[43mextra_headers\u001B[49m\n\u001B[32m     73\u001B[39m \u001B[43m    \u001B[49m\u001B[43m)\u001B[49m\n\u001B[32m     74\u001B[39m \u001B[38;5;28;01mexcept\u001B[39;00m \u001B[38;5;167;01mException\u001B[39;00m \u001B[38;5;28;01mas\u001B[39;00m e:\n\u001B[32m     75\u001B[39m     \u001B[38;5;28;01mif\u001B[39;00m (\n\u001B[32m     76\u001B[39m         \u001B[33m\"\u001B[39m\u001B[33mfallback\u001B[39m\u001B[33m\"\u001B[39m \u001B[38;5;129;01min\u001B[39;00m openpipe_options\n\u001B[32m     77\u001B[39m         \u001B[38;5;129;01mand\u001B[39;00m \u001B[33m\"\u001B[39m\u001B[33mmodel\u001B[39m\u001B[33m\"\u001B[39m \u001B[38;5;129;01min\u001B[39;00m openpipe_options[\u001B[33m\"\u001B[39m\u001B[33mfallback\u001B[39m\u001B[33m\"\u001B[39m]\n\u001B[32m     78\u001B[39m     ):\n",
      "\u001B[36mFile \u001B[39m\u001B[32m~/Dev/python/LLM-for-Structural-Reasoning/.venv-nlp-project/lib/python3.11/site-packages/openai/_utils/_utils.py:279\u001B[39m, in \u001B[36mrequired_args.<locals>.inner.<locals>.wrapper\u001B[39m\u001B[34m(*args, **kwargs)\u001B[39m\n\u001B[32m    277\u001B[39m             msg = \u001B[33mf\u001B[39m\u001B[33m\"\u001B[39m\u001B[33mMissing required argument: \u001B[39m\u001B[38;5;132;01m{\u001B[39;00mquote(missing[\u001B[32m0\u001B[39m])\u001B[38;5;132;01m}\u001B[39;00m\u001B[33m\"\u001B[39m\n\u001B[32m    278\u001B[39m     \u001B[38;5;28;01mraise\u001B[39;00m \u001B[38;5;167;01mTypeError\u001B[39;00m(msg)\n\u001B[32m--> \u001B[39m\u001B[32m279\u001B[39m \u001B[38;5;28;01mreturn\u001B[39;00m \u001B[43mfunc\u001B[49m\u001B[43m(\u001B[49m\u001B[43m*\u001B[49m\u001B[43margs\u001B[49m\u001B[43m,\u001B[49m\u001B[43m \u001B[49m\u001B[43m*\u001B[49m\u001B[43m*\u001B[49m\u001B[43mkwargs\u001B[49m\u001B[43m)\u001B[49m\n",
      "\u001B[36mFile \u001B[39m\u001B[32m~/Dev/python/LLM-for-Structural-Reasoning/.venv-nlp-project/lib/python3.11/site-packages/openai/resources/chat/completions/completions.py:879\u001B[39m, in \u001B[36mCompletions.create\u001B[39m\u001B[34m(self, messages, model, audio, frequency_penalty, function_call, functions, logit_bias, logprobs, max_completion_tokens, max_tokens, metadata, modalities, n, parallel_tool_calls, prediction, presence_penalty, reasoning_effort, response_format, seed, service_tier, stop, store, stream, stream_options, temperature, tool_choice, tools, top_logprobs, top_p, user, extra_headers, extra_query, extra_body, timeout)\u001B[39m\n\u001B[32m    837\u001B[39m \u001B[38;5;129m@required_args\u001B[39m([\u001B[33m\"\u001B[39m\u001B[33mmessages\u001B[39m\u001B[33m\"\u001B[39m, \u001B[33m\"\u001B[39m\u001B[33mmodel\u001B[39m\u001B[33m\"\u001B[39m], [\u001B[33m\"\u001B[39m\u001B[33mmessages\u001B[39m\u001B[33m\"\u001B[39m, \u001B[33m\"\u001B[39m\u001B[33mmodel\u001B[39m\u001B[33m\"\u001B[39m, \u001B[33m\"\u001B[39m\u001B[33mstream\u001B[39m\u001B[33m\"\u001B[39m])\n\u001B[32m    838\u001B[39m \u001B[38;5;28;01mdef\u001B[39;00m\u001B[38;5;250m \u001B[39m\u001B[34mcreate\u001B[39m(\n\u001B[32m    839\u001B[39m     \u001B[38;5;28mself\u001B[39m,\n\u001B[32m   (...)\u001B[39m\u001B[32m    876\u001B[39m     timeout: \u001B[38;5;28mfloat\u001B[39m | httpx.Timeout | \u001B[38;5;28;01mNone\u001B[39;00m | NotGiven = NOT_GIVEN,\n\u001B[32m    877\u001B[39m ) -> ChatCompletion | Stream[ChatCompletionChunk]:\n\u001B[32m    878\u001B[39m     validate_response_format(response_format)\n\u001B[32m--> \u001B[39m\u001B[32m879\u001B[39m     \u001B[38;5;28;01mreturn\u001B[39;00m \u001B[38;5;28;43mself\u001B[39;49m\u001B[43m.\u001B[49m\u001B[43m_post\u001B[49m\u001B[43m(\u001B[49m\n\u001B[32m    880\u001B[39m \u001B[43m        \u001B[49m\u001B[33;43m\"\u001B[39;49m\u001B[33;43m/chat/completions\u001B[39;49m\u001B[33;43m\"\u001B[39;49m\u001B[43m,\u001B[49m\n\u001B[32m    881\u001B[39m \u001B[43m        \u001B[49m\u001B[43mbody\u001B[49m\u001B[43m=\u001B[49m\u001B[43mmaybe_transform\u001B[49m\u001B[43m(\u001B[49m\n\u001B[32m    882\u001B[39m \u001B[43m            \u001B[49m\u001B[43m{\u001B[49m\n\u001B[32m    883\u001B[39m \u001B[43m                \u001B[49m\u001B[33;43m\"\u001B[39;49m\u001B[33;43mmessages\u001B[39;49m\u001B[33;43m\"\u001B[39;49m\u001B[43m:\u001B[49m\u001B[43m \u001B[49m\u001B[43mmessages\u001B[49m\u001B[43m,\u001B[49m\n\u001B[32m    884\u001B[39m \u001B[43m                \u001B[49m\u001B[33;43m\"\u001B[39;49m\u001B[33;43mmodel\u001B[39;49m\u001B[33;43m\"\u001B[39;49m\u001B[43m:\u001B[49m\u001B[43m \u001B[49m\u001B[43mmodel\u001B[49m\u001B[43m,\u001B[49m\n\u001B[32m    885\u001B[39m \u001B[43m                \u001B[49m\u001B[33;43m\"\u001B[39;49m\u001B[33;43maudio\u001B[39;49m\u001B[33;43m\"\u001B[39;49m\u001B[43m:\u001B[49m\u001B[43m \u001B[49m\u001B[43maudio\u001B[49m\u001B[43m,\u001B[49m\n\u001B[32m    886\u001B[39m \u001B[43m                \u001B[49m\u001B[33;43m\"\u001B[39;49m\u001B[33;43mfrequency_penalty\u001B[39;49m\u001B[33;43m\"\u001B[39;49m\u001B[43m:\u001B[49m\u001B[43m \u001B[49m\u001B[43mfrequency_penalty\u001B[49m\u001B[43m,\u001B[49m\n\u001B[32m    887\u001B[39m \u001B[43m                \u001B[49m\u001B[33;43m\"\u001B[39;49m\u001B[33;43mfunction_call\u001B[39;49m\u001B[33;43m\"\u001B[39;49m\u001B[43m:\u001B[49m\u001B[43m \u001B[49m\u001B[43mfunction_call\u001B[49m\u001B[43m,\u001B[49m\n\u001B[32m    888\u001B[39m \u001B[43m                \u001B[49m\u001B[33;43m\"\u001B[39;49m\u001B[33;43mfunctions\u001B[39;49m\u001B[33;43m\"\u001B[39;49m\u001B[43m:\u001B[49m\u001B[43m \u001B[49m\u001B[43mfunctions\u001B[49m\u001B[43m,\u001B[49m\n\u001B[32m    889\u001B[39m \u001B[43m                \u001B[49m\u001B[33;43m\"\u001B[39;49m\u001B[33;43mlogit_bias\u001B[39;49m\u001B[33;43m\"\u001B[39;49m\u001B[43m:\u001B[49m\u001B[43m \u001B[49m\u001B[43mlogit_bias\u001B[49m\u001B[43m,\u001B[49m\n\u001B[32m    890\u001B[39m \u001B[43m                \u001B[49m\u001B[33;43m\"\u001B[39;49m\u001B[33;43mlogprobs\u001B[39;49m\u001B[33;43m\"\u001B[39;49m\u001B[43m:\u001B[49m\u001B[43m \u001B[49m\u001B[43mlogprobs\u001B[49m\u001B[43m,\u001B[49m\n\u001B[32m    891\u001B[39m \u001B[43m                \u001B[49m\u001B[33;43m\"\u001B[39;49m\u001B[33;43mmax_completion_tokens\u001B[39;49m\u001B[33;43m\"\u001B[39;49m\u001B[43m:\u001B[49m\u001B[43m \u001B[49m\u001B[43mmax_completion_tokens\u001B[49m\u001B[43m,\u001B[49m\n\u001B[32m    892\u001B[39m \u001B[43m                \u001B[49m\u001B[33;43m\"\u001B[39;49m\u001B[33;43mmax_tokens\u001B[39;49m\u001B[33;43m\"\u001B[39;49m\u001B[43m:\u001B[49m\u001B[43m \u001B[49m\u001B[43mmax_tokens\u001B[49m\u001B[43m,\u001B[49m\n\u001B[32m    893\u001B[39m \u001B[43m                \u001B[49m\u001B[33;43m\"\u001B[39;49m\u001B[33;43mmetadata\u001B[39;49m\u001B[33;43m\"\u001B[39;49m\u001B[43m:\u001B[49m\u001B[43m \u001B[49m\u001B[43mmetadata\u001B[49m\u001B[43m,\u001B[49m\n\u001B[32m    894\u001B[39m \u001B[43m                \u001B[49m\u001B[33;43m\"\u001B[39;49m\u001B[33;43mmodalities\u001B[39;49m\u001B[33;43m\"\u001B[39;49m\u001B[43m:\u001B[49m\u001B[43m \u001B[49m\u001B[43mmodalities\u001B[49m\u001B[43m,\u001B[49m\n\u001B[32m    895\u001B[39m \u001B[43m                \u001B[49m\u001B[33;43m\"\u001B[39;49m\u001B[33;43mn\u001B[39;49m\u001B[33;43m\"\u001B[39;49m\u001B[43m:\u001B[49m\u001B[43m \u001B[49m\u001B[43mn\u001B[49m\u001B[43m,\u001B[49m\n\u001B[32m    896\u001B[39m \u001B[43m                \u001B[49m\u001B[33;43m\"\u001B[39;49m\u001B[33;43mparallel_tool_calls\u001B[39;49m\u001B[33;43m\"\u001B[39;49m\u001B[43m:\u001B[49m\u001B[43m \u001B[49m\u001B[43mparallel_tool_calls\u001B[49m\u001B[43m,\u001B[49m\n\u001B[32m    897\u001B[39m \u001B[43m                \u001B[49m\u001B[33;43m\"\u001B[39;49m\u001B[33;43mprediction\u001B[39;49m\u001B[33;43m\"\u001B[39;49m\u001B[43m:\u001B[49m\u001B[43m \u001B[49m\u001B[43mprediction\u001B[49m\u001B[43m,\u001B[49m\n\u001B[32m    898\u001B[39m \u001B[43m                \u001B[49m\u001B[33;43m\"\u001B[39;49m\u001B[33;43mpresence_penalty\u001B[39;49m\u001B[33;43m\"\u001B[39;49m\u001B[43m:\u001B[49m\u001B[43m \u001B[49m\u001B[43mpresence_penalty\u001B[49m\u001B[43m,\u001B[49m\n\u001B[32m    899\u001B[39m \u001B[43m                \u001B[49m\u001B[33;43m\"\u001B[39;49m\u001B[33;43mreasoning_effort\u001B[39;49m\u001B[33;43m\"\u001B[39;49m\u001B[43m:\u001B[49m\u001B[43m \u001B[49m\u001B[43mreasoning_effort\u001B[49m\u001B[43m,\u001B[49m\n\u001B[32m    900\u001B[39m \u001B[43m                \u001B[49m\u001B[33;43m\"\u001B[39;49m\u001B[33;43mresponse_format\u001B[39;49m\u001B[33;43m\"\u001B[39;49m\u001B[43m:\u001B[49m\u001B[43m \u001B[49m\u001B[43mresponse_format\u001B[49m\u001B[43m,\u001B[49m\n\u001B[32m    901\u001B[39m \u001B[43m                \u001B[49m\u001B[33;43m\"\u001B[39;49m\u001B[33;43mseed\u001B[39;49m\u001B[33;43m\"\u001B[39;49m\u001B[43m:\u001B[49m\u001B[43m \u001B[49m\u001B[43mseed\u001B[49m\u001B[43m,\u001B[49m\n\u001B[32m    902\u001B[39m \u001B[43m                \u001B[49m\u001B[33;43m\"\u001B[39;49m\u001B[33;43mservice_tier\u001B[39;49m\u001B[33;43m\"\u001B[39;49m\u001B[43m:\u001B[49m\u001B[43m \u001B[49m\u001B[43mservice_tier\u001B[49m\u001B[43m,\u001B[49m\n\u001B[32m    903\u001B[39m \u001B[43m                \u001B[49m\u001B[33;43m\"\u001B[39;49m\u001B[33;43mstop\u001B[39;49m\u001B[33;43m\"\u001B[39;49m\u001B[43m:\u001B[49m\u001B[43m \u001B[49m\u001B[43mstop\u001B[49m\u001B[43m,\u001B[49m\n\u001B[32m    904\u001B[39m \u001B[43m                \u001B[49m\u001B[33;43m\"\u001B[39;49m\u001B[33;43mstore\u001B[39;49m\u001B[33;43m\"\u001B[39;49m\u001B[43m:\u001B[49m\u001B[43m \u001B[49m\u001B[43mstore\u001B[49m\u001B[43m,\u001B[49m\n\u001B[32m    905\u001B[39m \u001B[43m                \u001B[49m\u001B[33;43m\"\u001B[39;49m\u001B[33;43mstream\u001B[39;49m\u001B[33;43m\"\u001B[39;49m\u001B[43m:\u001B[49m\u001B[43m \u001B[49m\u001B[43mstream\u001B[49m\u001B[43m,\u001B[49m\n\u001B[32m    906\u001B[39m \u001B[43m                \u001B[49m\u001B[33;43m\"\u001B[39;49m\u001B[33;43mstream_options\u001B[39;49m\u001B[33;43m\"\u001B[39;49m\u001B[43m:\u001B[49m\u001B[43m \u001B[49m\u001B[43mstream_options\u001B[49m\u001B[43m,\u001B[49m\n\u001B[32m    907\u001B[39m \u001B[43m                \u001B[49m\u001B[33;43m\"\u001B[39;49m\u001B[33;43mtemperature\u001B[39;49m\u001B[33;43m\"\u001B[39;49m\u001B[43m:\u001B[49m\u001B[43m \u001B[49m\u001B[43mtemperature\u001B[49m\u001B[43m,\u001B[49m\n\u001B[32m    908\u001B[39m \u001B[43m                \u001B[49m\u001B[33;43m\"\u001B[39;49m\u001B[33;43mtool_choice\u001B[39;49m\u001B[33;43m\"\u001B[39;49m\u001B[43m:\u001B[49m\u001B[43m \u001B[49m\u001B[43mtool_choice\u001B[49m\u001B[43m,\u001B[49m\n\u001B[32m    909\u001B[39m \u001B[43m                \u001B[49m\u001B[33;43m\"\u001B[39;49m\u001B[33;43mtools\u001B[39;49m\u001B[33;43m\"\u001B[39;49m\u001B[43m:\u001B[49m\u001B[43m \u001B[49m\u001B[43mtools\u001B[49m\u001B[43m,\u001B[49m\n\u001B[32m    910\u001B[39m \u001B[43m                \u001B[49m\u001B[33;43m\"\u001B[39;49m\u001B[33;43mtop_logprobs\u001B[39;49m\u001B[33;43m\"\u001B[39;49m\u001B[43m:\u001B[49m\u001B[43m \u001B[49m\u001B[43mtop_logprobs\u001B[49m\u001B[43m,\u001B[49m\n\u001B[32m    911\u001B[39m \u001B[43m                \u001B[49m\u001B[33;43m\"\u001B[39;49m\u001B[33;43mtop_p\u001B[39;49m\u001B[33;43m\"\u001B[39;49m\u001B[43m:\u001B[49m\u001B[43m \u001B[49m\u001B[43mtop_p\u001B[49m\u001B[43m,\u001B[49m\n\u001B[32m    912\u001B[39m \u001B[43m                \u001B[49m\u001B[33;43m\"\u001B[39;49m\u001B[33;43muser\u001B[39;49m\u001B[33;43m\"\u001B[39;49m\u001B[43m:\u001B[49m\u001B[43m \u001B[49m\u001B[43muser\u001B[49m\u001B[43m,\u001B[49m\n\u001B[32m    913\u001B[39m \u001B[43m            \u001B[49m\u001B[43m}\u001B[49m\u001B[43m,\u001B[49m\n\u001B[32m    914\u001B[39m \u001B[43m            \u001B[49m\u001B[43mcompletion_create_params\u001B[49m\u001B[43m.\u001B[49m\u001B[43mCompletionCreateParams\u001B[49m\u001B[43m,\u001B[49m\n\u001B[32m    915\u001B[39m \u001B[43m        \u001B[49m\u001B[43m)\u001B[49m\u001B[43m,\u001B[49m\n\u001B[32m    916\u001B[39m \u001B[43m        \u001B[49m\u001B[43moptions\u001B[49m\u001B[43m=\u001B[49m\u001B[43mmake_request_options\u001B[49m\u001B[43m(\u001B[49m\n\u001B[32m    917\u001B[39m \u001B[43m            \u001B[49m\u001B[43mextra_headers\u001B[49m\u001B[43m=\u001B[49m\u001B[43mextra_headers\u001B[49m\u001B[43m,\u001B[49m\u001B[43m \u001B[49m\u001B[43mextra_query\u001B[49m\u001B[43m=\u001B[49m\u001B[43mextra_query\u001B[49m\u001B[43m,\u001B[49m\u001B[43m \u001B[49m\u001B[43mextra_body\u001B[49m\u001B[43m=\u001B[49m\u001B[43mextra_body\u001B[49m\u001B[43m,\u001B[49m\u001B[43m \u001B[49m\u001B[43mtimeout\u001B[49m\u001B[43m=\u001B[49m\u001B[43mtimeout\u001B[49m\n\u001B[32m    918\u001B[39m \u001B[43m        \u001B[49m\u001B[43m)\u001B[49m\u001B[43m,\u001B[49m\n\u001B[32m    919\u001B[39m \u001B[43m        \u001B[49m\u001B[43mcast_to\u001B[49m\u001B[43m=\u001B[49m\u001B[43mChatCompletion\u001B[49m\u001B[43m,\u001B[49m\n\u001B[32m    920\u001B[39m \u001B[43m        \u001B[49m\u001B[43mstream\u001B[49m\u001B[43m=\u001B[49m\u001B[43mstream\u001B[49m\u001B[43m \u001B[49m\u001B[38;5;129;43;01mor\u001B[39;49;00m\u001B[43m \u001B[49m\u001B[38;5;28;43;01mFalse\u001B[39;49;00m\u001B[43m,\u001B[49m\n\u001B[32m    921\u001B[39m \u001B[43m        \u001B[49m\u001B[43mstream_cls\u001B[49m\u001B[43m=\u001B[49m\u001B[43mStream\u001B[49m\u001B[43m[\u001B[49m\u001B[43mChatCompletionChunk\u001B[49m\u001B[43m]\u001B[49m\u001B[43m,\u001B[49m\n\u001B[32m    922\u001B[39m \u001B[43m    \u001B[49m\u001B[43m)\u001B[49m\n",
      "\u001B[36mFile \u001B[39m\u001B[32m~/Dev/python/LLM-for-Structural-Reasoning/.venv-nlp-project/lib/python3.11/site-packages/openai/_base_client.py:1242\u001B[39m, in \u001B[36mSyncAPIClient.post\u001B[39m\u001B[34m(self, path, cast_to, body, options, files, stream, stream_cls)\u001B[39m\n\u001B[32m   1228\u001B[39m \u001B[38;5;28;01mdef\u001B[39;00m\u001B[38;5;250m \u001B[39m\u001B[34mpost\u001B[39m(\n\u001B[32m   1229\u001B[39m     \u001B[38;5;28mself\u001B[39m,\n\u001B[32m   1230\u001B[39m     path: \u001B[38;5;28mstr\u001B[39m,\n\u001B[32m   (...)\u001B[39m\u001B[32m   1237\u001B[39m     stream_cls: \u001B[38;5;28mtype\u001B[39m[_StreamT] | \u001B[38;5;28;01mNone\u001B[39;00m = \u001B[38;5;28;01mNone\u001B[39;00m,\n\u001B[32m   1238\u001B[39m ) -> ResponseT | _StreamT:\n\u001B[32m   1239\u001B[39m     opts = FinalRequestOptions.construct(\n\u001B[32m   1240\u001B[39m         method=\u001B[33m\"\u001B[39m\u001B[33mpost\u001B[39m\u001B[33m\"\u001B[39m, url=path, json_data=body, files=to_httpx_files(files), **options\n\u001B[32m   1241\u001B[39m     )\n\u001B[32m-> \u001B[39m\u001B[32m1242\u001B[39m     \u001B[38;5;28;01mreturn\u001B[39;00m cast(ResponseT, \u001B[38;5;28;43mself\u001B[39;49m\u001B[43m.\u001B[49m\u001B[43mrequest\u001B[49m\u001B[43m(\u001B[49m\u001B[43mcast_to\u001B[49m\u001B[43m,\u001B[49m\u001B[43m \u001B[49m\u001B[43mopts\u001B[49m\u001B[43m,\u001B[49m\u001B[43m \u001B[49m\u001B[43mstream\u001B[49m\u001B[43m=\u001B[49m\u001B[43mstream\u001B[49m\u001B[43m,\u001B[49m\u001B[43m \u001B[49m\u001B[43mstream_cls\u001B[49m\u001B[43m=\u001B[49m\u001B[43mstream_cls\u001B[49m\u001B[43m)\u001B[49m)\n",
      "\u001B[36mFile \u001B[39m\u001B[32m~/Dev/python/LLM-for-Structural-Reasoning/.venv-nlp-project/lib/python3.11/site-packages/openai/_base_client.py:919\u001B[39m, in \u001B[36mSyncAPIClient.request\u001B[39m\u001B[34m(self, cast_to, options, remaining_retries, stream, stream_cls)\u001B[39m\n\u001B[32m    916\u001B[39m \u001B[38;5;28;01melse\u001B[39;00m:\n\u001B[32m    917\u001B[39m     retries_taken = \u001B[32m0\u001B[39m\n\u001B[32m--> \u001B[39m\u001B[32m919\u001B[39m \u001B[38;5;28;01mreturn\u001B[39;00m \u001B[38;5;28;43mself\u001B[39;49m\u001B[43m.\u001B[49m\u001B[43m_request\u001B[49m\u001B[43m(\u001B[49m\n\u001B[32m    920\u001B[39m \u001B[43m    \u001B[49m\u001B[43mcast_to\u001B[49m\u001B[43m=\u001B[49m\u001B[43mcast_to\u001B[49m\u001B[43m,\u001B[49m\n\u001B[32m    921\u001B[39m \u001B[43m    \u001B[49m\u001B[43moptions\u001B[49m\u001B[43m=\u001B[49m\u001B[43moptions\u001B[49m\u001B[43m,\u001B[49m\n\u001B[32m    922\u001B[39m \u001B[43m    \u001B[49m\u001B[43mstream\u001B[49m\u001B[43m=\u001B[49m\u001B[43mstream\u001B[49m\u001B[43m,\u001B[49m\n\u001B[32m    923\u001B[39m \u001B[43m    \u001B[49m\u001B[43mstream_cls\u001B[49m\u001B[43m=\u001B[49m\u001B[43mstream_cls\u001B[49m\u001B[43m,\u001B[49m\n\u001B[32m    924\u001B[39m \u001B[43m    \u001B[49m\u001B[43mretries_taken\u001B[49m\u001B[43m=\u001B[49m\u001B[43mretries_taken\u001B[49m\u001B[43m,\u001B[49m\n\u001B[32m    925\u001B[39m \u001B[43m\u001B[49m\u001B[43m)\u001B[49m\n",
      "\u001B[36mFile \u001B[39m\u001B[32m~/Dev/python/LLM-for-Structural-Reasoning/.venv-nlp-project/lib/python3.11/site-packages/openai/_base_client.py:955\u001B[39m, in \u001B[36mSyncAPIClient._request\u001B[39m\u001B[34m(self, cast_to, options, retries_taken, stream, stream_cls)\u001B[39m\n\u001B[32m    952\u001B[39m log.debug(\u001B[33m\"\u001B[39m\u001B[33mSending HTTP Request: \u001B[39m\u001B[38;5;132;01m%s\u001B[39;00m\u001B[33m \u001B[39m\u001B[38;5;132;01m%s\u001B[39;00m\u001B[33m\"\u001B[39m, request.method, request.url)\n\u001B[32m    954\u001B[39m \u001B[38;5;28;01mtry\u001B[39;00m:\n\u001B[32m--> \u001B[39m\u001B[32m955\u001B[39m     response = \u001B[38;5;28;43mself\u001B[39;49m\u001B[43m.\u001B[49m\u001B[43m_client\u001B[49m\u001B[43m.\u001B[49m\u001B[43msend\u001B[49m\u001B[43m(\u001B[49m\n\u001B[32m    956\u001B[39m \u001B[43m        \u001B[49m\u001B[43mrequest\u001B[49m\u001B[43m,\u001B[49m\n\u001B[32m    957\u001B[39m \u001B[43m        \u001B[49m\u001B[43mstream\u001B[49m\u001B[43m=\u001B[49m\u001B[43mstream\u001B[49m\u001B[43m \u001B[49m\u001B[38;5;129;43;01mor\u001B[39;49;00m\u001B[43m \u001B[49m\u001B[38;5;28;43mself\u001B[39;49m\u001B[43m.\u001B[49m\u001B[43m_should_stream_response_body\u001B[49m\u001B[43m(\u001B[49m\u001B[43mrequest\u001B[49m\u001B[43m=\u001B[49m\u001B[43mrequest\u001B[49m\u001B[43m)\u001B[49m\u001B[43m,\u001B[49m\n\u001B[32m    958\u001B[39m \u001B[43m        \u001B[49m\u001B[43m*\u001B[49m\u001B[43m*\u001B[49m\u001B[43mkwargs\u001B[49m\u001B[43m,\u001B[49m\n\u001B[32m    959\u001B[39m \u001B[43m    \u001B[49m\u001B[43m)\u001B[49m\n\u001B[32m    960\u001B[39m \u001B[38;5;28;01mexcept\u001B[39;00m httpx.TimeoutException \u001B[38;5;28;01mas\u001B[39;00m err:\n\u001B[32m    961\u001B[39m     log.debug(\u001B[33m\"\u001B[39m\u001B[33mEncountered httpx.TimeoutException\u001B[39m\u001B[33m\"\u001B[39m, exc_info=\u001B[38;5;28;01mTrue\u001B[39;00m)\n",
      "\u001B[36mFile \u001B[39m\u001B[32m~/Dev/python/LLM-for-Structural-Reasoning/.venv-nlp-project/lib/python3.11/site-packages/httpx/_client.py:914\u001B[39m, in \u001B[36mClient.send\u001B[39m\u001B[34m(self, request, stream, auth, follow_redirects)\u001B[39m\n\u001B[32m    910\u001B[39m \u001B[38;5;28mself\u001B[39m._set_timeout(request)\n\u001B[32m    912\u001B[39m auth = \u001B[38;5;28mself\u001B[39m._build_request_auth(request, auth)\n\u001B[32m--> \u001B[39m\u001B[32m914\u001B[39m response = \u001B[38;5;28;43mself\u001B[39;49m\u001B[43m.\u001B[49m\u001B[43m_send_handling_auth\u001B[49m\u001B[43m(\u001B[49m\n\u001B[32m    915\u001B[39m \u001B[43m    \u001B[49m\u001B[43mrequest\u001B[49m\u001B[43m,\u001B[49m\n\u001B[32m    916\u001B[39m \u001B[43m    \u001B[49m\u001B[43mauth\u001B[49m\u001B[43m=\u001B[49m\u001B[43mauth\u001B[49m\u001B[43m,\u001B[49m\n\u001B[32m    917\u001B[39m \u001B[43m    \u001B[49m\u001B[43mfollow_redirects\u001B[49m\u001B[43m=\u001B[49m\u001B[43mfollow_redirects\u001B[49m\u001B[43m,\u001B[49m\n\u001B[32m    918\u001B[39m \u001B[43m    \u001B[49m\u001B[43mhistory\u001B[49m\u001B[43m=\u001B[49m\u001B[43m[\u001B[49m\u001B[43m]\u001B[49m\u001B[43m,\u001B[49m\n\u001B[32m    919\u001B[39m \u001B[43m\u001B[49m\u001B[43m)\u001B[49m\n\u001B[32m    920\u001B[39m \u001B[38;5;28;01mtry\u001B[39;00m:\n\u001B[32m    921\u001B[39m     \u001B[38;5;28;01mif\u001B[39;00m \u001B[38;5;129;01mnot\u001B[39;00m stream:\n",
      "\u001B[36mFile \u001B[39m\u001B[32m~/Dev/python/LLM-for-Structural-Reasoning/.venv-nlp-project/lib/python3.11/site-packages/httpx/_client.py:942\u001B[39m, in \u001B[36mClient._send_handling_auth\u001B[39m\u001B[34m(self, request, auth, follow_redirects, history)\u001B[39m\n\u001B[32m    939\u001B[39m request = \u001B[38;5;28mnext\u001B[39m(auth_flow)\n\u001B[32m    941\u001B[39m \u001B[38;5;28;01mwhile\u001B[39;00m \u001B[38;5;28;01mTrue\u001B[39;00m:\n\u001B[32m--> \u001B[39m\u001B[32m942\u001B[39m     response = \u001B[38;5;28;43mself\u001B[39;49m\u001B[43m.\u001B[49m\u001B[43m_send_handling_redirects\u001B[49m\u001B[43m(\u001B[49m\n\u001B[32m    943\u001B[39m \u001B[43m        \u001B[49m\u001B[43mrequest\u001B[49m\u001B[43m,\u001B[49m\n\u001B[32m    944\u001B[39m \u001B[43m        \u001B[49m\u001B[43mfollow_redirects\u001B[49m\u001B[43m=\u001B[49m\u001B[43mfollow_redirects\u001B[49m\u001B[43m,\u001B[49m\n\u001B[32m    945\u001B[39m \u001B[43m        \u001B[49m\u001B[43mhistory\u001B[49m\u001B[43m=\u001B[49m\u001B[43mhistory\u001B[49m\u001B[43m,\u001B[49m\n\u001B[32m    946\u001B[39m \u001B[43m    \u001B[49m\u001B[43m)\u001B[49m\n\u001B[32m    947\u001B[39m     \u001B[38;5;28;01mtry\u001B[39;00m:\n\u001B[32m    948\u001B[39m         \u001B[38;5;28;01mtry\u001B[39;00m:\n",
      "\u001B[36mFile \u001B[39m\u001B[32m~/Dev/python/LLM-for-Structural-Reasoning/.venv-nlp-project/lib/python3.11/site-packages/httpx/_client.py:979\u001B[39m, in \u001B[36mClient._send_handling_redirects\u001B[39m\u001B[34m(self, request, follow_redirects, history)\u001B[39m\n\u001B[32m    976\u001B[39m \u001B[38;5;28;01mfor\u001B[39;00m hook \u001B[38;5;129;01min\u001B[39;00m \u001B[38;5;28mself\u001B[39m._event_hooks[\u001B[33m\"\u001B[39m\u001B[33mrequest\u001B[39m\u001B[33m\"\u001B[39m]:\n\u001B[32m    977\u001B[39m     hook(request)\n\u001B[32m--> \u001B[39m\u001B[32m979\u001B[39m response = \u001B[38;5;28;43mself\u001B[39;49m\u001B[43m.\u001B[49m\u001B[43m_send_single_request\u001B[49m\u001B[43m(\u001B[49m\u001B[43mrequest\u001B[49m\u001B[43m)\u001B[49m\n\u001B[32m    980\u001B[39m \u001B[38;5;28;01mtry\u001B[39;00m:\n\u001B[32m    981\u001B[39m     \u001B[38;5;28;01mfor\u001B[39;00m hook \u001B[38;5;129;01min\u001B[39;00m \u001B[38;5;28mself\u001B[39m._event_hooks[\u001B[33m\"\u001B[39m\u001B[33mresponse\u001B[39m\u001B[33m\"\u001B[39m]:\n",
      "\u001B[36mFile \u001B[39m\u001B[32m~/Dev/python/LLM-for-Structural-Reasoning/.venv-nlp-project/lib/python3.11/site-packages/httpx/_client.py:1014\u001B[39m, in \u001B[36mClient._send_single_request\u001B[39m\u001B[34m(self, request)\u001B[39m\n\u001B[32m   1009\u001B[39m     \u001B[38;5;28;01mraise\u001B[39;00m \u001B[38;5;167;01mRuntimeError\u001B[39;00m(\n\u001B[32m   1010\u001B[39m         \u001B[33m\"\u001B[39m\u001B[33mAttempted to send an async request with a sync Client instance.\u001B[39m\u001B[33m\"\u001B[39m\n\u001B[32m   1011\u001B[39m     )\n\u001B[32m   1013\u001B[39m \u001B[38;5;28;01mwith\u001B[39;00m request_context(request=request):\n\u001B[32m-> \u001B[39m\u001B[32m1014\u001B[39m     response = \u001B[43mtransport\u001B[49m\u001B[43m.\u001B[49m\u001B[43mhandle_request\u001B[49m\u001B[43m(\u001B[49m\u001B[43mrequest\u001B[49m\u001B[43m)\u001B[49m\n\u001B[32m   1016\u001B[39m \u001B[38;5;28;01massert\u001B[39;00m \u001B[38;5;28misinstance\u001B[39m(response.stream, SyncByteStream)\n\u001B[32m   1018\u001B[39m response.request = request\n",
      "\u001B[36mFile \u001B[39m\u001B[32m~/Dev/python/LLM-for-Structural-Reasoning/.venv-nlp-project/lib/python3.11/site-packages/httpx/_transports/default.py:250\u001B[39m, in \u001B[36mHTTPTransport.handle_request\u001B[39m\u001B[34m(self, request)\u001B[39m\n\u001B[32m    237\u001B[39m req = httpcore.Request(\n\u001B[32m    238\u001B[39m     method=request.method,\n\u001B[32m    239\u001B[39m     url=httpcore.URL(\n\u001B[32m   (...)\u001B[39m\u001B[32m    247\u001B[39m     extensions=request.extensions,\n\u001B[32m    248\u001B[39m )\n\u001B[32m    249\u001B[39m \u001B[38;5;28;01mwith\u001B[39;00m map_httpcore_exceptions():\n\u001B[32m--> \u001B[39m\u001B[32m250\u001B[39m     resp = \u001B[38;5;28;43mself\u001B[39;49m\u001B[43m.\u001B[49m\u001B[43m_pool\u001B[49m\u001B[43m.\u001B[49m\u001B[43mhandle_request\u001B[49m\u001B[43m(\u001B[49m\u001B[43mreq\u001B[49m\u001B[43m)\u001B[49m\n\u001B[32m    252\u001B[39m \u001B[38;5;28;01massert\u001B[39;00m \u001B[38;5;28misinstance\u001B[39m(resp.stream, typing.Iterable)\n\u001B[32m    254\u001B[39m \u001B[38;5;28;01mreturn\u001B[39;00m Response(\n\u001B[32m    255\u001B[39m     status_code=resp.status,\n\u001B[32m    256\u001B[39m     headers=resp.headers,\n\u001B[32m    257\u001B[39m     stream=ResponseStream(resp.stream),\n\u001B[32m    258\u001B[39m     extensions=resp.extensions,\n\u001B[32m    259\u001B[39m )\n",
      "\u001B[36mFile \u001B[39m\u001B[32m~/Dev/python/LLM-for-Structural-Reasoning/.venv-nlp-project/lib/python3.11/site-packages/httpcore/_sync/connection_pool.py:256\u001B[39m, in \u001B[36mConnectionPool.handle_request\u001B[39m\u001B[34m(self, request)\u001B[39m\n\u001B[32m    253\u001B[39m         closing = \u001B[38;5;28mself\u001B[39m._assign_requests_to_connections()\n\u001B[32m    255\u001B[39m     \u001B[38;5;28mself\u001B[39m._close_connections(closing)\n\u001B[32m--> \u001B[39m\u001B[32m256\u001B[39m     \u001B[38;5;28;01mraise\u001B[39;00m exc \u001B[38;5;28;01mfrom\u001B[39;00m\u001B[38;5;250m \u001B[39m\u001B[38;5;28;01mNone\u001B[39;00m\n\u001B[32m    258\u001B[39m \u001B[38;5;66;03m# Return the response. Note that in this case we still have to manage\u001B[39;00m\n\u001B[32m    259\u001B[39m \u001B[38;5;66;03m# the point at which the response is closed.\u001B[39;00m\n\u001B[32m    260\u001B[39m \u001B[38;5;28;01massert\u001B[39;00m \u001B[38;5;28misinstance\u001B[39m(response.stream, typing.Iterable)\n",
      "\u001B[36mFile \u001B[39m\u001B[32m~/Dev/python/LLM-for-Structural-Reasoning/.venv-nlp-project/lib/python3.11/site-packages/httpcore/_sync/connection_pool.py:236\u001B[39m, in \u001B[36mConnectionPool.handle_request\u001B[39m\u001B[34m(self, request)\u001B[39m\n\u001B[32m    232\u001B[39m connection = pool_request.wait_for_connection(timeout=timeout)\n\u001B[32m    234\u001B[39m \u001B[38;5;28;01mtry\u001B[39;00m:\n\u001B[32m    235\u001B[39m     \u001B[38;5;66;03m# Send the request on the assigned connection.\u001B[39;00m\n\u001B[32m--> \u001B[39m\u001B[32m236\u001B[39m     response = \u001B[43mconnection\u001B[49m\u001B[43m.\u001B[49m\u001B[43mhandle_request\u001B[49m\u001B[43m(\u001B[49m\n\u001B[32m    237\u001B[39m \u001B[43m        \u001B[49m\u001B[43mpool_request\u001B[49m\u001B[43m.\u001B[49m\u001B[43mrequest\u001B[49m\n\u001B[32m    238\u001B[39m \u001B[43m    \u001B[49m\u001B[43m)\u001B[49m\n\u001B[32m    239\u001B[39m \u001B[38;5;28;01mexcept\u001B[39;00m ConnectionNotAvailable:\n\u001B[32m    240\u001B[39m     \u001B[38;5;66;03m# In some cases a connection may initially be available to\u001B[39;00m\n\u001B[32m    241\u001B[39m     \u001B[38;5;66;03m# handle a request, but then become unavailable.\u001B[39;00m\n\u001B[32m    242\u001B[39m     \u001B[38;5;66;03m#\u001B[39;00m\n\u001B[32m    243\u001B[39m     \u001B[38;5;66;03m# In this case we clear the connection and try again.\u001B[39;00m\n\u001B[32m    244\u001B[39m     pool_request.clear_connection()\n",
      "\u001B[36mFile \u001B[39m\u001B[32m~/Dev/python/LLM-for-Structural-Reasoning/.venv-nlp-project/lib/python3.11/site-packages/httpcore/_sync/connection.py:103\u001B[39m, in \u001B[36mHTTPConnection.handle_request\u001B[39m\u001B[34m(self, request)\u001B[39m\n\u001B[32m    100\u001B[39m     \u001B[38;5;28mself\u001B[39m._connect_failed = \u001B[38;5;28;01mTrue\u001B[39;00m\n\u001B[32m    101\u001B[39m     \u001B[38;5;28;01mraise\u001B[39;00m exc\n\u001B[32m--> \u001B[39m\u001B[32m103\u001B[39m \u001B[38;5;28;01mreturn\u001B[39;00m \u001B[38;5;28;43mself\u001B[39;49m\u001B[43m.\u001B[49m\u001B[43m_connection\u001B[49m\u001B[43m.\u001B[49m\u001B[43mhandle_request\u001B[49m\u001B[43m(\u001B[49m\u001B[43mrequest\u001B[49m\u001B[43m)\u001B[49m\n",
      "\u001B[36mFile \u001B[39m\u001B[32m~/Dev/python/LLM-for-Structural-Reasoning/.venv-nlp-project/lib/python3.11/site-packages/httpcore/_sync/http11.py:136\u001B[39m, in \u001B[36mHTTP11Connection.handle_request\u001B[39m\u001B[34m(self, request)\u001B[39m\n\u001B[32m    134\u001B[39m     \u001B[38;5;28;01mwith\u001B[39;00m Trace(\u001B[33m\"\u001B[39m\u001B[33mresponse_closed\u001B[39m\u001B[33m\"\u001B[39m, logger, request) \u001B[38;5;28;01mas\u001B[39;00m trace:\n\u001B[32m    135\u001B[39m         \u001B[38;5;28mself\u001B[39m._response_closed()\n\u001B[32m--> \u001B[39m\u001B[32m136\u001B[39m \u001B[38;5;28;01mraise\u001B[39;00m exc\n",
      "\u001B[36mFile \u001B[39m\u001B[32m~/Dev/python/LLM-for-Structural-Reasoning/.venv-nlp-project/lib/python3.11/site-packages/httpcore/_sync/http11.py:106\u001B[39m, in \u001B[36mHTTP11Connection.handle_request\u001B[39m\u001B[34m(self, request)\u001B[39m\n\u001B[32m     95\u001B[39m     \u001B[38;5;28;01mpass\u001B[39;00m\n\u001B[32m     97\u001B[39m \u001B[38;5;28;01mwith\u001B[39;00m Trace(\n\u001B[32m     98\u001B[39m     \u001B[33m\"\u001B[39m\u001B[33mreceive_response_headers\u001B[39m\u001B[33m\"\u001B[39m, logger, request, kwargs\n\u001B[32m     99\u001B[39m ) \u001B[38;5;28;01mas\u001B[39;00m trace:\n\u001B[32m    100\u001B[39m     (\n\u001B[32m    101\u001B[39m         http_version,\n\u001B[32m    102\u001B[39m         status,\n\u001B[32m    103\u001B[39m         reason_phrase,\n\u001B[32m    104\u001B[39m         headers,\n\u001B[32m    105\u001B[39m         trailing_data,\n\u001B[32m--> \u001B[39m\u001B[32m106\u001B[39m     ) = \u001B[38;5;28;43mself\u001B[39;49m\u001B[43m.\u001B[49m\u001B[43m_receive_response_headers\u001B[49m\u001B[43m(\u001B[49m\u001B[43m*\u001B[49m\u001B[43m*\u001B[49m\u001B[43mkwargs\u001B[49m\u001B[43m)\u001B[49m\n\u001B[32m    107\u001B[39m     trace.return_value = (\n\u001B[32m    108\u001B[39m         http_version,\n\u001B[32m    109\u001B[39m         status,\n\u001B[32m    110\u001B[39m         reason_phrase,\n\u001B[32m    111\u001B[39m         headers,\n\u001B[32m    112\u001B[39m     )\n\u001B[32m    114\u001B[39m network_stream = \u001B[38;5;28mself\u001B[39m._network_stream\n",
      "\u001B[36mFile \u001B[39m\u001B[32m~/Dev/python/LLM-for-Structural-Reasoning/.venv-nlp-project/lib/python3.11/site-packages/httpcore/_sync/http11.py:177\u001B[39m, in \u001B[36mHTTP11Connection._receive_response_headers\u001B[39m\u001B[34m(self, request)\u001B[39m\n\u001B[32m    174\u001B[39m timeout = timeouts.get(\u001B[33m\"\u001B[39m\u001B[33mread\u001B[39m\u001B[33m\"\u001B[39m, \u001B[38;5;28;01mNone\u001B[39;00m)\n\u001B[32m    176\u001B[39m \u001B[38;5;28;01mwhile\u001B[39;00m \u001B[38;5;28;01mTrue\u001B[39;00m:\n\u001B[32m--> \u001B[39m\u001B[32m177\u001B[39m     event = \u001B[38;5;28;43mself\u001B[39;49m\u001B[43m.\u001B[49m\u001B[43m_receive_event\u001B[49m\u001B[43m(\u001B[49m\u001B[43mtimeout\u001B[49m\u001B[43m=\u001B[49m\u001B[43mtimeout\u001B[49m\u001B[43m)\u001B[49m\n\u001B[32m    178\u001B[39m     \u001B[38;5;28;01mif\u001B[39;00m \u001B[38;5;28misinstance\u001B[39m(event, h11.Response):\n\u001B[32m    179\u001B[39m         \u001B[38;5;28;01mbreak\u001B[39;00m\n",
      "\u001B[36mFile \u001B[39m\u001B[32m~/Dev/python/LLM-for-Structural-Reasoning/.venv-nlp-project/lib/python3.11/site-packages/httpcore/_sync/http11.py:217\u001B[39m, in \u001B[36mHTTP11Connection._receive_event\u001B[39m\u001B[34m(self, timeout)\u001B[39m\n\u001B[32m    214\u001B[39m     event = \u001B[38;5;28mself\u001B[39m._h11_state.next_event()\n\u001B[32m    216\u001B[39m \u001B[38;5;28;01mif\u001B[39;00m event \u001B[38;5;129;01mis\u001B[39;00m h11.NEED_DATA:\n\u001B[32m--> \u001B[39m\u001B[32m217\u001B[39m     data = \u001B[38;5;28;43mself\u001B[39;49m\u001B[43m.\u001B[49m\u001B[43m_network_stream\u001B[49m\u001B[43m.\u001B[49m\u001B[43mread\u001B[49m\u001B[43m(\u001B[49m\n\u001B[32m    218\u001B[39m \u001B[43m        \u001B[49m\u001B[38;5;28;43mself\u001B[39;49m\u001B[43m.\u001B[49m\u001B[43mREAD_NUM_BYTES\u001B[49m\u001B[43m,\u001B[49m\u001B[43m \u001B[49m\u001B[43mtimeout\u001B[49m\u001B[43m=\u001B[49m\u001B[43mtimeout\u001B[49m\n\u001B[32m    219\u001B[39m \u001B[43m    \u001B[49m\u001B[43m)\u001B[49m\n\u001B[32m    221\u001B[39m     \u001B[38;5;66;03m# If we feed this case through h11 we'll raise an exception like:\u001B[39;00m\n\u001B[32m    222\u001B[39m     \u001B[38;5;66;03m#\u001B[39;00m\n\u001B[32m    223\u001B[39m     \u001B[38;5;66;03m#     httpcore.RemoteProtocolError: can't handle event type\u001B[39;00m\n\u001B[32m   (...)\u001B[39m\u001B[32m    227\u001B[39m     \u001B[38;5;66;03m# perspective. Instead we handle this case distinctly and treat\u001B[39;00m\n\u001B[32m    228\u001B[39m     \u001B[38;5;66;03m# it as a ConnectError.\u001B[39;00m\n\u001B[32m    229\u001B[39m     \u001B[38;5;28;01mif\u001B[39;00m data == \u001B[33mb\u001B[39m\u001B[33m\"\u001B[39m\u001B[33m\"\u001B[39m \u001B[38;5;129;01mand\u001B[39;00m \u001B[38;5;28mself\u001B[39m._h11_state.their_state == h11.SEND_RESPONSE:\n",
      "\u001B[36mFile \u001B[39m\u001B[32m~/Dev/python/LLM-for-Structural-Reasoning/.venv-nlp-project/lib/python3.11/site-packages/httpcore/_backends/sync.py:128\u001B[39m, in \u001B[36mSyncStream.read\u001B[39m\u001B[34m(self, max_bytes, timeout)\u001B[39m\n\u001B[32m    126\u001B[39m \u001B[38;5;28;01mwith\u001B[39;00m map_exceptions(exc_map):\n\u001B[32m    127\u001B[39m     \u001B[38;5;28mself\u001B[39m._sock.settimeout(timeout)\n\u001B[32m--> \u001B[39m\u001B[32m128\u001B[39m     \u001B[38;5;28;01mreturn\u001B[39;00m \u001B[38;5;28;43mself\u001B[39;49m\u001B[43m.\u001B[49m\u001B[43m_sock\u001B[49m\u001B[43m.\u001B[49m\u001B[43mrecv\u001B[49m\u001B[43m(\u001B[49m\u001B[43mmax_bytes\u001B[49m\u001B[43m)\u001B[49m\n",
      "\u001B[36mFile \u001B[39m\u001B[32m/Library/Frameworks/Python.framework/Versions/3.11/lib/python3.11/ssl.py:1295\u001B[39m, in \u001B[36mSSLSocket.recv\u001B[39m\u001B[34m(self, buflen, flags)\u001B[39m\n\u001B[32m   1291\u001B[39m     \u001B[38;5;28;01mif\u001B[39;00m flags != \u001B[32m0\u001B[39m:\n\u001B[32m   1292\u001B[39m         \u001B[38;5;28;01mraise\u001B[39;00m \u001B[38;5;167;01mValueError\u001B[39;00m(\n\u001B[32m   1293\u001B[39m             \u001B[33m\"\u001B[39m\u001B[33mnon-zero flags not allowed in calls to recv() on \u001B[39m\u001B[38;5;132;01m%s\u001B[39;00m\u001B[33m\"\u001B[39m %\n\u001B[32m   1294\u001B[39m             \u001B[38;5;28mself\u001B[39m.\u001B[34m__class__\u001B[39m)\n\u001B[32m-> \u001B[39m\u001B[32m1295\u001B[39m     \u001B[38;5;28;01mreturn\u001B[39;00m \u001B[38;5;28;43mself\u001B[39;49m\u001B[43m.\u001B[49m\u001B[43mread\u001B[49m\u001B[43m(\u001B[49m\u001B[43mbuflen\u001B[49m\u001B[43m)\u001B[49m\n\u001B[32m   1296\u001B[39m \u001B[38;5;28;01melse\u001B[39;00m:\n\u001B[32m   1297\u001B[39m     \u001B[38;5;28;01mreturn\u001B[39;00m \u001B[38;5;28msuper\u001B[39m().recv(buflen, flags)\n",
      "\u001B[36mFile \u001B[39m\u001B[32m/Library/Frameworks/Python.framework/Versions/3.11/lib/python3.11/ssl.py:1168\u001B[39m, in \u001B[36mSSLSocket.read\u001B[39m\u001B[34m(self, len, buffer)\u001B[39m\n\u001B[32m   1166\u001B[39m         \u001B[38;5;28;01mreturn\u001B[39;00m \u001B[38;5;28mself\u001B[39m._sslobj.read(\u001B[38;5;28mlen\u001B[39m, buffer)\n\u001B[32m   1167\u001B[39m     \u001B[38;5;28;01melse\u001B[39;00m:\n\u001B[32m-> \u001B[39m\u001B[32m1168\u001B[39m         \u001B[38;5;28;01mreturn\u001B[39;00m \u001B[38;5;28;43mself\u001B[39;49m\u001B[43m.\u001B[49m\u001B[43m_sslobj\u001B[49m\u001B[43m.\u001B[49m\u001B[43mread\u001B[49m\u001B[43m(\u001B[49m\u001B[38;5;28;43mlen\u001B[39;49m\u001B[43m)\u001B[49m\n\u001B[32m   1169\u001B[39m \u001B[38;5;28;01mexcept\u001B[39;00m SSLError \u001B[38;5;28;01mas\u001B[39;00m x:\n\u001B[32m   1170\u001B[39m     \u001B[38;5;28;01mif\u001B[39;00m x.args[\u001B[32m0\u001B[39m] == SSL_ERROR_EOF \u001B[38;5;129;01mand\u001B[39;00m \u001B[38;5;28mself\u001B[39m.suppress_ragged_eofs:\n",
      "\u001B[31mKeyboardInterrupt\u001B[39m: "
     ]
    }
   ],
   "execution_count": 9
  },
  {
   "metadata": {
    "ExecuteTime": {
     "end_time": "2025-06-03T17:30:27.184466Z",
     "start_time": "2025-06-03T17:30:27.178413Z"
    }
   },
   "cell_type": "code",
   "source": "print(error_n)",
   "id": "7095b0587e38fe59",
   "outputs": [
    {
     "name": "stdout",
     "output_type": "stream",
     "text": [
      "0\n"
     ]
    }
   ],
   "execution_count": 12
  },
  {
   "metadata": {
    "ExecuteTime": {
     "end_time": "2025-06-03T17:11:44.261605Z",
     "start_time": "2025-06-03T17:11:44.235865Z"
    }
   },
   "cell_type": "code",
   "source": [
    "data_combined = load_all_json_files(folder_path='./data/comparison/gpt_one_call')\n",
    "save_json(data_combined, \"./data/comparison/sudoku-combined.json\")"
   ],
   "id": "4a1509504440fef7",
   "outputs": [
    {
     "name": "stdout",
     "output_type": "stream",
     "text": [
      "Loaded 21 JSON files from ./data/comparison/gpt_one_call\n"
     ]
    },
    {
     "data": {
      "text/plain": [
       "True"
      ]
     },
     "execution_count": 67,
     "metadata": {},
     "output_type": "execute_result"
    }
   ],
   "execution_count": 67
  },
  {
   "metadata": {
    "ExecuteTime": {
     "end_time": "2025-06-03T16:12:59.640337Z",
     "start_time": "2025-06-03T16:12:59.636433Z"
    }
   },
   "cell_type": "code",
   "source": [
    "lines = string_data.split('\\n')\n",
    "string_data = completion.choices[0].message.content.replace('\\'', '\"')\n",
    "\n",
    "json.loads(string_data)"
   ],
   "id": "da68e5b92c638fb1",
   "outputs": [],
   "execution_count": 8
  },
  {
   "metadata": {},
   "cell_type": "code",
   "outputs": [],
   "execution_count": null,
   "source": "",
   "id": "2a22d902f2f58144"
  }
 ],
 "metadata": {
  "kernelspec": {
   "display_name": ".venv-nlp-project",
   "language": "python",
   "name": ".venv-nlp-project"
  },
  "language_info": {
   "codemirror_mode": {
    "name": "ipython",
    "version": 2
   },
   "file_extension": ".py",
   "mimetype": "text/x-python",
   "name": "python",
   "nbconvert_exporter": "python",
   "pygments_lexer": "ipython2",
   "version": "2.7.6"
  }
 },
 "nbformat": 4,
 "nbformat_minor": 5
}
