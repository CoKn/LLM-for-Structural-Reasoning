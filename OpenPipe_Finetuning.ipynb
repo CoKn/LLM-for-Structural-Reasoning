{
 "cells": [
  {
   "metadata": {},
   "cell_type": "markdown",
   "source": "## Data Transformation and Finetuning with OpenPipe",
   "id": "6538db123adabdb0"
  },
  {
   "cell_type": "code",
   "id": "initial_id",
   "metadata": {
    "collapsed": true,
    "ExecuteTime": {
     "end_time": "2025-06-03T14:56:19.303225Z",
     "start_time": "2025-06-03T14:56:19.264409Z"
    }
   },
   "source": [
    "import json\n",
    "import random\n",
    "from openpipe import OpenAI\n",
    "from prompts.prompts import qp_system_prompt, cp_system_prompt\n",
    "from utils.save_and_load_json import load_all_json_files, save_jsonl\n",
    "from utils.transfrom_data_for_finetuing import split_dataset, format_qp_for_openpipe_finetuning, format_cp_for_openpipe_finetuning\n",
    "\n",
    "# load in datasets\n",
    "logic701 = load_all_json_files(folder_path='./data/train/raw')\n",
    "gpt_one_call = load_all_json_files(folder_path='./data/synthetic/processed/gpt_one_call')\n",
    "gpt_two_calls = load_all_json_files(folder_path='./data/synthetic/processed/gpt_two_calls')\n",
    "sudoku = load_all_json_files(folder_path='./data/synthetic/processed/sudoku_4x4')"
   ],
   "outputs": [
    {
     "name": "stdout",
     "output_type": "stream",
     "text": [
      "Loaded 1 JSON files from ./data/train/raw\n",
      "Loaded 1 JSON files from ./data/synthetic/processed/gpt_one_call\n",
      "Loaded 1 JSON files from ./data/synthetic/processed/gpt_two_calls\n",
      "Loaded 1 JSON files from ./data/synthetic/processed/sudoku_4x4\n"
     ]
    }
   ],
   "execution_count": 2
  },
  {
   "metadata": {
    "ExecuteTime": {
     "end_time": "2025-06-03T14:56:22.081828Z",
     "start_time": "2025-06-03T14:56:22.068816Z"
    }
   },
   "cell_type": "code",
   "source": [
    "# Set seed for reproducibility\n",
    "random.seed(42)\n",
    "\n",
    "# Get 250 random samples\n",
    "logic701_samples = random.sample(logic701[0], 250)\n",
    "sudoku_samples = random.sample(sudoku[0], 250)\n",
    "gpt_one_call_samples = random.sample(gpt_one_call[0], 250)\n",
    "gpt_two_call_samples = random.sample(gpt_two_calls[0], 250)\n",
    "\n",
    "print('verifying dataset len samples:')\n",
    "print(len(logic701_samples))\n",
    "print(len(sudoku_samples))\n",
    "print(len(gpt_one_call_samples))\n",
    "print(len(gpt_two_call_samples))\n",
    "\n",
    "# create qp and cp splits\n",
    "logic701_samples_qp, logic701_samples_cp = split_dataset(logic701_samples)\n",
    "sudoku_samples_qp, sudoku_samples_cp = split_dataset(sudoku_samples)\n",
    "gpt_one_call_samples_qp, gpt_one_call_samples_cp = split_dataset(gpt_one_call_samples)\n",
    "gpt_two_call_samples_qp, gpt_two_call_samples_cp = split_dataset(gpt_two_call_samples)\n",
    "\n",
    "print('verifying dataset len for qp and cp:')\n",
    "for dataset in [logic701_samples_qp, logic701_samples_cp, sudoku_samples_qp, sudoku_samples_cp, gpt_one_call_samples_qp, gpt_two_call_samples_qp, gpt_two_call_samples_cp]: print(len(dataset))"
   ],
   "id": "bbdb9f7e733c1636",
   "outputs": [
    {
     "name": "stdout",
     "output_type": "stream",
     "text": [
      "verifying dataset len samples:\n",
      "250\n",
      "250\n",
      "250\n",
      "250\n",
      "verifying dataset len for qp and cp:\n",
      "250\n",
      "250\n",
      "250\n",
      "250\n",
      "250\n",
      "250\n",
      "250\n"
     ]
    }
   ],
   "execution_count": 3
  },
  {
   "metadata": {
    "ExecuteTime": {
     "end_time": "2025-06-03T14:56:54.546442Z",
     "start_time": "2025-06-03T14:56:54.422200Z"
    }
   },
   "cell_type": "code",
   "source": [
    "# format data into OpenAI finetuning format for OpenPipe\n",
    "logic701_formatted_qp = format_qp_for_openpipe_finetuning(logic701_samples_qp, system_prompt=qp_system_prompt)\n",
    "logic701_formatted_cp = format_cp_for_openpipe_finetuning(logic701_samples_cp, system_prompt=cp_system_prompt)\n",
    "\n",
    "sudoku_formatted_qp = format_qp_for_openpipe_finetuning(sudoku_samples_qp, system_prompt=qp_system_prompt)\n",
    "sudoku_formatted_cp = format_cp_for_openpipe_finetuning(sudoku_samples_cp, system_prompt=cp_system_prompt)\n",
    "\n",
    "gpt_one_call_formatted_qp = format_qp_for_openpipe_finetuning(gpt_one_call_samples_qp, system_prompt=qp_system_prompt)\n",
    "gpt_one_call_formatted_cp = format_cp_for_openpipe_finetuning(gpt_one_call_samples_cp, system_prompt=qp_system_prompt)\n",
    "\n",
    "gpt_two_call_formatted_qp = format_qp_for_openpipe_finetuning(gpt_two_call_samples_qp, system_prompt=qp_system_prompt)\n",
    "gpt_two_call_formatted_cp = format_cp_for_openpipe_finetuning(gpt_two_call_samples_cp, system_prompt=qp_system_prompt)\n",
    "\n",
    "# save data as jsonl\n",
    "save_jsonl(logic701_formatted_qp, \"./data/synthetic/finetuning/logic701_finetuning_qp.jsonl\")\n",
    "save_jsonl(logic701_formatted_cp, \"./data/synthetic/finetuning/logic701_finetuning_cp.jsonl\")\n",
    "\n",
    "save_jsonl(sudoku_formatted_qp, \"./data/synthetic/finetuning/sudoku_finetuning_qp.jsonl\")\n",
    "save_jsonl(sudoku_formatted_cp, \"./data/synthetic/finetuning/sudoku_finetuning_cp.jsonl\")\n",
    "\n",
    "save_jsonl(gpt_one_call_formatted_qp, \"./data/synthetic/finetuning/gpt_one_call_finetuning_qp.jsonl\")\n",
    "save_jsonl(gpt_one_call_formatted_cp, \"./data/synthetic/finetuning/gpt_one_call_finetuning_cp.jsonl\")\n",
    "\n",
    "save_jsonl(gpt_two_call_formatted_qp, \"./data/synthetic/finetuning/gpt_two_call_finetuning_qp.jsonl\")\n",
    "save_jsonl(gpt_two_call_formatted_cp, \"./data/synthetic/finetuning/gpt_two_call_finetuning_cp.jsonl\")"
   ],
   "id": "5aaa7dbd01f592b7",
   "outputs": [],
   "execution_count": 4
  },
  {
   "metadata": {},
   "cell_type": "code",
   "outputs": [],
   "execution_count": null,
   "source": "",
   "id": "1132f7ff3b17a5aa"
  }
 ],
 "metadata": {
  "kernelspec": {
   "display_name": ".venv-nlp-project",
   "language": "python",
   "name": ".venv-nlp-project"
  },
  "language_info": {
   "codemirror_mode": {
    "name": "ipython",
    "version": 2
   },
   "file_extension": ".py",
   "mimetype": "text/x-python",
   "name": "python",
   "nbconvert_exporter": "python",
   "pygments_lexer": "ipython2",
   "version": "2.7.6"
  }
 },
 "nbformat": 4,
 "nbformat_minor": 5
}
