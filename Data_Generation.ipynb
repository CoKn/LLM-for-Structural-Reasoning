{
 "cells": [
  {
   "metadata": {},
   "cell_type": "markdown",
   "source": "## Synthetic Data Generation with Gpt",
   "id": "ebaeedf11805ed18"
  },
  {
   "cell_type": "code",
   "id": "initial_id",
   "metadata": {
    "collapsed": true,
    "ExecuteTime": {
     "end_time": "2025-06-02T14:00:59.635999Z",
     "start_time": "2025-06-02T14:00:58.721092Z"
    }
   },
   "source": [
    "import os\n",
    "from utils.AzureAdapter import AzureAdapter\n",
    "from dotenv import load_dotenv\n",
    "\n",
    "load_dotenv()\n",
    "\n",
    "api_key = os.getenv(\"AZURE_API_KEY\")\n",
    "api_endpoint = os.getenv(\"AZURE_API_ENDPOINT\")\n",
    "api_version = os.getenv(\"AZURE_API_VERSION\")\n",
    "deployment_name = \"gpt-4o\"\n",
    "\n",
    "llm = AzureAdapter(api_key=api_key, api_endpoint=api_endpoint, api_version=api_version)"
   ],
   "outputs": [],
   "execution_count": 1
  },
  {
   "metadata": {},
   "cell_type": "markdown",
   "source": "#### Generating puzzles with one llm call",
   "id": "bb335258a96e709d"
  },
  {
   "metadata": {
    "ExecuteTime": {
     "end_time": "2025-06-02T14:18:04.872980Z",
     "start_time": "2025-06-02T14:17:27.429821Z"
    }
   },
   "cell_type": "code",
   "source": [
    "from prompts.prompts import entire_puzzle_generation_prompt\n",
    "\n",
    "prompt = 'Generate generate 10 new puzzles'\n",
    "res = llm.call_model(prompt=prompt, system_prompt=entire_puzzle_generation_prompt, deployment_name=deployment_name)"
   ],
   "id": "fb85557da2051766",
   "outputs": [],
   "execution_count": 15
  },
  {
   "metadata": {
    "ExecuteTime": {
     "end_time": "2025-06-02T14:18:08.773623Z",
     "start_time": "2025-06-02T14:18:08.759366Z"
    }
   },
   "cell_type": "code",
   "source": [
    "import json\n",
    "import time\n",
    "from random import randint\n",
    "from utils.save_json import save_json\n",
    "\n",
    "seed = int(time.time())\n",
    "\n",
    "# Parse the response from the llm\n",
    "data = json.loads(res)\n",
    "\n",
    "# Add sel_idx and id\n",
    "if type(data) == dict and 'puzzles' in data.keys():\n",
    "    data = data['puzzles']\n",
    "\n",
    "if type(data) == dict:\n",
    "    data = [data]\n",
    "\n",
    "# Save each puzzle as own json\n",
    "for puzzle in data:\n",
    "    rand =  randint(0, 1000000)\n",
    "    puzzle['id'] = rand\n",
    "    puzzle['sel_idx'] = rand\n",
    "    save_json(data=puzzle, file_path=f'data/synthetic/gpt_one_call/{seed}_{rand}.json')\n",
    "\n",
    "print((type(data), len(data)))"
   ],
   "id": "bceeef2f553d913",
   "outputs": [
    {
     "name": "stdout",
     "output_type": "stream",
     "text": [
      "(<class 'list'>, 8)\n"
     ]
    }
   ],
   "execution_count": 16
  },
  {
   "metadata": {},
   "cell_type": "markdown",
   "source": "#### Creating Puzzles in multiple llm calls",
   "id": "b1678ffc89fbddd6"
  },
  {
   "metadata": {},
   "cell_type": "code",
   "outputs": [],
   "execution_count": null,
   "source": [
    "from prompts.prompts import question_generation_prompt, solution_generation_prompt\n",
    "\n",
    "prompt = \"Generate generate 2 new puzzle questions\"\n",
    "res = llm.call_model(prompt=prompt, system_prompt=question_generation_prompt, deployment_name=deployment_name)"
   ],
   "id": "38c726a826ebc414"
  }
 ],
 "metadata": {
  "kernelspec": {
   "display_name": ".venv-nlp-project",
   "language": "python",
   "name": ".venv-nlp-project"
  },
  "language_info": {
   "codemirror_mode": {
    "name": "ipython",
    "version": 2
   },
   "file_extension": ".py",
   "mimetype": "text/x-python",
   "name": "python",
   "nbconvert_exporter": "python",
   "pygments_lexer": "ipython2",
   "version": "2.7.6"
  }
 },
 "nbformat": 4,
 "nbformat_minor": 5
}
