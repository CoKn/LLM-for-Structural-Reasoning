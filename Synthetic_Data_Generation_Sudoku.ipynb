{
 "cells": [
  {
   "metadata": {},
   "cell_type": "markdown",
   "source": "### Generating Synthetic Data using Sudoku",
   "id": "7df7272c1e153dee"
  },
  {
   "cell_type": "code",
   "id": "initial_id",
   "metadata": {
    "collapsed": true,
    "ExecuteTime": {
     "end_time": "2025-06-02T21:27:30.394258Z",
     "start_time": "2025-06-02T21:27:30.385472Z"
    }
   },
   "source": [
    "from utils.sudoku import SudokuEnvironment\n",
    "\n",
    "game = SudokuEnvironment()\n",
    "game.create_puzzle(difficulty='easy')\n",
    "game.display()\n",
    "deductions = game.get_explicit_deductions()\n",
    "print(deductions[0])"
   ],
   "outputs": [
    {
     "name": "stdout",
     "output_type": "stream",
     "text": [
      "+-------+-------+\n",
      "| . 2 | 3 . |\n",
      "| 3 . | 1 2 |\n",
      "+-------+-------+\n",
      "| 2 1 | . . |\n",
      "| 4 3 | 2 . |\n",
      "+-------+-------+\n",
      "['Position (0,0) must be 1 (only valid value  because 10 - 2 - 3 - 4 = 1)', 'Position (0,3) must be 4 (only valid value  because 10 - 1 - 2 - 3 = 4)', 'Position (1,1) must be 4 (only valid value  because 10 - 1 - 2 - 3 = 4)', 'Position (2,2) must be 4 (only valid value  because 10 - 1 - 2 - 3 = 4)', 'Position (3,3) must be 1 (only valid value  because 10 - 2 - 3 - 4 = 1)', \"Position (2,3) must be 3 (only position in row 2 for 3 because missing 3, 4 from unit; 3 can't go in (2,2) blocked by col 2)\"]\n"
     ]
    }
   ],
   "execution_count": 3
  },
  {
   "metadata": {},
   "cell_type": "markdown",
   "source": "#### Build Data generation pipeline",
   "id": "dc9b53a1eb876d1d"
  },
  {
   "metadata": {},
   "cell_type": "markdown",
   "source": "##### Build question",
   "id": "9efefacd4bbb3e65"
  },
  {
   "metadata": {
    "ExecuteTime": {
     "end_time": "2025-06-02T21:30:54.647932Z",
     "start_time": "2025-06-02T21:30:54.642241Z"
    }
   },
   "cell_type": "code",
   "source": [
    "# define overall question\n",
    "question = 'You have the following Sudoku puzzle which of the following answers is correct? \\n'\n",
    "\n",
    "# Append the game to the question\n",
    "question += game.display(print_game=False)\n",
    "\n",
    "# get empty cells to generate randomly wrong answers\n",
    "empty_cells = game.get_empty_cells()\n",
    "print(empty_cells)\n",
    "\n",
    "# Get permutations -> create a questions for each of the empty fields -> for possible answers a, b, c, d create one correct answer and 3 wrong answers\n",
    "\n"
   ],
   "id": "612ac26ade56ca7",
   "outputs": [
    {
     "name": "stdout",
     "output_type": "stream",
     "text": [
      "[(0, 0), (0, 3), (1, 1), (2, 2), (2, 3), (3, 3)]\n"
     ]
    }
   ],
   "execution_count": 5
  },
  {
   "metadata": {},
   "cell_type": "markdown",
   "source": "#### Create Question Parsing",
   "id": "b317f0cd04dff9d3"
  },
  {
   "metadata": {},
   "cell_type": "code",
   "outputs": [],
   "execution_count": null,
   "source": "# get positions of empty fields? Get position of non empty fields? get rows, get columns and get squares?",
   "id": "d419dd199673c59b"
  },
  {
   "metadata": {},
   "cell_type": "markdown",
   "source": [
    "\n",
    "#### Generating answer"
   ],
   "id": "7c179f910711d66"
  },
  {
   "metadata": {},
   "cell_type": "markdown",
   "source": "#### Generating CoT",
   "id": "62dd878261baa8ee"
  },
  {
   "metadata": {},
   "cell_type": "code",
   "outputs": [],
   "execution_count": null,
   "source": [
    "# Get full deduction\n",
    "cot = game.get_explicit_deductions()[0]"
   ],
   "id": "85f8970b4deeb3f7"
  },
  {
   "metadata": {},
   "cell_type": "markdown",
   "source": "#### Generating CoT parsing",
   "id": "33b084fca6f69f48"
  },
  {
   "metadata": {},
   "cell_type": "code",
   "outputs": [],
   "execution_count": null,
   "source": [
    "# Get statements from deduction\n",
    "statements = game.get_explicit_deductions()[1]\n",
    "\n",
    "# get evidence from deduction\n",
    "evidence = game.get_explicit_deductions()[2]\n",
    "\n",
    "# Add verification -> wrong verifications?\n",
    "# verification = []"
   ],
   "id": "8d725bd97904a927"
  },
  {
   "metadata": {},
   "cell_type": "code",
   "outputs": [],
   "execution_count": null,
   "source": [
    "schema = {\n",
    "    \"question\": \"\",\n",
    "    \"question_parsing\": [],\n",
    "    \"answer\": \"d\",\n",
    "    \"id\": 123230,\n",
    "    \"sel_idx\": 123230,\n",
    "    \"cot\": \"\",\n",
    "    \"cot_parsing\": []\n",
    "}"
   ],
   "id": "720d28c1e5adabd1"
  },
  {
   "metadata": {},
   "cell_type": "code",
   "outputs": [],
   "execution_count": null,
   "source": [
    "{\n",
    "  \"question\": \"Five employees, A, B, C, D, and E, must be assigned to work on one of two projects: Project X or Project Y. The following conditions apply: 1) If A is assigned to Project X, then B must be assigned to Project Y. 2) C and D must be assigned to the same project. 3) E cannot be assigned to Project Y if B is assigned to Project Y. 4) If D is assigned to Project X, then A cannot be assigned to the same project. In the scenario where A is assigned to Project Y, what must be true? A) B is assigned to Project Y. B) C is assigned to Project X. C) D is assigned to Project Y. D) E is assigned to Project X.\",\n",
    "  \"question_parsing\": [\n",
    "    \"Entities: A, B, C, D, E\",\n",
    "    \"Binary choice: Project X or Project Y\",\n",
    "    \"Condition 1: If A is assigned to Project X, B must be assigned to Project Y.\",\n",
    "    \"Condition 2: C and D must be assigned to the same project.\",\n",
    "    \"Condition 3: E cannot be assigned to Project Y if B is assigned to Project Y.\",\n",
    "    \"Condition 4: If D is assigned to Project X, A cannot be assigned to Project X.\",\n",
    "    \"Scenario: A is assigned to Project Y\",\n",
    "    \"Question: What must be true?\"\n",
    "  ],\n",
    "  \"id\": 123230,\n",
    "  \"sel_idx\": 123230,\n",
    "  \"answer\": \"d\",\n",
    "  \"cot\": \"When A is assigned to Project Y, we analyze the constraints. Constraint 1 doesn't apply because it involves A being in Project X. Constraint 2 mandates C and D must be on the same project. Constraint 3 involves E being on Y only if B is not on Y \\u2014 irrelevant unless B's assignment is known. Constraint 4 doesn't apply since it's based on D's assignment to X affecting A. We have freedom with B's assignment because Constraint 1 doesn't bind B to a project when A is on Y. When A is on Y, B can be on either project, allowing flexibility. With C and D tied to the same project, they can both be on X or Y. However, if E is on Y with B, it breaches Constraint 3. Therefore, E must be on X to avoid conflict if B happens to be on Y, making Option D (E on X) the necessary truth.\",\n",
    "  \"cot_parsing\": [\n",
    "    {\n",
    "      \"statement\": \"When A is assigned to Project Y, Constraint 1 is irrelevant.\",\n",
    "      \"evidence\": \"Constraint 1 only applies when A is on X.\",\n",
    "      \"Verification\": \"true\"\n",
    "    },\n",
    "    {\n",
    "      \"statement\": \"C and D must be assigned to the same project.\",\n",
    "      \"evidence\": \"Constraint 2 insists on C and D being together.\",\n",
    "      \"Verification\": \"true\"\n",
    "    },\n",
    "    {\n",
    "      \"statement\": \"Constraint 3 mandates E cannot be on Project Y if B is also on Y.\",\n",
    "      \"evidence\": \"Explicit statement from Constraint 3.\",\n",
    "      \"Verification\": \"true\"\n",
    "    },\n",
    "    {\n",
    "      \"statement\": \"Consider B on Project Y as it is not fixed and explore its implications.\",\n",
    "      \"evidence\": \"Without Constraint 1 in effect, B has no restrictions tethering it.\",\n",
    "      \"Verification\": \"true\"\n",
    "    },\n",
    "    {\n",
    "      \"statement\": \"To satisfy Constraint 3, E must be on Project X.\",\n",
    "      \"evidence\": \"If B is free to go to Y, then E cannot go to Y and must be on X.\",\n",
    "      \"Verification\": \"true\"\n",
    "    }\n",
    "  ]\n",
    "}"
   ],
   "id": "2a62d28a6afaed2"
  }
 ],
 "metadata": {
  "kernelspec": {
   "display_name": ".venv-nlp-project",
   "language": "python",
   "name": ".venv-nlp-project"
  },
  "language_info": {
   "codemirror_mode": {
    "name": "ipython",
    "version": 2
   },
   "file_extension": ".py",
   "mimetype": "text/x-python",
   "name": "python",
   "nbconvert_exporter": "python",
   "pygments_lexer": "ipython2",
   "version": "2.7.6"
  }
 },
 "nbformat": 4,
 "nbformat_minor": 5
}
