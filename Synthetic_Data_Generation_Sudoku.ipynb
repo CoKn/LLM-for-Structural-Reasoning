{
 "cells": [
  {
   "metadata": {},
   "cell_type": "markdown",
   "source": "### Generating Synthetic Data using Sudoku",
   "id": "7df7272c1e153dee"
  },
  {
   "metadata": {},
   "cell_type": "markdown",
   "source": "#### Create a new sudoku game",
   "id": "3bc8138a88a2a97b"
  },
  {
   "cell_type": "code",
   "id": "initial_id",
   "metadata": {
    "collapsed": true,
    "ExecuteTime": {
     "end_time": "2025-06-03T12:17:53.188896Z",
     "start_time": "2025-06-03T12:17:53.182704Z"
    }
   },
   "source": [
    "from utils.sudoku import SudokuEnvironment\n",
    "\n",
    "game = SudokuEnvironment()\n",
    "game.create_puzzle(difficulty='easy')\n",
    "_ = game.display()"
   ],
   "outputs": [
    {
     "name": "stdout",
     "output_type": "stream",
     "text": [
      "+-------+-------+\n",
      "| 1 2 | _ 4 |\n",
      "| _ 4 | 1 2 |\n",
      "+-------+-------+\n",
      "| 2 _ | _ 3 |\n",
      "| 4 _ | 2 _ |\n",
      "+-------+-------+\n"
     ]
    }
   ],
   "execution_count": 34
  },
  {
   "metadata": {},
   "cell_type": "markdown",
   "source": "#### Build Data generation pipeline",
   "id": "dc9b53a1eb876d1d"
  },
  {
   "metadata": {},
   "cell_type": "markdown",
   "source": "##### Build question",
   "id": "9efefacd4bbb3e65"
  },
  {
   "metadata": {
    "ExecuteTime": {
     "end_time": "2025-06-03T12:17:54.434793Z",
     "start_time": "2025-06-03T12:17:54.423686Z"
    }
   },
   "cell_type": "code",
   "source": [
    "import random\n",
    "import copy\n",
    "from random import randint\n",
    "\n",
    "def randomize_dict_values(dict_list, seed=None):\n",
    "    \"\"\"\n",
    "    Replace each 'value' with a random different value from range 1-4.\n",
    "    The new value is guaranteed to be different from the original.\n",
    "    All other keys remain unchanged.\n",
    "\n",
    "    Args:\n",
    "        dict_list: List of dictionaries containing 'value' key\n",
    "        seed: Random seed for reproducibility (optional)\n",
    "\n",
    "    Returns:\n",
    "        List of dictionaries with 'value' key randomized to different values\n",
    "    \"\"\"\n",
    "    if not dict_list:\n",
    "        return []\n",
    "\n",
    "    if seed is not None:\n",
    "        random.seed(seed)\n",
    "\n",
    "    # Create deep copy to avoid modifying the original\n",
    "    randomized_list = copy.deepcopy(dict_list)\n",
    "\n",
    "    # Replace each value with a random different value\n",
    "    for new_dict in randomized_list:\n",
    "        original_value = new_dict['value']\n",
    "\n",
    "        # Create possible values (1-4) excluding the original value\n",
    "        possible_values = [v for v in range(1, 5) if v != original_value]\n",
    "\n",
    "        # Randomly select from the remaining values\n",
    "        new_dict['value'] = random.choice(possible_values)\n",
    "\n",
    "    return randomized_list\n",
    "\n",
    "def generate_answer_options(correct_deduction, wrong_deductions):\n",
    "    \"\"\"\n",
    "    Generate multiple-choice answer options with one correct and several wrong answers.\n",
    "\n",
    "    Args:\n",
    "        correct_deduction: Dictionary containing the correct deduction\n",
    "        wrong_deductions: List of dictionaries containing wrong deductions\n",
    "\n",
    "    Returns:\n",
    "        tuple: (formatted_answer_string, correct_answer_letter)\n",
    "    \"\"\"\n",
    "    answer_options_list = []\n",
    "    answer_options_set = {'A', 'B', 'C', 'D'}\n",
    "\n",
    "    # Select a random option for the correct answer\n",
    "    correct_answer_option = random.choice(list(answer_options_set))\n",
    "    answer_options_set.discard(correct_answer_option)\n",
    "\n",
    "    # Add correct answer to the list\n",
    "    correct_text = f\"{correct_answer_option}) Position ({correct_deduction['row']},{correct_deduction['col']}) must be {correct_deduction['value']}\"\n",
    "    answer_options_list.append(correct_text)\n",
    "\n",
    "    # print(len(wrong_deductions))\n",
    "    for idx, wrong_deduction in enumerate(wrong_deductions):\n",
    "        wrong_answer_option = random.choice(list(answer_options_set))\n",
    "        answer_options_set.discard(wrong_answer_option)\n",
    "        # print(wrong_deduction)\n",
    "        wrong_text = f\"{wrong_answer_option}) Position ({wrong_deduction['row']},{wrong_deduction['col']}) must be {wrong_deduction['value']}\"\n",
    "        answer_options_list.append(wrong_text)\n",
    "        if idx == 2:\n",
    "            break\n",
    "\n",
    "    # Sort by the option letter and join into a string\n",
    "    answer_options_list.sort(key=lambda x: x[0])\n",
    "    formatted_answers = \"\\n\".join(answer_options_list)\n",
    "\n",
    "    # Extract the correct answer letter (without the closing parenthesis)\n",
    "    correct_letter = correct_answer_option[0]\n",
    "\n",
    "    return formatted_answers, correct_letter"
   ],
   "id": "f4c828acbcb7e998",
   "outputs": [],
   "execution_count": 35
  },
  {
   "metadata": {
    "ExecuteTime": {
     "end_time": "2025-06-03T12:17:54.987609Z",
     "start_time": "2025-06-03T12:17:54.968503Z"
    }
   },
   "cell_type": "code",
   "source": [
    "# 1. First we define the schema for the output data\n",
    "\n",
    "puzzle = {\n",
    "    \"question\": None,\n",
    "    \"question_parsing\": None,\n",
    "    \"answer\": None,\n",
    "    \"id\": None,\n",
    "    \"sel_idx\": None,\n",
    "    \"cot\": None,\n",
    "    \"cot_parsing\": None\n",
    "}\n",
    "\n",
    "# 2. Let's create the questions with\n",
    "# define overall question\n",
    "question = 'You have the following Sudoku puzzle which of the following answers is correct? \\n'\n",
    "\n",
    "# Append the game to the question\n",
    "question += game.display(print_game=False)\n",
    "\n",
    "deductions_data = game.get_explicit_deductions()[-1]\n",
    "correct_deduction = deductions_data[0]\n",
    "wrong_deductions = randomize_dict_values(deductions_data[1:])\n",
    "opts, answer = generate_answer_options(correct_deduction, wrong_deductions)\n",
    "question += \"\\n\" + opts\n",
    "print(question)\n",
    "\n",
    "puzzle['question'] = question\n",
    "puzzle['answer'] = answer\n",
    "\n",
    "# Get permutations -> create a questions for each of the empty fields -> for possible answers a, b, c, d create one correct answer and 3 wrong answers\n",
    "\n",
    "\n",
    "# 3. Let's create the question parsing\n",
    "qp_raw = game.get_all_units_as_strings()\n",
    "qp_string = 'The puzzle has the rows: ' + str(qp_raw['rows'])\n",
    "qp_string += '\\nThe puzzle has the columns: ' + str(qp_raw['columns'])\n",
    "qp_string += '\\nThe puzzle has the squares: ' + str(qp_raw['squares'])\n",
    "\n",
    "print(qp_string)\n",
    "\n",
    "puzzle['question_parsing'] = qp_string\n",
    "\n",
    "# 4. Generating cot\n",
    "# Get full deduction\n",
    "cot = game.get_explicit_deductions()[0]\n",
    "cot_string = \"; \".join(cot)\n",
    "puzzle['cot'] = cot_string\n",
    "\n",
    "# 5. Generating cot parsing\n",
    "# Get statements from deduction\n",
    "statements = game.get_explicit_deductions()[1]\n",
    "# get evidence from deduction\n",
    "evidence = game.get_explicit_deductions()[2]\n",
    "\n",
    "# Add verification -> wrong verifications?\n",
    "puzzle['cot_parsing'] = [{\"statement\": statements[idx], \"evidence\": evidence[idx],\"Verification\": \"true\"} for idx in range(len(statements))]\n",
    "\n",
    "\n",
    "# 6. Generate ids\n",
    "\n",
    "# add random ids\n",
    "rand =  randint(0, 100000000)\n",
    "puzzle['id'] = rand\n",
    "puzzle['sel_idx'] = rand\n",
    "print(\"--------\")\n",
    "\n",
    "puzzle"
   ],
   "id": "40a7af8c20389d89",
   "outputs": [
    {
     "name": "stdout",
     "output_type": "stream",
     "text": [
      "You have the following Sudoku puzzle which of the following answers is correct? \n",
      "+-------+-------+\n",
      "| 1 2 | _ 4 |\n",
      "| _ 4 | 1 2 |\n",
      "+-------+-------+\n",
      "| 2 _ | _ 3 |\n",
      "| 4 _ | 2 _ |\n",
      "+-------+-------+\n",
      "A) Position (0,2) must be 3\n",
      "B) Position (2,2) must be 2\n",
      "C) Position (2,1) must be 2\n",
      "D) Position (1,0) must be 2\n",
      "The puzzle has the rows: ['1 2 _ 4', '_ 4 1 2', '2 _ _ 3', '4 _ 2 _']\n",
      "The puzzle has the columns: ['1 _ 2 4', '2 4 _ _', '_ 1 _ 2', '4 2 3 _']\n",
      "The puzzle has the squares: [' 12_4', ' _412', ' 2_4_', ' _32_']\n",
      "--------\n"
     ]
    },
    {
     "data": {
      "text/plain": [
       "{'question': 'You have the following Sudoku puzzle which of the following answers is correct? \\n+-------+-------+\\n| 1 2 | _ 4 |\\n| _ 4 | 1 2 |\\n+-------+-------+\\n| 2 _ | _ 3 |\\n| 4 _ | 2 _ |\\n+-------+-------+\\nA) Position (0,2) must be 3\\nB) Position (2,2) must be 2\\nC) Position (2,1) must be 2\\nD) Position (1,0) must be 2',\n",
       " 'question_parsing': \"The puzzle has the rows: ['1 2 _ 4', '_ 4 1 2', '2 _ _ 3', '4 _ 2 _']\\nThe puzzle has the columns: ['1 _ 2 4', '2 4 _ _', '_ 1 _ 2', '4 2 3 _']\\nThe puzzle has the squares: [' 12_4', ' _412', ' 2_4_', ' _32_']\",\n",
       " 'answer': 'A',\n",
       " 'id': 68541209,\n",
       " 'sel_idx': 68541209,\n",
       " 'cot': \"Position (0,2) must be 3 (only valid value  because 10 - 1 - 2 - 4 = 3); Position (1,0) must be 3 (only valid value  because 10 - 1 - 2 - 4 = 3); Position (2,1) must be 1 (only valid value  because 10 - 2 - 3 - 4 = 1); Position (2,2) must be 4 (only valid value  because 10 - 1 - 2 - 3 = 4); Position (3,3) must be 1 (only valid value  because 10 - 2 - 3 - 4 = 1); Position (3,1) must be 3 (only position in row 3 for 3 because missing 1, 3 from unit; 3 can't go in (3,3) blocked by col 3, block (1,1))\",\n",
       " 'cot_parsing': [{'statement': 'Position (0,2) must be 3',\n",
       "   'evidence': 'Only valid value because 10 - 1 - 2 - 4 = 3',\n",
       "   'Verification': 'true'},\n",
       "  {'statement': 'Position (1,0) must be 3',\n",
       "   'evidence': 'Only valid value because 10 - 1 - 2 - 4 = 3',\n",
       "   'Verification': 'true'},\n",
       "  {'statement': 'Position (2,1) must be 1',\n",
       "   'evidence': 'Only valid value because 10 - 2 - 3 - 4 = 1',\n",
       "   'Verification': 'true'},\n",
       "  {'statement': 'Position (2,2) must be 4',\n",
       "   'evidence': 'Only valid value because 10 - 1 - 2 - 3 = 4',\n",
       "   'Verification': 'true'},\n",
       "  {'statement': 'Position (3,3) must be 1',\n",
       "   'evidence': 'Only valid value because 10 - 2 - 3 - 4 = 1',\n",
       "   'Verification': 'true'},\n",
       "  {'statement': 'Position (3,1) must be 3',\n",
       "   'evidence': \"Only position in row 3 for 3 because missing 1, 3 from unit; 3 can't go in (3,3) blocked by col 3, block (1,1))\",\n",
       "   'Verification': 'true'}]}"
      ]
     },
     "execution_count": 36,
     "metadata": {},
     "output_type": "execute_result"
    }
   ],
   "execution_count": 36
  }
 ],
 "metadata": {
  "kernelspec": {
   "display_name": ".venv-nlp-project",
   "language": "python",
   "name": ".venv-nlp-project"
  },
  "language_info": {
   "codemirror_mode": {
    "name": "ipython",
    "version": 2
   },
   "file_extension": ".py",
   "mimetype": "text/x-python",
   "name": "python",
   "nbconvert_exporter": "python",
   "pygments_lexer": "ipython2",
   "version": "2.7.6"
  }
 },
 "nbformat": 4,
 "nbformat_minor": 5
}
