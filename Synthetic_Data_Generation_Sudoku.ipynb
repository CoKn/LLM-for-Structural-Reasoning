{
 "cells": [
  {
   "metadata": {},
   "cell_type": "markdown",
   "source": "### Generating Synthetic Data using Sudoku",
   "id": "7df7272c1e153dee"
  },
  {
   "cell_type": "code",
   "id": "initial_id",
   "metadata": {
    "collapsed": true,
    "ExecuteTime": {
     "end_time": "2025-06-03T10:49:01.030405Z",
     "start_time": "2025-06-03T10:49:00.672113Z"
    }
   },
   "source": [
    "import json\n",
    "\n",
    "from sympy.core.random import choice\n",
    "\n",
    "from utils.sudoku import SudokuEnvironment\n",
    "\n",
    "game = SudokuEnvironment()\n",
    "game.create_puzzle(difficulty='easy')\n",
    "game.display()\n",
    "deductions = game.get_explicit_deductions()\n",
    "print(deductions[0])"
   ],
   "outputs": [
    {
     "name": "stdout",
     "output_type": "stream",
     "text": [
      "+-------+-------+\n",
      "| _ 2 | 3 _ |\n",
      "| _ 4 | 1 _ |\n",
      "+-------+-------+\n",
      "| 2 1 | 4 3 |\n",
      "| 4 3 | _ _ |\n",
      "+-------+-------+\n",
      "['Position (0,0) must be 1 (only valid value  because 10 - 2 - 3 - 4 = 1)', 'Position (0,3) must be 4 (only valid value  because 10 - 1 - 2 - 3 = 4)', 'Position (1,0) must be 3 (only valid value  because 10 - 1 - 2 - 4 = 3)', 'Position (1,3) must be 2 (only valid value  because 10 - 1 - 3 - 4 = 2)', 'Position (3,2) must be 2 (only valid value  because 10 - 1 - 3 - 4 = 2)', \"Position (3,3) must be 1 (only position in row 3 for 1 because missing 1, 2 from unit; 1 can't go in (3,2) blocked by col 2)\"]\n"
     ]
    }
   ],
   "execution_count": 1
  },
  {
   "metadata": {},
   "cell_type": "markdown",
   "source": "#### Build Data generation pipeline",
   "id": "dc9b53a1eb876d1d"
  },
  {
   "metadata": {},
   "cell_type": "markdown",
   "source": "##### Build question",
   "id": "9efefacd4bbb3e65"
  },
  {
   "metadata": {
    "ExecuteTime": {
     "end_time": "2025-06-03T10:49:02.016131Z",
     "start_time": "2025-06-03T10:49:02.003294Z"
    }
   },
   "cell_type": "code",
   "source": [
    "import random\n",
    "import copy\n",
    "\n",
    "def randomize_dict_values(dict_list, seed=None):\n",
    "    \"\"\"\n",
    "    Replace each 'value' with a random different value from range 1-4.\n",
    "    The new value is guaranteed to be different from the original.\n",
    "    All other keys remain unchanged.\n",
    "\n",
    "    Args:\n",
    "        dict_list: List of dictionaries containing 'value' key\n",
    "        seed: Random seed for reproducibility (optional)\n",
    "\n",
    "    Returns:\n",
    "        List of dictionaries with 'value' key randomized to different values\n",
    "    \"\"\"\n",
    "    if not dict_list:\n",
    "        return []\n",
    "\n",
    "    if seed is not None:\n",
    "        random.seed(seed)\n",
    "\n",
    "    # Create deep copy to avoid modifying the original\n",
    "    randomized_list = copy.deepcopy(dict_list)\n",
    "\n",
    "    # Replace each value with a random different value\n",
    "    for new_dict in randomized_list:\n",
    "        original_value = new_dict['value']\n",
    "\n",
    "        # Create possible values (1-4) excluding the original value\n",
    "        possible_values = [v for v in range(1, 5) if v != original_value]\n",
    "\n",
    "        # Randomly select from the remaining values\n",
    "        new_dict['value'] = random.choice(possible_values)\n",
    "\n",
    "    return randomized_list\n",
    "\n",
    "def generate_answer_options(correct_deduction, wrong_deductions):\n",
    "    \"\"\"\n",
    "    Generate multiple-choice answer options with one correct and several wrong answers.\n",
    "\n",
    "    Args:\n",
    "        correct_deduction: Dictionary containing the correct deduction\n",
    "        wrong_deductions: List of dictionaries containing wrong deductions\n",
    "\n",
    "    Returns:\n",
    "        tuple: (formatted_answer_string, correct_answer_letter)\n",
    "    \"\"\"\n",
    "    answer_options_list = []\n",
    "    answer_options_set = {'A', 'B', 'C', 'D'}\n",
    "\n",
    "    # Select a random option for the correct answer\n",
    "    correct_answer_option = random.choice(list(answer_options_set))\n",
    "    answer_options_set.discard(correct_answer_option)\n",
    "\n",
    "    # Add correct answer to the list\n",
    "    correct_text = f\"{correct_answer_option}) Position ({correct_deduction['row']},{correct_deduction['col']}) must be {correct_deduction['value']}\"\n",
    "    answer_options_list.append(correct_text)\n",
    "\n",
    "    # print(len(wrong_deductions))\n",
    "    for idx, wrong_deduction in enumerate(wrong_deductions):\n",
    "        wrong_answer_option = random.choice(list(answer_options_set))\n",
    "        answer_options_set.discard(wrong_answer_option)\n",
    "        # print(wrong_deduction)\n",
    "        wrong_text = f\"{wrong_answer_option}) Position ({wrong_deduction['row']},{wrong_deduction['col']}) must be {wrong_deduction['value']}\"\n",
    "        answer_options_list.append(wrong_text)\n",
    "        if idx == 2:\n",
    "            break\n",
    "\n",
    "    # Sort by the option letter and join into a string\n",
    "    answer_options_list.sort(key=lambda x: x[0])\n",
    "    formatted_answers = \"\\n\".join(answer_options_list)\n",
    "\n",
    "    # Extract the correct answer letter (without the closing parenthesis)\n",
    "    correct_letter = correct_answer_option[0]\n",
    "\n",
    "    return formatted_answers, correct_letter"
   ],
   "id": "f4c828acbcb7e998",
   "outputs": [],
   "execution_count": 2
  },
  {
   "metadata": {
    "ExecuteTime": {
     "end_time": "2025-06-03T10:49:02.780901Z",
     "start_time": "2025-06-03T10:49:02.774367Z"
    }
   },
   "cell_type": "code",
   "source": [
    "puzzle = {\n",
    "    \"question\": None,\n",
    "    \"question_parsing\": None,\n",
    "    \"answer\": None,\n",
    "    \"id\": None,\n",
    "    \"sel_idx\": None,\n",
    "    \"cot\": None,\n",
    "    \"cot_parsing\": None\n",
    "}"
   ],
   "id": "40a7af8c20389d89",
   "outputs": [],
   "execution_count": 3
  },
  {
   "metadata": {
    "ExecuteTime": {
     "end_time": "2025-06-03T10:49:03.177743Z",
     "start_time": "2025-06-03T10:49:03.171757Z"
    }
   },
   "cell_type": "code",
   "source": [
    "import random\n",
    "#TODO: add positions property, value property to the sudoku function\n",
    "\n",
    "# define overall question\n",
    "question = 'You have the following Sudoku puzzle which of the following answers is correct? \\n'\n",
    "\n",
    "# Append the game to the question\n",
    "question += game.display(print_game=False)\n",
    "\n",
    "# get empty cells to generate randomly wrong answers -> shuffling\n",
    "deductions_data = game.get_explicit_deductions()[-1]\n",
    "# print(deductions_data)\n",
    "\n",
    "# print(deductions_data)\n",
    "# shuffle values\n",
    "correct_deduction = deductions_data[0]\n",
    "wrong_deductions = randomize_dict_values(deductions_data[1:])\n",
    "opts, answer = generate_answer_options(correct_deduction, wrong_deductions)\n",
    "question += \"\\n\" + opts\n",
    "print(question)\n",
    "\n",
    "puzzle['question'] = question\n",
    "puzzle['answer'] = answer\n",
    "\n",
    "# Get permutations -> create a questions for each of the empty fields -> for possible answers a, b, c, d create one correct answer and 3 wrong answers"
   ],
   "id": "612ac26ade56ca7",
   "outputs": [
    {
     "name": "stdout",
     "output_type": "stream",
     "text": [
      "You have the following Sudoku puzzle which of the following answers is correct? \n",
      "+-------+-------+\n",
      "| _ 2 | 3 _ |\n",
      "| _ 4 | 1 _ |\n",
      "+-------+-------+\n",
      "| 2 1 | 4 3 |\n",
      "| 4 3 | _ _ |\n",
      "+-------+-------+\n",
      "A) Position (1,3) must be 1\n",
      "B) Position (0,3) must be 3\n",
      "C) Position (1,0) must be 2\n",
      "D) Position (0,0) must be 1\n"
     ]
    }
   ],
   "execution_count": 4
  },
  {
   "metadata": {},
   "cell_type": "markdown",
   "source": "#### Create Question Parsing",
   "id": "b317f0cd04dff9d3"
  },
  {
   "metadata": {
    "ExecuteTime": {
     "end_time": "2025-06-03T10:52:25.172392Z",
     "start_time": "2025-06-03T10:52:25.168531Z"
    }
   },
   "cell_type": "code",
   "source": [
    "# get positions of empty fields? Get position of non empty fields? get rows, get columns and get squares?\n",
    "qp_raw = game.get_all_units_as_strings()\n",
    "qp_string = 'The puzzle has the rows: ' + str(qp_raw['rows'])\n",
    "qp_string += '\\nThe puzzle has the columns: ' + str(qp_raw['columns'])\n",
    "qp_string += '\\nThe puzzle has the squares: ' + str(qp_raw['squares'])\n",
    "\n",
    "print(qp_string)\n",
    "\n",
    "puzzle['question_parsing'] = qp_string\n"
   ],
   "id": "d419dd199673c59b",
   "outputs": [
    {
     "name": "stdout",
     "output_type": "stream",
     "text": [
      "The puzzle has the rows: ['_ 2 3 _', '_ 4 1 _', '2 1 4 3', '4 3 _ _']\n",
      "The puzzle has the columns: ['_ _ 2 4', '2 4 1 3', '3 1 4 _', '_ _ 3 _']\n",
      "The puzzle has the squares: [' _2_4', ' 3_1_', ' 2143', ' 43__']\n"
     ]
    }
   ],
   "execution_count": 12
  },
  {
   "metadata": {},
   "cell_type": "markdown",
   "source": [
    "\n",
    "#### Generating answer"
   ],
   "id": "7c179f910711d66"
  },
  {
   "metadata": {},
   "cell_type": "markdown",
   "source": "#### Generating CoT",
   "id": "62dd878261baa8ee"
  },
  {
   "metadata": {
    "ExecuteTime": {
     "end_time": "2025-06-03T10:54:47.689655Z",
     "start_time": "2025-06-03T10:54:47.682543Z"
    }
   },
   "cell_type": "code",
   "source": [
    "# Get full deduction\n",
    "cot = game.get_explicit_deductions()[0]\n",
    "cot_string = \"; \".join(cot)\n",
    "puzzle['cot'] = cot_string"
   ],
   "id": "85f8970b4deeb3f7",
   "outputs": [
    {
     "data": {
      "text/plain": [
       "\"Position (0,0) must be 1 (only valid value  because 10 - 2 - 3 - 4 = 1); Position (0,3) must be 4 (only valid value  because 10 - 1 - 2 - 3 = 4); Position (1,0) must be 3 (only valid value  because 10 - 1 - 2 - 4 = 3); Position (1,3) must be 2 (only valid value  because 10 - 1 - 3 - 4 = 2); Position (3,2) must be 2 (only valid value  because 10 - 1 - 3 - 4 = 2); Position (3,3) must be 1 (only position in row 3 for 1 because missing 1, 2 from unit; 1 can't go in (3,2) blocked by col 2)\""
      ]
     },
     "execution_count": 18,
     "metadata": {},
     "output_type": "execute_result"
    }
   ],
   "execution_count": 18
  },
  {
   "metadata": {},
   "cell_type": "markdown",
   "source": "#### Generating CoT parsing",
   "id": "33b084fca6f69f48"
  },
  {
   "metadata": {
    "ExecuteTime": {
     "end_time": "2025-06-03T10:57:56.405978Z",
     "start_time": "2025-06-03T10:57:56.400980Z"
    }
   },
   "cell_type": "code",
   "source": [
    "# Get statements from deduction\n",
    "statements = game.get_explicit_deductions()[1]\n",
    "# get evidence from deduction\n",
    "evidence = game.get_explicit_deductions()[2]\n",
    "\n",
    "# Add verification -> wrong verifications?\n",
    "puzzle['cot_parsing'] = [{\"statement\": statements[idx], \"evidence\": evidence[idx],\"Verification\": \"true\"} for idx in range(len(statements))]\n"
   ],
   "id": "8d725bd97904a927",
   "outputs": [],
   "execution_count": 21
  },
  {
   "metadata": {
    "ExecuteTime": {
     "end_time": "2025-06-03T10:59:55.547991Z",
     "start_time": "2025-06-03T10:59:55.543855Z"
    }
   },
   "cell_type": "code",
   "source": [
    "from random import randint\n",
    "\n",
    "# add random ids\n",
    "rand =  randint(0, 100000000)\n",
    "puzzle['id'] = rand\n",
    "puzzle['sel_idx'] = rand\n",
    "\n",
    "\n"
   ],
   "id": "b9d34c0d0b3dced5",
   "outputs": [],
   "execution_count": 24
  },
  {
   "metadata": {
    "ExecuteTime": {
     "end_time": "2025-06-03T10:59:58.075871Z",
     "start_time": "2025-06-03T10:59:58.071024Z"
    }
   },
   "cell_type": "code",
   "source": "puzzle",
   "id": "417d901c0104a124",
   "outputs": [
    {
     "data": {
      "text/plain": [
       "{'question': 'You have the following Sudoku puzzle which of the following answers is correct? \\n+-------+-------+\\n| _ 2 | 3 _ |\\n| _ 4 | 1 _ |\\n+-------+-------+\\n| 2 1 | 4 3 |\\n| 4 3 | _ _ |\\n+-------+-------+\\nA) Position (1,3) must be 1\\nB) Position (0,3) must be 3\\nC) Position (1,0) must be 2\\nD) Position (0,0) must be 1',\n",
       " 'question_parsing': \"The puzzle has the rows: ['_ 2 3 _', '_ 4 1 _', '2 1 4 3', '4 3 _ _']\\nThe puzzle has the columns: ['_ _ 2 4', '2 4 1 3', '3 1 4 _', '_ _ 3 _']\\nThe puzzle has the squares: [' _2_4', ' 3_1_', ' 2143', ' 43__']\",\n",
       " 'answer': 'D',\n",
       " 'id': 55521402,\n",
       " 'sel_idx': 55521402,\n",
       " 'cot': '',\n",
       " 'cot_parsing': [{'statement': 'Position (0,0) must be 1',\n",
       "   'evidence': 'Only valid value because 10 - 2 - 3 - 4 = 1',\n",
       "   'Verification': 'true'},\n",
       "  {'statement': 'Position (0,3) must be 4',\n",
       "   'evidence': 'Only valid value because 10 - 1 - 2 - 3 = 4',\n",
       "   'Verification': 'true'},\n",
       "  {'statement': 'Position (1,0) must be 3',\n",
       "   'evidence': 'Only valid value because 10 - 1 - 2 - 4 = 3',\n",
       "   'Verification': 'true'},\n",
       "  {'statement': 'Position (1,3) must be 2',\n",
       "   'evidence': 'Only valid value because 10 - 1 - 3 - 4 = 2',\n",
       "   'Verification': 'true'},\n",
       "  {'statement': 'Position (3,2) must be 2',\n",
       "   'evidence': 'Only valid value because 10 - 1 - 3 - 4 = 2',\n",
       "   'Verification': 'true'},\n",
       "  {'statement': 'Position (3,3) must be 1',\n",
       "   'evidence': \"Only position in row 3 for 1 because missing 1, 2 from unit; 1 can't go in (3,2) blocked by col 2)\",\n",
       "   'Verification': 'true'}]}"
      ]
     },
     "execution_count": 25,
     "metadata": {},
     "output_type": "execute_result"
    }
   ],
   "execution_count": 25
  }
 ],
 "metadata": {
  "kernelspec": {
   "display_name": ".venv-nlp-project",
   "language": "python",
   "name": ".venv-nlp-project"
  },
  "language_info": {
   "codemirror_mode": {
    "name": "ipython",
    "version": 2
   },
   "file_extension": ".py",
   "mimetype": "text/x-python",
   "name": "python",
   "nbconvert_exporter": "python",
   "pygments_lexer": "ipython2",
   "version": "2.7.6"
  }
 },
 "nbformat": 4,
 "nbformat_minor": 5
}
