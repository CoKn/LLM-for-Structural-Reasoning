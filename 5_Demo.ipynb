{
  "nbformat": 4,
  "nbformat_minor": 0,
  "metadata": {
    "colab": {
      "provenance": [],
      "machine_shape": "hm",
      "gpuType": "A100"
    },
    "kernelspec": {
      "name": "python3",
      "display_name": "Python 3"
    },
    "language_info": {
      "name": "python"
    },
    "accelerator": "GPU",
    "widgets": {
      "application/vnd.jupyter.widget-state+json": {
        "b8ba4b005ea547f0bb554d9e2180e0ca": {
          "model_module": "@jupyter-widgets/controls",
          "model_name": "HBoxModel",
          "model_module_version": "1.5.0",
          "state": {
            "_dom_classes": [],
            "_model_module": "@jupyter-widgets/controls",
            "_model_module_version": "1.5.0",
            "_model_name": "HBoxModel",
            "_view_count": null,
            "_view_module": "@jupyter-widgets/controls",
            "_view_module_version": "1.5.0",
            "_view_name": "HBoxView",
            "box_style": "",
            "children": [
              "IPY_MODEL_463a65ddd9d74ddba8d2a1d7d1d5ad41",
              "IPY_MODEL_01e8d84076ca4c0a8f680105d5843e93",
              "IPY_MODEL_99579211275e4b6ea389a9b74f51958c"
            ],
            "layout": "IPY_MODEL_989960618cbe4f148dc57daf638d5ec0"
          }
        },
        "463a65ddd9d74ddba8d2a1d7d1d5ad41": {
          "model_module": "@jupyter-widgets/controls",
          "model_name": "HTMLModel",
          "model_module_version": "1.5.0",
          "state": {
            "_dom_classes": [],
            "_model_module": "@jupyter-widgets/controls",
            "_model_module_version": "1.5.0",
            "_model_name": "HTMLModel",
            "_view_count": null,
            "_view_module": "@jupyter-widgets/controls",
            "_view_module_version": "1.5.0",
            "_view_name": "HTMLView",
            "description": "",
            "description_tooltip": null,
            "layout": "IPY_MODEL_953e7cd0118c4a9badf38b420f42934a",
            "placeholder": "​",
            "style": "IPY_MODEL_590a4b48339a4f939e151119a0096997",
            "value": "config.json: 100%"
          }
        },
        "01e8d84076ca4c0a8f680105d5843e93": {
          "model_module": "@jupyter-widgets/controls",
          "model_name": "FloatProgressModel",
          "model_module_version": "1.5.0",
          "state": {
            "_dom_classes": [],
            "_model_module": "@jupyter-widgets/controls",
            "_model_module_version": "1.5.0",
            "_model_name": "FloatProgressModel",
            "_view_count": null,
            "_view_module": "@jupyter-widgets/controls",
            "_view_module_version": "1.5.0",
            "_view_name": "ProgressView",
            "bar_style": "success",
            "description": "",
            "description_tooltip": null,
            "layout": "IPY_MODEL_a80da4c52bbf4ddd88acfa4e917d3279",
            "max": 1258,
            "min": 0,
            "orientation": "horizontal",
            "style": "IPY_MODEL_723a89da682f4498932622986d3671c7",
            "value": 1258
          }
        },
        "99579211275e4b6ea389a9b74f51958c": {
          "model_module": "@jupyter-widgets/controls",
          "model_name": "HTMLModel",
          "model_module_version": "1.5.0",
          "state": {
            "_dom_classes": [],
            "_model_module": "@jupyter-widgets/controls",
            "_model_module_version": "1.5.0",
            "_model_name": "HTMLModel",
            "_view_count": null,
            "_view_module": "@jupyter-widgets/controls",
            "_view_module_version": "1.5.0",
            "_view_name": "HTMLView",
            "description": "",
            "description_tooltip": null,
            "layout": "IPY_MODEL_dccbbddb590e4a5380ef22fc5e1ed5da",
            "placeholder": "​",
            "style": "IPY_MODEL_e57f874b30e845888e8416706cbc5bc8",
            "value": " 1.26k/1.26k [00:00&lt;00:00, 130kB/s]"
          }
        },
        "989960618cbe4f148dc57daf638d5ec0": {
          "model_module": "@jupyter-widgets/base",
          "model_name": "LayoutModel",
          "model_module_version": "1.2.0",
          "state": {
            "_model_module": "@jupyter-widgets/base",
            "_model_module_version": "1.2.0",
            "_model_name": "LayoutModel",
            "_view_count": null,
            "_view_module": "@jupyter-widgets/base",
            "_view_module_version": "1.2.0",
            "_view_name": "LayoutView",
            "align_content": null,
            "align_items": null,
            "align_self": null,
            "border": null,
            "bottom": null,
            "display": null,
            "flex": null,
            "flex_flow": null,
            "grid_area": null,
            "grid_auto_columns": null,
            "grid_auto_flow": null,
            "grid_auto_rows": null,
            "grid_column": null,
            "grid_gap": null,
            "grid_row": null,
            "grid_template_areas": null,
            "grid_template_columns": null,
            "grid_template_rows": null,
            "height": null,
            "justify_content": null,
            "justify_items": null,
            "left": null,
            "margin": null,
            "max_height": null,
            "max_width": null,
            "min_height": null,
            "min_width": null,
            "object_fit": null,
            "object_position": null,
            "order": null,
            "overflow": null,
            "overflow_x": null,
            "overflow_y": null,
            "padding": null,
            "right": null,
            "top": null,
            "visibility": null,
            "width": null
          }
        },
        "953e7cd0118c4a9badf38b420f42934a": {
          "model_module": "@jupyter-widgets/base",
          "model_name": "LayoutModel",
          "model_module_version": "1.2.0",
          "state": {
            "_model_module": "@jupyter-widgets/base",
            "_model_module_version": "1.2.0",
            "_model_name": "LayoutModel",
            "_view_count": null,
            "_view_module": "@jupyter-widgets/base",
            "_view_module_version": "1.2.0",
            "_view_name": "LayoutView",
            "align_content": null,
            "align_items": null,
            "align_self": null,
            "border": null,
            "bottom": null,
            "display": null,
            "flex": null,
            "flex_flow": null,
            "grid_area": null,
            "grid_auto_columns": null,
            "grid_auto_flow": null,
            "grid_auto_rows": null,
            "grid_column": null,
            "grid_gap": null,
            "grid_row": null,
            "grid_template_areas": null,
            "grid_template_columns": null,
            "grid_template_rows": null,
            "height": null,
            "justify_content": null,
            "justify_items": null,
            "left": null,
            "margin": null,
            "max_height": null,
            "max_width": null,
            "min_height": null,
            "min_width": null,
            "object_fit": null,
            "object_position": null,
            "order": null,
            "overflow": null,
            "overflow_x": null,
            "overflow_y": null,
            "padding": null,
            "right": null,
            "top": null,
            "visibility": null,
            "width": null
          }
        },
        "590a4b48339a4f939e151119a0096997": {
          "model_module": "@jupyter-widgets/controls",
          "model_name": "DescriptionStyleModel",
          "model_module_version": "1.5.0",
          "state": {
            "_model_module": "@jupyter-widgets/controls",
            "_model_module_version": "1.5.0",
            "_model_name": "DescriptionStyleModel",
            "_view_count": null,
            "_view_module": "@jupyter-widgets/base",
            "_view_module_version": "1.2.0",
            "_view_name": "StyleView",
            "description_width": ""
          }
        },
        "a80da4c52bbf4ddd88acfa4e917d3279": {
          "model_module": "@jupyter-widgets/base",
          "model_name": "LayoutModel",
          "model_module_version": "1.2.0",
          "state": {
            "_model_module": "@jupyter-widgets/base",
            "_model_module_version": "1.2.0",
            "_model_name": "LayoutModel",
            "_view_count": null,
            "_view_module": "@jupyter-widgets/base",
            "_view_module_version": "1.2.0",
            "_view_name": "LayoutView",
            "align_content": null,
            "align_items": null,
            "align_self": null,
            "border": null,
            "bottom": null,
            "display": null,
            "flex": null,
            "flex_flow": null,
            "grid_area": null,
            "grid_auto_columns": null,
            "grid_auto_flow": null,
            "grid_auto_rows": null,
            "grid_column": null,
            "grid_gap": null,
            "grid_row": null,
            "grid_template_areas": null,
            "grid_template_columns": null,
            "grid_template_rows": null,
            "height": null,
            "justify_content": null,
            "justify_items": null,
            "left": null,
            "margin": null,
            "max_height": null,
            "max_width": null,
            "min_height": null,
            "min_width": null,
            "object_fit": null,
            "object_position": null,
            "order": null,
            "overflow": null,
            "overflow_x": null,
            "overflow_y": null,
            "padding": null,
            "right": null,
            "top": null,
            "visibility": null,
            "width": null
          }
        },
        "723a89da682f4498932622986d3671c7": {
          "model_module": "@jupyter-widgets/controls",
          "model_name": "ProgressStyleModel",
          "model_module_version": "1.5.0",
          "state": {
            "_model_module": "@jupyter-widgets/controls",
            "_model_module_version": "1.5.0",
            "_model_name": "ProgressStyleModel",
            "_view_count": null,
            "_view_module": "@jupyter-widgets/base",
            "_view_module_version": "1.2.0",
            "_view_name": "StyleView",
            "bar_color": null,
            "description_width": ""
          }
        },
        "dccbbddb590e4a5380ef22fc5e1ed5da": {
          "model_module": "@jupyter-widgets/base",
          "model_name": "LayoutModel",
          "model_module_version": "1.2.0",
          "state": {
            "_model_module": "@jupyter-widgets/base",
            "_model_module_version": "1.2.0",
            "_model_name": "LayoutModel",
            "_view_count": null,
            "_view_module": "@jupyter-widgets/base",
            "_view_module_version": "1.2.0",
            "_view_name": "LayoutView",
            "align_content": null,
            "align_items": null,
            "align_self": null,
            "border": null,
            "bottom": null,
            "display": null,
            "flex": null,
            "flex_flow": null,
            "grid_area": null,
            "grid_auto_columns": null,
            "grid_auto_flow": null,
            "grid_auto_rows": null,
            "grid_column": null,
            "grid_gap": null,
            "grid_row": null,
            "grid_template_areas": null,
            "grid_template_columns": null,
            "grid_template_rows": null,
            "height": null,
            "justify_content": null,
            "justify_items": null,
            "left": null,
            "margin": null,
            "max_height": null,
            "max_width": null,
            "min_height": null,
            "min_width": null,
            "object_fit": null,
            "object_position": null,
            "order": null,
            "overflow": null,
            "overflow_x": null,
            "overflow_y": null,
            "padding": null,
            "right": null,
            "top": null,
            "visibility": null,
            "width": null
          }
        },
        "e57f874b30e845888e8416706cbc5bc8": {
          "model_module": "@jupyter-widgets/controls",
          "model_name": "DescriptionStyleModel",
          "model_module_version": "1.5.0",
          "state": {
            "_model_module": "@jupyter-widgets/controls",
            "_model_module_version": "1.5.0",
            "_model_name": "DescriptionStyleModel",
            "_view_count": null,
            "_view_module": "@jupyter-widgets/base",
            "_view_module_version": "1.2.0",
            "_view_name": "StyleView",
            "description_width": ""
          }
        },
        "2799bcfbdf234755b19b3a38c37fc6a1": {
          "model_module": "@jupyter-widgets/controls",
          "model_name": "HBoxModel",
          "model_module_version": "1.5.0",
          "state": {
            "_dom_classes": [],
            "_model_module": "@jupyter-widgets/controls",
            "_model_module_version": "1.5.0",
            "_model_name": "HBoxModel",
            "_view_count": null,
            "_view_module": "@jupyter-widgets/controls",
            "_view_module_version": "1.5.0",
            "_view_name": "HBoxView",
            "box_style": "",
            "children": [
              "IPY_MODEL_2ecbe448aa604440bcd1a41f005e23b7",
              "IPY_MODEL_d4d9a71962424fb7b23bcb32acb5f83b",
              "IPY_MODEL_d32cdaec2b6445888a7ceef849558a63"
            ],
            "layout": "IPY_MODEL_7b35a126de3446bea0741094bf7e5027"
          }
        },
        "2ecbe448aa604440bcd1a41f005e23b7": {
          "model_module": "@jupyter-widgets/controls",
          "model_name": "HTMLModel",
          "model_module_version": "1.5.0",
          "state": {
            "_dom_classes": [],
            "_model_module": "@jupyter-widgets/controls",
            "_model_module_version": "1.5.0",
            "_model_name": "HTMLModel",
            "_view_count": null,
            "_view_module": "@jupyter-widgets/controls",
            "_view_module_version": "1.5.0",
            "_view_name": "HTMLView",
            "description": "",
            "description_tooltip": null,
            "layout": "IPY_MODEL_c61c796e9b5d4d2b978721704c84ceae",
            "placeholder": "​",
            "style": "IPY_MODEL_81cd90d9d5a24b60a679cd7358ce79c4",
            "value": "model.safetensors: 100%"
          }
        },
        "d4d9a71962424fb7b23bcb32acb5f83b": {
          "model_module": "@jupyter-widgets/controls",
          "model_name": "FloatProgressModel",
          "model_module_version": "1.5.0",
          "state": {
            "_dom_classes": [],
            "_model_module": "@jupyter-widgets/controls",
            "_model_module_version": "1.5.0",
            "_model_name": "FloatProgressModel",
            "_view_count": null,
            "_view_module": "@jupyter-widgets/controls",
            "_view_module_version": "1.5.0",
            "_view_name": "ProgressView",
            "bar_style": "danger",
            "description": "",
            "description_tooltip": null,
            "layout": "IPY_MODEL_fd9f8ee3147041379a9f03c5527d50d5",
            "max": 5702746403,
            "min": 0,
            "orientation": "horizontal",
            "style": "IPY_MODEL_7984863b1b7c4dceaecbd62a03d2d7ed",
            "value": 5702745860
          }
        },
        "d32cdaec2b6445888a7ceef849558a63": {
          "model_module": "@jupyter-widgets/controls",
          "model_name": "HTMLModel",
          "model_module_version": "1.5.0",
          "state": {
            "_dom_classes": [],
            "_model_module": "@jupyter-widgets/controls",
            "_model_module_version": "1.5.0",
            "_model_name": "HTMLModel",
            "_view_count": null,
            "_view_module": "@jupyter-widgets/controls",
            "_view_module_version": "1.5.0",
            "_view_name": "HTMLView",
            "description": "",
            "description_tooltip": null,
            "layout": "IPY_MODEL_61d11a7e1bee4c5e97e007dbcaa68a07",
            "placeholder": "​",
            "style": "IPY_MODEL_5789defcd68445c69c465c9726e8a00e",
            "value": " 5.70G/5.70G [00:15&lt;00:00, 565MB/s]"
          }
        },
        "7b35a126de3446bea0741094bf7e5027": {
          "model_module": "@jupyter-widgets/base",
          "model_name": "LayoutModel",
          "model_module_version": "1.2.0",
          "state": {
            "_model_module": "@jupyter-widgets/base",
            "_model_module_version": "1.2.0",
            "_model_name": "LayoutModel",
            "_view_count": null,
            "_view_module": "@jupyter-widgets/base",
            "_view_module_version": "1.2.0",
            "_view_name": "LayoutView",
            "align_content": null,
            "align_items": null,
            "align_self": null,
            "border": null,
            "bottom": null,
            "display": null,
            "flex": null,
            "flex_flow": null,
            "grid_area": null,
            "grid_auto_columns": null,
            "grid_auto_flow": null,
            "grid_auto_rows": null,
            "grid_column": null,
            "grid_gap": null,
            "grid_row": null,
            "grid_template_areas": null,
            "grid_template_columns": null,
            "grid_template_rows": null,
            "height": null,
            "justify_content": null,
            "justify_items": null,
            "left": null,
            "margin": null,
            "max_height": null,
            "max_width": null,
            "min_height": null,
            "min_width": null,
            "object_fit": null,
            "object_position": null,
            "order": null,
            "overflow": null,
            "overflow_x": null,
            "overflow_y": null,
            "padding": null,
            "right": null,
            "top": null,
            "visibility": null,
            "width": null
          }
        },
        "c61c796e9b5d4d2b978721704c84ceae": {
          "model_module": "@jupyter-widgets/base",
          "model_name": "LayoutModel",
          "model_module_version": "1.2.0",
          "state": {
            "_model_module": "@jupyter-widgets/base",
            "_model_module_version": "1.2.0",
            "_model_name": "LayoutModel",
            "_view_count": null,
            "_view_module": "@jupyter-widgets/base",
            "_view_module_version": "1.2.0",
            "_view_name": "LayoutView",
            "align_content": null,
            "align_items": null,
            "align_self": null,
            "border": null,
            "bottom": null,
            "display": null,
            "flex": null,
            "flex_flow": null,
            "grid_area": null,
            "grid_auto_columns": null,
            "grid_auto_flow": null,
            "grid_auto_rows": null,
            "grid_column": null,
            "grid_gap": null,
            "grid_row": null,
            "grid_template_areas": null,
            "grid_template_columns": null,
            "grid_template_rows": null,
            "height": null,
            "justify_content": null,
            "justify_items": null,
            "left": null,
            "margin": null,
            "max_height": null,
            "max_width": null,
            "min_height": null,
            "min_width": null,
            "object_fit": null,
            "object_position": null,
            "order": null,
            "overflow": null,
            "overflow_x": null,
            "overflow_y": null,
            "padding": null,
            "right": null,
            "top": null,
            "visibility": null,
            "width": null
          }
        },
        "81cd90d9d5a24b60a679cd7358ce79c4": {
          "model_module": "@jupyter-widgets/controls",
          "model_name": "DescriptionStyleModel",
          "model_module_version": "1.5.0",
          "state": {
            "_model_module": "@jupyter-widgets/controls",
            "_model_module_version": "1.5.0",
            "_model_name": "DescriptionStyleModel",
            "_view_count": null,
            "_view_module": "@jupyter-widgets/base",
            "_view_module_version": "1.2.0",
            "_view_name": "StyleView",
            "description_width": ""
          }
        },
        "fd9f8ee3147041379a9f03c5527d50d5": {
          "model_module": "@jupyter-widgets/base",
          "model_name": "LayoutModel",
          "model_module_version": "1.2.0",
          "state": {
            "_model_module": "@jupyter-widgets/base",
            "_model_module_version": "1.2.0",
            "_model_name": "LayoutModel",
            "_view_count": null,
            "_view_module": "@jupyter-widgets/base",
            "_view_module_version": "1.2.0",
            "_view_name": "LayoutView",
            "align_content": null,
            "align_items": null,
            "align_self": null,
            "border": null,
            "bottom": null,
            "display": null,
            "flex": null,
            "flex_flow": null,
            "grid_area": null,
            "grid_auto_columns": null,
            "grid_auto_flow": null,
            "grid_auto_rows": null,
            "grid_column": null,
            "grid_gap": null,
            "grid_row": null,
            "grid_template_areas": null,
            "grid_template_columns": null,
            "grid_template_rows": null,
            "height": null,
            "justify_content": null,
            "justify_items": null,
            "left": null,
            "margin": null,
            "max_height": null,
            "max_width": null,
            "min_height": null,
            "min_width": null,
            "object_fit": null,
            "object_position": null,
            "order": null,
            "overflow": null,
            "overflow_x": null,
            "overflow_y": null,
            "padding": null,
            "right": null,
            "top": null,
            "visibility": null,
            "width": null
          }
        },
        "7984863b1b7c4dceaecbd62a03d2d7ed": {
          "model_module": "@jupyter-widgets/controls",
          "model_name": "ProgressStyleModel",
          "model_module_version": "1.5.0",
          "state": {
            "_model_module": "@jupyter-widgets/controls",
            "_model_module_version": "1.5.0",
            "_model_name": "ProgressStyleModel",
            "_view_count": null,
            "_view_module": "@jupyter-widgets/base",
            "_view_module_version": "1.2.0",
            "_view_name": "StyleView",
            "bar_color": null,
            "description_width": ""
          }
        },
        "61d11a7e1bee4c5e97e007dbcaa68a07": {
          "model_module": "@jupyter-widgets/base",
          "model_name": "LayoutModel",
          "model_module_version": "1.2.0",
          "state": {
            "_model_module": "@jupyter-widgets/base",
            "_model_module_version": "1.2.0",
            "_model_name": "LayoutModel",
            "_view_count": null,
            "_view_module": "@jupyter-widgets/base",
            "_view_module_version": "1.2.0",
            "_view_name": "LayoutView",
            "align_content": null,
            "align_items": null,
            "align_self": null,
            "border": null,
            "bottom": null,
            "display": null,
            "flex": null,
            "flex_flow": null,
            "grid_area": null,
            "grid_auto_columns": null,
            "grid_auto_flow": null,
            "grid_auto_rows": null,
            "grid_column": null,
            "grid_gap": null,
            "grid_row": null,
            "grid_template_areas": null,
            "grid_template_columns": null,
            "grid_template_rows": null,
            "height": null,
            "justify_content": null,
            "justify_items": null,
            "left": null,
            "margin": null,
            "max_height": null,
            "max_width": null,
            "min_height": null,
            "min_width": null,
            "object_fit": null,
            "object_position": null,
            "order": null,
            "overflow": null,
            "overflow_x": null,
            "overflow_y": null,
            "padding": null,
            "right": null,
            "top": null,
            "visibility": null,
            "width": null
          }
        },
        "5789defcd68445c69c465c9726e8a00e": {
          "model_module": "@jupyter-widgets/controls",
          "model_name": "DescriptionStyleModel",
          "model_module_version": "1.5.0",
          "state": {
            "_model_module": "@jupyter-widgets/controls",
            "_model_module_version": "1.5.0",
            "_model_name": "DescriptionStyleModel",
            "_view_count": null,
            "_view_module": "@jupyter-widgets/base",
            "_view_module_version": "1.2.0",
            "_view_name": "StyleView",
            "description_width": ""
          }
        },
        "dff47b5868ad439296012e6bc199dc75": {
          "model_module": "@jupyter-widgets/controls",
          "model_name": "HBoxModel",
          "model_module_version": "1.5.0",
          "state": {
            "_dom_classes": [],
            "_model_module": "@jupyter-widgets/controls",
            "_model_module_version": "1.5.0",
            "_model_name": "HBoxModel",
            "_view_count": null,
            "_view_module": "@jupyter-widgets/controls",
            "_view_module_version": "1.5.0",
            "_view_name": "HBoxView",
            "box_style": "",
            "children": [
              "IPY_MODEL_43239b7e66c64a4380cf66fa0fcb3c62",
              "IPY_MODEL_724e052b48204821b01428f18dd397c2",
              "IPY_MODEL_df39cbfc85834eb3ab24dd8e4c92dae1"
            ],
            "layout": "IPY_MODEL_36fdfb059fe946db96046771f5c72fc6"
          }
        },
        "43239b7e66c64a4380cf66fa0fcb3c62": {
          "model_module": "@jupyter-widgets/controls",
          "model_name": "HTMLModel",
          "model_module_version": "1.5.0",
          "state": {
            "_dom_classes": [],
            "_model_module": "@jupyter-widgets/controls",
            "_model_module_version": "1.5.0",
            "_model_name": "HTMLModel",
            "_view_count": null,
            "_view_module": "@jupyter-widgets/controls",
            "_view_module_version": "1.5.0",
            "_view_name": "HTMLView",
            "description": "",
            "description_tooltip": null,
            "layout": "IPY_MODEL_fc4dadef401f4ff98c023b5c7458a7ca",
            "placeholder": "​",
            "style": "IPY_MODEL_a771e9c5d3cd449ebb6e53188c3678d2",
            "value": "generation_config.json: 100%"
          }
        },
        "724e052b48204821b01428f18dd397c2": {
          "model_module": "@jupyter-widgets/controls",
          "model_name": "FloatProgressModel",
          "model_module_version": "1.5.0",
          "state": {
            "_dom_classes": [],
            "_model_module": "@jupyter-widgets/controls",
            "_model_module_version": "1.5.0",
            "_model_name": "FloatProgressModel",
            "_view_count": null,
            "_view_module": "@jupyter-widgets/controls",
            "_view_module_version": "1.5.0",
            "_view_name": "ProgressView",
            "bar_style": "success",
            "description": "",
            "description_tooltip": null,
            "layout": "IPY_MODEL_faa2f69492a346dea1cffadacb53db04",
            "max": 220,
            "min": 0,
            "orientation": "horizontal",
            "style": "IPY_MODEL_6bc95976d8184a9987f520d10b1a58f5",
            "value": 220
          }
        },
        "df39cbfc85834eb3ab24dd8e4c92dae1": {
          "model_module": "@jupyter-widgets/controls",
          "model_name": "HTMLModel",
          "model_module_version": "1.5.0",
          "state": {
            "_dom_classes": [],
            "_model_module": "@jupyter-widgets/controls",
            "_model_module_version": "1.5.0",
            "_model_name": "HTMLModel",
            "_view_count": null,
            "_view_module": "@jupyter-widgets/controls",
            "_view_module_version": "1.5.0",
            "_view_name": "HTMLView",
            "description": "",
            "description_tooltip": null,
            "layout": "IPY_MODEL_6be48faf364240af9f86c7e5c28d9215",
            "placeholder": "​",
            "style": "IPY_MODEL_27de135c71bc4c038d9ea4d14fae24c7",
            "value": " 220/220 [00:00&lt;00:00, 26.4kB/s]"
          }
        },
        "36fdfb059fe946db96046771f5c72fc6": {
          "model_module": "@jupyter-widgets/base",
          "model_name": "LayoutModel",
          "model_module_version": "1.2.0",
          "state": {
            "_model_module": "@jupyter-widgets/base",
            "_model_module_version": "1.2.0",
            "_model_name": "LayoutModel",
            "_view_count": null,
            "_view_module": "@jupyter-widgets/base",
            "_view_module_version": "1.2.0",
            "_view_name": "LayoutView",
            "align_content": null,
            "align_items": null,
            "align_self": null,
            "border": null,
            "bottom": null,
            "display": null,
            "flex": null,
            "flex_flow": null,
            "grid_area": null,
            "grid_auto_columns": null,
            "grid_auto_flow": null,
            "grid_auto_rows": null,
            "grid_column": null,
            "grid_gap": null,
            "grid_row": null,
            "grid_template_areas": null,
            "grid_template_columns": null,
            "grid_template_rows": null,
            "height": null,
            "justify_content": null,
            "justify_items": null,
            "left": null,
            "margin": null,
            "max_height": null,
            "max_width": null,
            "min_height": null,
            "min_width": null,
            "object_fit": null,
            "object_position": null,
            "order": null,
            "overflow": null,
            "overflow_x": null,
            "overflow_y": null,
            "padding": null,
            "right": null,
            "top": null,
            "visibility": null,
            "width": null
          }
        },
        "fc4dadef401f4ff98c023b5c7458a7ca": {
          "model_module": "@jupyter-widgets/base",
          "model_name": "LayoutModel",
          "model_module_version": "1.2.0",
          "state": {
            "_model_module": "@jupyter-widgets/base",
            "_model_module_version": "1.2.0",
            "_model_name": "LayoutModel",
            "_view_count": null,
            "_view_module": "@jupyter-widgets/base",
            "_view_module_version": "1.2.0",
            "_view_name": "LayoutView",
            "align_content": null,
            "align_items": null,
            "align_self": null,
            "border": null,
            "bottom": null,
            "display": null,
            "flex": null,
            "flex_flow": null,
            "grid_area": null,
            "grid_auto_columns": null,
            "grid_auto_flow": null,
            "grid_auto_rows": null,
            "grid_column": null,
            "grid_gap": null,
            "grid_row": null,
            "grid_template_areas": null,
            "grid_template_columns": null,
            "grid_template_rows": null,
            "height": null,
            "justify_content": null,
            "justify_items": null,
            "left": null,
            "margin": null,
            "max_height": null,
            "max_width": null,
            "min_height": null,
            "min_width": null,
            "object_fit": null,
            "object_position": null,
            "order": null,
            "overflow": null,
            "overflow_x": null,
            "overflow_y": null,
            "padding": null,
            "right": null,
            "top": null,
            "visibility": null,
            "width": null
          }
        },
        "a771e9c5d3cd449ebb6e53188c3678d2": {
          "model_module": "@jupyter-widgets/controls",
          "model_name": "DescriptionStyleModel",
          "model_module_version": "1.5.0",
          "state": {
            "_model_module": "@jupyter-widgets/controls",
            "_model_module_version": "1.5.0",
            "_model_name": "DescriptionStyleModel",
            "_view_count": null,
            "_view_module": "@jupyter-widgets/base",
            "_view_module_version": "1.2.0",
            "_view_name": "StyleView",
            "description_width": ""
          }
        },
        "faa2f69492a346dea1cffadacb53db04": {
          "model_module": "@jupyter-widgets/base",
          "model_name": "LayoutModel",
          "model_module_version": "1.2.0",
          "state": {
            "_model_module": "@jupyter-widgets/base",
            "_model_module_version": "1.2.0",
            "_model_name": "LayoutModel",
            "_view_count": null,
            "_view_module": "@jupyter-widgets/base",
            "_view_module_version": "1.2.0",
            "_view_name": "LayoutView",
            "align_content": null,
            "align_items": null,
            "align_self": null,
            "border": null,
            "bottom": null,
            "display": null,
            "flex": null,
            "flex_flow": null,
            "grid_area": null,
            "grid_auto_columns": null,
            "grid_auto_flow": null,
            "grid_auto_rows": null,
            "grid_column": null,
            "grid_gap": null,
            "grid_row": null,
            "grid_template_areas": null,
            "grid_template_columns": null,
            "grid_template_rows": null,
            "height": null,
            "justify_content": null,
            "justify_items": null,
            "left": null,
            "margin": null,
            "max_height": null,
            "max_width": null,
            "min_height": null,
            "min_width": null,
            "object_fit": null,
            "object_position": null,
            "order": null,
            "overflow": null,
            "overflow_x": null,
            "overflow_y": null,
            "padding": null,
            "right": null,
            "top": null,
            "visibility": null,
            "width": null
          }
        },
        "6bc95976d8184a9987f520d10b1a58f5": {
          "model_module": "@jupyter-widgets/controls",
          "model_name": "ProgressStyleModel",
          "model_module_version": "1.5.0",
          "state": {
            "_model_module": "@jupyter-widgets/controls",
            "_model_module_version": "1.5.0",
            "_model_name": "ProgressStyleModel",
            "_view_count": null,
            "_view_module": "@jupyter-widgets/base",
            "_view_module_version": "1.2.0",
            "_view_name": "StyleView",
            "bar_color": null,
            "description_width": ""
          }
        },
        "6be48faf364240af9f86c7e5c28d9215": {
          "model_module": "@jupyter-widgets/base",
          "model_name": "LayoutModel",
          "model_module_version": "1.2.0",
          "state": {
            "_model_module": "@jupyter-widgets/base",
            "_model_module_version": "1.2.0",
            "_model_name": "LayoutModel",
            "_view_count": null,
            "_view_module": "@jupyter-widgets/base",
            "_view_module_version": "1.2.0",
            "_view_name": "LayoutView",
            "align_content": null,
            "align_items": null,
            "align_self": null,
            "border": null,
            "bottom": null,
            "display": null,
            "flex": null,
            "flex_flow": null,
            "grid_area": null,
            "grid_auto_columns": null,
            "grid_auto_flow": null,
            "grid_auto_rows": null,
            "grid_column": null,
            "grid_gap": null,
            "grid_row": null,
            "grid_template_areas": null,
            "grid_template_columns": null,
            "grid_template_rows": null,
            "height": null,
            "justify_content": null,
            "justify_items": null,
            "left": null,
            "margin": null,
            "max_height": null,
            "max_width": null,
            "min_height": null,
            "min_width": null,
            "object_fit": null,
            "object_position": null,
            "order": null,
            "overflow": null,
            "overflow_x": null,
            "overflow_y": null,
            "padding": null,
            "right": null,
            "top": null,
            "visibility": null,
            "width": null
          }
        },
        "27de135c71bc4c038d9ea4d14fae24c7": {
          "model_module": "@jupyter-widgets/controls",
          "model_name": "DescriptionStyleModel",
          "model_module_version": "1.5.0",
          "state": {
            "_model_module": "@jupyter-widgets/controls",
            "_model_module_version": "1.5.0",
            "_model_name": "DescriptionStyleModel",
            "_view_count": null,
            "_view_module": "@jupyter-widgets/base",
            "_view_module_version": "1.2.0",
            "_view_name": "StyleView",
            "description_width": ""
          }
        }
      }
    }
  },
  "cells": [
    {
      "cell_type": "markdown",
      "source": [
        "# 5. Demo\n",
        "\n",
        "**Purpose:**  \n",
        "Interactively demonstrate our Question Parsing & CoT Parsing pipeline on a single logical puzzle.  \n",
        "You’ll pick an example (by index or your own custom input), then see:\n",
        "- The original question and CoT  \n",
        "- The extracted `question_parsing` constraints  \n",
        "- The structured `cot_parsing` steps  "
      ],
      "metadata": {
        "id": "M8sAZYfEqHQA"
      }
    },
    {
      "cell_type": "markdown",
      "source": [
        "## Imports and File Paths"
      ],
      "metadata": {
        "id": "TGwxK4ohqLrd"
      }
    },
    {
      "cell_type": "code",
      "execution_count": 2,
      "metadata": {
        "id": "vpGtj-bfp-IA"
      },
      "outputs": [],
      "source": [
        "# Install Unsloth for efficient LLM fine-tuning\n",
        "%%capture\n",
        "!pip install \"unsloth[colab-new] @ git+https://github.com/unslothai/unsloth.git\"\n",
        "!pip install --no-deps \"xformers<0.0.27\" \"trl<0.9.0\" peft accelerate bitsandbytes"
      ]
    },
    {
      "cell_type": "code",
      "source": [
        "import unsloth\n",
        "import torch, json, re, ast, html\n",
        "from transformers import AutoTokenizer, AutoModelForCausalLM, pipeline\n",
        "\n",
        "# JSON fallback\n",
        "try:\n",
        "    import json5\n",
        "    USE_JSON5 = True\n",
        "except ImportError:\n",
        "    USE_JSON5 = False"
      ],
      "metadata": {
        "id": "wfbLn0jFqQPd",
        "colab": {
          "base_uri": "https://localhost:8080/"
        },
        "outputId": "113a27fa-c05e-49cb-900f-661a5dbcf826"
      },
      "execution_count": 1,
      "outputs": [
        {
          "output_type": "stream",
          "name": "stdout",
          "text": [
            "Unsloth: Patching Xformers to fix some performance issues.\n",
            "🦥 Unsloth: Will patch your computer to enable 2x faster free finetuning.\n"
          ]
        },
        {
          "output_type": "stream",
          "name": "stderr",
          "text": [
            "WARNING:xformers:WARNING[XFORMERS]: xFormers can't load C++/CUDA extensions. xFormers was built for:\n",
            "    PyTorch 2.3.0+cu121 with CUDA 1201 (you have 2.6.0+cu124)\n",
            "    Python  3.11.9 (you have 3.11.12)\n",
            "  Please reinstall xformers (see https://github.com/facebookresearch/xformers#installing-xformers)\n",
            "  Memory-efficient attention, SwiGLU, sparse and more won't be available.\n",
            "  Set XFORMERS_MORE_DETAILS=1 for more details\n"
          ]
        },
        {
          "output_type": "stream",
          "name": "stdout",
          "text": [
            "🦥 Unsloth Zoo will now patch everything to make training faster!\n"
          ]
        }
      ]
    },
    {
      "cell_type": "code",
      "source": [
        "input_path  = \"/content/drive/MyDrive/llm-sr-project/testingData-blank.json\"\n",
        "output_path = \"/content/drive/MyDrive/llm-sr-project/testingDataresultsfor700-2.json\"\n",
        "log_path    = \"/content/drive/MyDrive/llm-sr-project/raw_outputs_log.jsonl\""
      ],
      "metadata": {
        "id": "bVj2Xs1hqSlR"
      },
      "execution_count": 2,
      "outputs": []
    },
    {
      "cell_type": "markdown",
      "source": [
        "## Prompt Templates"
      ],
      "metadata": {
        "id": "RMrtSynDqVfX"
      }
    },
    {
      "cell_type": "code",
      "source": [
        "# ICL (In-Context Learning) Prompt Templates and Demonstrations (same as in training)\n",
        "\n",
        "QP_DEMON = '''The question is:\n",
        "\n",
        "There are 6 volunteers: A, B, C, D, E and F. They will be assigned to either Project Alpha or Project Beta. Each person works on exactly one project. This assignment must satisfy:\n",
        "(1) If A works on Alpha, then B works on Beta.\n",
        "(2) If C works on Alpha, then D and E work on Beta.\n",
        "(3) F works on a different project than E.\n",
        "(4) D must work on a different project than A.\n",
        "(5) If F works on Alpha, then B works on Alpha.\n",
        "\n",
        "If A works on Beta, which of the following must be true?\n",
        "A. B works on Alpha\n",
        "B. C works on Beta\n",
        "C. D works on Alpha\n",
        "D. F works on Beta\n",
        "\n",
        "The parsing result is:\n",
        "\n",
        "[\n",
        "  \"There are 6 volunteers: A, B, C, D, E and F. They will be assigned to either Project Alpha or Project Beta. Each person works on exactly one project.\",\n",
        "  \"If A works on Alpha, then B works on Beta\",\n",
        "  \"If C works on Alpha, then D and E work on Beta\",\n",
        "  \"F works on a different project than E\",\n",
        "  \"D must work on a different project than A\",\n",
        "  \"If F works on Alpha, then B works on Alpha\",\n",
        "  \"A works on Beta\"\n",
        "]\n",
        "'''\n",
        "\n",
        "\n",
        "QP_TEMPLATE = '''Given a question, extract all relevant information from the question that would help to solve it.\n",
        "\n",
        "This includes:\n",
        "- General setup information (e.g., number of people, projects involved)\n",
        "- Explicit facts given in the question\n",
        "- All logical constraints or conditions\n",
        "\n",
        "Output only a JSON list and nothing else. Follow the format shown in the example.\n",
        "\n",
        "Example:\n",
        "\n",
        "{demon}\n",
        "\n",
        "Now, the question is:\n",
        "\n",
        "{question}\n",
        "\n",
        "Your output:\n",
        "'''\n",
        "\n",
        "\n",
        "CP_DEMON = '''The question is:\n",
        "\n",
        "There are 6 volunteers: A, B, C, D, E and F. They will be assigned to either Project Alpha or Project Beta. Each person works on exactly one project.\n",
        "\n",
        "Conditions:\n",
        "(1) If A works on Alpha, then B works on Beta.\n",
        "(2) If C works on Alpha, then D and E work on Beta.\n",
        "(3) F works on a different project than E.\n",
        "(4) D must work on a different project than A.\n",
        "(5) If F works on Alpha, then B works on Alpha.\n",
        "\n",
        "Question:\n",
        "If A works on Beta, which of the following must be true?\n",
        "\n",
        "CoT:\n",
        "Since A works on Beta, Condition (1) is not triggered. Condition (2) is not triggered since C’s assignment is unknown. Condition (3) doesn’t give anything because E’s assignment is unspecified. Condition (4) says D must work on a different project than A, so D must work on Alpha. Condition (5) depends on F, which is unknown.\n",
        "\n",
        "Parsing result:\n",
        "\n",
        "[\n",
        "  {\n",
        "    \"statement\": \"Condition (1) is not applicable\",\n",
        "    \"evidence\": \"Condition (1): If A works on Alpha, then B works on Beta. | A is working on Beta\",\n",
        "    \"Verification\": \"false\"\n",
        "  },\n",
        "  {\n",
        "    \"statement\": \"Condition (2) is not applicable\",\n",
        "    \"evidence\": \"Condition (2): If C works on Alpha, then D and E work on Beta. | C’s assignment is unknown\",\n",
        "    \"Verification\": \"false\"\n",
        "  },\n",
        "  {\n",
        "    \"statement\": \"Condition (3) does not provide any info\",\n",
        "    \"evidence\": \"Condition (3): F works on a different project than E. | E’s assignment is unknown\",\n",
        "    \"Verification\": \"false\"\n",
        "  },\n",
        "  {\n",
        "    \"statement\": \"D must work on Alpha\",\n",
        "    \"evidence\": \"Condition (4): D must work on a different project than A, and A is working on Beta\",\n",
        "    \"Verification\": \"true\"\n",
        "  },\n",
        "  {\n",
        "    \"statement\": \"Condition (5) is not applicable\",\n",
        "    \"evidence\": \"Condition (5): If F works on Alpha, then B works on Alpha. | F’s assignment is unknown\",\n",
        "    \"Verification\": \"false\"\n",
        "  }\n",
        "]\n",
        "'''\n",
        "\n",
        "CP_TEMPLATE = '''You are a reasoning assistant. Based on the question, conditions, and chain-of-thought (CoT), extract every inference or non-inference step as a JSON object.\n",
        "\n",
        "For each CoT sentence that either:\n",
        "  1. Refers to a condition (e.g. “Condition (2) …”)\n",
        "  2. Starts with an inference cue (“Since”, “Therefore”, “This means”, “We can deduce”, etc.)\n",
        "\n",
        "Produce one object with:\n",
        "  • \"statement\": the new claim you read in that CoT sentence (don’t quote the entire sentence—just the core inference).\n",
        "  • \"evidence\":\n",
        "      – if the claim restates a constraint, use the exact line from the **Conditions** block,\n",
        "      – otherwise, use the CoT fragment that you extracted it from.\n",
        "  • \"Verification\":\n",
        "      – `\"false\"` if the sentence rejects or blocks a condition (contains “not applicable”, “does not provide”, etc.),\n",
        "      – otherwise `\"true\"`.\n",
        "\n",
        "Keep the objects in the same order as they appear in the CoT.\n",
        "\n",
        "Example:\n",
        "\n",
        "{demon}\n",
        "\n",
        "Now, given:\n",
        "\n",
        "Question:\n",
        "{question}\n",
        "\n",
        "Conditions:\n",
        "{conditions}\n",
        "\n",
        "Chain-of-Thought:\n",
        "{cot}\n",
        "\n",
        "Your output:\n",
        "'''"
      ],
      "metadata": {
        "id": "0Q9sNF5TqUPk"
      },
      "execution_count": 3,
      "outputs": []
    },
    {
      "cell_type": "markdown",
      "source": [
        "## Utility Functions"
      ],
      "metadata": {
        "id": "Xj_r4FC6qddu"
      }
    },
    {
      "cell_type": "code",
      "source": [
        "def extract_first_json_array(raw: str):\n",
        "    raw = raw.strip()\n",
        "    start = raw.find('[')\n",
        "    if start == -1: return None\n",
        "    depth = 0\n",
        "    for i, ch in enumerate(raw[start:], start):\n",
        "        if ch=='[': depth+=1\n",
        "        elif ch==']': depth-=1\n",
        "        if depth==0:\n",
        "            block = raw[start:i+1]\n",
        "            for parser in (json.loads, ast.literal_eval, (json5.loads if USE_JSON5 else None)):\n",
        "                if parser:\n",
        "                    try: return parser(block)\n",
        "                    except: pass\n",
        "            return None\n",
        "    return None\n",
        "\n",
        "def clean_quotes(text):\n",
        "    return text.replace('“','\"').replace('”','\"').replace(\"‘\",\"'\").replace(\"’\",\"'\")\n",
        "\n",
        "def normalize_question_text(text):\n",
        "    text = clean_quotes(text)\n",
        "    text = re.sub(r'\\?\\s(?=[A-Z])', ', ', text)\n",
        "    text = re.sub(r'(?<=[a-zA-Z])\\.(?=[A-Z])', '. ', text)\n",
        "    text = re.sub(r'(?<![A-Da-d])\\\\n(?!\\s?[A-Da-d]\\\\.)', ' ', text)\n",
        "    return html.unescape(text).strip()"
      ],
      "metadata": {
        "id": "gmwMzlPMqdNM"
      },
      "execution_count": 4,
      "outputs": []
    },
    {
      "cell_type": "markdown",
      "source": [
        "## Load Models"
      ],
      "metadata": {
        "id": "9iyhE1E_qh-w"
      }
    },
    {
      "cell_type": "code",
      "source": [
        "# Question Parser\n",
        "question_model_path = \"/content/drive/MyDrive/llm-sr-project/finetuned_llama3_question_parsing\"\n",
        "question_tokenizer  = AutoTokenizer.from_pretrained(question_model_path)\n",
        "question_tokenizer.model_max_length = 1024\n",
        "question_model      = AutoModelForCausalLM.from_pretrained(question_model_path, load_in_4bit=True)\n",
        "question_pipe       = pipeline(\"text-generation\", model=question_model, tokenizer=question_tokenizer,\n",
        "                               return_full_text=False, num_beams=5, early_stopping=True, do_sample=False)\n",
        "\n",
        "# CoT Parser\n",
        "cot_model_path = \"/content/drive/MyDrive/llm-sr-project/finetuned_llama3_cot_parsing\"\n",
        "cot_tokenizer  = AutoTokenizer.from_pretrained(cot_model_path)\n",
        "cot_tokenizer.model_max_length = 2048\n",
        "cot_model      = AutoModelForCausalLM.from_pretrained(cot_model_path, load_in_4bit=True)\n",
        "cot_pipe       = pipeline(\"text-generation\", model=cot_model, tokenizer=cot_tokenizer,\n",
        "                          return_full_text=False, num_beams=5, early_stopping=True, do_sample=False)\n",
        "\n",
        "print(\"✅ Models loaded.\")"
      ],
      "metadata": {
        "id": "ArvxIRkyqbPa",
        "colab": {
          "base_uri": "https://localhost:8080/",
          "height": 248,
          "referenced_widgets": [
            "b8ba4b005ea547f0bb554d9e2180e0ca",
            "463a65ddd9d74ddba8d2a1d7d1d5ad41",
            "01e8d84076ca4c0a8f680105d5843e93",
            "99579211275e4b6ea389a9b74f51958c",
            "989960618cbe4f148dc57daf638d5ec0",
            "953e7cd0118c4a9badf38b420f42934a",
            "590a4b48339a4f939e151119a0096997",
            "a80da4c52bbf4ddd88acfa4e917d3279",
            "723a89da682f4498932622986d3671c7",
            "dccbbddb590e4a5380ef22fc5e1ed5da",
            "e57f874b30e845888e8416706cbc5bc8",
            "2799bcfbdf234755b19b3a38c37fc6a1",
            "2ecbe448aa604440bcd1a41f005e23b7",
            "d4d9a71962424fb7b23bcb32acb5f83b",
            "d32cdaec2b6445888a7ceef849558a63",
            "7b35a126de3446bea0741094bf7e5027",
            "c61c796e9b5d4d2b978721704c84ceae",
            "81cd90d9d5a24b60a679cd7358ce79c4",
            "fd9f8ee3147041379a9f03c5527d50d5",
            "7984863b1b7c4dceaecbd62a03d2d7ed",
            "61d11a7e1bee4c5e97e007dbcaa68a07",
            "5789defcd68445c69c465c9726e8a00e",
            "dff47b5868ad439296012e6bc199dc75",
            "43239b7e66c64a4380cf66fa0fcb3c62",
            "724e052b48204821b01428f18dd397c2",
            "df39cbfc85834eb3ab24dd8e4c92dae1",
            "36fdfb059fe946db96046771f5c72fc6",
            "fc4dadef401f4ff98c023b5c7458a7ca",
            "a771e9c5d3cd449ebb6e53188c3678d2",
            "faa2f69492a346dea1cffadacb53db04",
            "6bc95976d8184a9987f520d10b1a58f5",
            "6be48faf364240af9f86c7e5c28d9215",
            "27de135c71bc4c038d9ea4d14fae24c7"
          ]
        },
        "outputId": "363d960e-f795-43bc-dd84-7ca90e5e212b"
      },
      "execution_count": 5,
      "outputs": [
        {
          "output_type": "display_data",
          "data": {
            "text/plain": [
              "config.json:   0%|          | 0.00/1.26k [00:00<?, ?B/s]"
            ],
            "application/vnd.jupyter.widget-view+json": {
              "version_major": 2,
              "version_minor": 0,
              "model_id": "b8ba4b005ea547f0bb554d9e2180e0ca"
            }
          },
          "metadata": {}
        },
        {
          "output_type": "stream",
          "name": "stderr",
          "text": [
            "The `load_in_4bit` and `load_in_8bit` arguments are deprecated and will be removed in the future versions. Please, pass a `BitsAndBytesConfig` object in `quantization_config` argument instead.\n"
          ]
        },
        {
          "output_type": "display_data",
          "data": {
            "text/plain": [
              "model.safetensors:   0%|          | 0.00/5.70G [00:00<?, ?B/s]"
            ],
            "application/vnd.jupyter.widget-view+json": {
              "version_major": 2,
              "version_minor": 0,
              "model_id": "2799bcfbdf234755b19b3a38c37fc6a1"
            }
          },
          "metadata": {}
        },
        {
          "output_type": "display_data",
          "data": {
            "text/plain": [
              "generation_config.json:   0%|          | 0.00/220 [00:00<?, ?B/s]"
            ],
            "application/vnd.jupyter.widget-view+json": {
              "version_major": 2,
              "version_minor": 0,
              "model_id": "dff47b5868ad439296012e6bc199dc75"
            }
          },
          "metadata": {}
        },
        {
          "output_type": "stream",
          "name": "stderr",
          "text": [
            "Device set to use cuda:0\n",
            "The following generation flags are not valid and may be ignored: ['temperature', 'top_p']. Set `TRANSFORMERS_VERBOSITY=info` for more details.\n",
            "The `load_in_4bit` and `load_in_8bit` arguments are deprecated and will be removed in the future versions. Please, pass a `BitsAndBytesConfig` object in `quantization_config` argument instead.\n",
            "Device set to use cuda:0\n",
            "The following generation flags are not valid and may be ignored: ['temperature', 'top_p']. Set `TRANSFORMERS_VERBOSITY=info` for more details.\n"
          ]
        },
        {
          "output_type": "stream",
          "name": "stdout",
          "text": [
            "✅ Models loaded.\n"
          ]
        }
      ]
    },
    {
      "cell_type": "markdown",
      "source": [
        "## Inference Functions"
      ],
      "metadata": {
        "id": "ByZCeu6MqotB"
      }
    },
    {
      "cell_type": "code",
      "source": [
        "def generate_question_parsing(question: str):\n",
        "    q = normalize_question_text(question)\n",
        "    prompt = QP_TEMPLATE.format(demon=QP_DEMON, question=q)\n",
        "    resp = question_pipe(prompt, max_new_tokens=512)[0][\"generated_text\"]\n",
        "    with open(log_path, \"a\") as f:\n",
        "        f.write(json.dumps({\"type\":\"QP\",\"question\":question,\"raw\":resp})+\"\\n\")\n",
        "    return extract_first_json_array(resp) or []\n",
        "\n",
        "def generate_cot_parsing(question: str, cot: str, constraints):\n",
        "    q = normalize_question_text(question)\n",
        "    c = normalize_question_text(cot)\n",
        "    prompt = CP_TEMPLATE.format(demon=CP_DEMON, question=q,\n",
        "                                conditions=json.dumps(constraints, ensure_ascii=False),\n",
        "                                cot=c)\n",
        "    resp_list = cot_pipe(prompt, max_new_tokens=1024)\n",
        "    if not resp_list or \"generated_text\" not in resp_list[0]:\n",
        "        print(\"Malformed response\")\n",
        "        return []\n",
        "    resp = resp_list[0][\"generated_text\"]\n",
        "    with open(log_path, \"a\") as f:\n",
        "        f.write(json.dumps({\"type\":\"CP\",\"question\":question,\"cot\":cot,\"raw\":resp})+\"\\n\")\n",
        "    steps = extract_first_json_array(resp)\n",
        "    if not steps: return []\n",
        "    clean, seen = [], set()\n",
        "    for st in steps:\n",
        "        s = st.get(\"statement\",\"\").strip()\n",
        "        e = st.get(\"evidence\",\"\").strip() or \"logical deduction\"\n",
        "        v = str(st.get(\"Verification\",\"true\")).lower()\n",
        "        if len(s)<5 or (s,e) in seen: continue\n",
        "        seen.add((s,e))\n",
        "        clean.append({\"statement\":s,\"evidence\":e,\"Verification\":v})\n",
        "    return clean"
      ],
      "metadata": {
        "id": "CdoQMq4cqnP-"
      },
      "execution_count": 6,
      "outputs": []
    },
    {
      "cell_type": "markdown",
      "source": [
        "## Demo"
      ],
      "metadata": {
        "id": "vb2iqALzqtOK"
      }
    },
    {
      "cell_type": "code",
      "source": [
        "# Load test set\n",
        "with open(\"/content/drive/MyDrive/llm-sr-project/testingDataresultsfor700-2.json\") as f:\n",
        "    examples = json.load(f)\n",
        "\n",
        "idx = 0\n",
        "ex = examples[idx]\n",
        "\n",
        "print(\" Question:\\n\", ex[\"question\"])\n",
        "print(\"\\n Chain of Thought:\\n\", ex[\"cot\"])\n",
        "\n",
        "# Generate\n",
        "qp = generate_question_parsing(ex[\"question\"])\n",
        "cp = generate_cot_parsing(ex[\"question\"], ex[\"cot\"], qp)\n",
        "\n",
        "print(f\"\\n Extracted {len(qp)} constraints:\")\n",
        "for c in qp: print(\" •\", c)\n",
        "\n",
        "print(f\"\\n Parsed {len(cp)} steps:\")\n",
        "for step in cp:\n",
        "    print(\" •\", step)\n"
      ],
      "metadata": {
        "id": "oEQVuGFBq1H2",
        "colab": {
          "base_uri": "https://localhost:8080/"
        },
        "outputId": "60f76dd5-339c-4862-c00e-dedcbf7c8d90"
      },
      "execution_count": 7,
      "outputs": [
        {
          "output_type": "stream",
          "name": "stderr",
          "text": [
            "The following generation flags are not valid and may be ignored: ['temperature', 'top_p']. Set `TRANSFORMERS_VERBOSITY=info` for more details.\n"
          ]
        },
        {
          "output_type": "stream",
          "name": "stdout",
          "text": [
            " Question:\n",
            " There are 7 outstanding students G, H, L, M, U, W and Z in a school.During the summer vacation, the school will send them to the United Kingdom and the United States for inspection.The school has only 7 students participating in this activity, and each person happens to go to one of these two countries.Considering the specialty of each student, this activity must meet the following conditions? (1) If G goes to the UK, then H To the United States.(2) If L goes to the UK, both M and U go to the US.(3) The country W went to was different from the country Z went to.(4) The country where U goes is different from the country where G goes.(5) If Z goes to the UK, then H also goes to the UK.\n",
            "If G goes to the United States, which of the following must be true?\n",
            "A.H go to the UK\n",
            "B.L go to America\n",
            "C.M go to the UK\n",
            "D.W go to America\n",
            "\n",
            " Chain of Thought:\n",
            " Since G goes to the United States, we need to analyze the conditions that follow. Condition (1) is not applicable since G is going to the US. Condition (2) is also not applicable since L's destination is not specified. Condition (3) does not provide any information about H, M, U, or W. Condition (4) states that U's destination is different from G's, which is the US, so U must go to the UK. Condition (5) is not applicable since Z's destination is not specified.\n"
          ]
        },
        {
          "output_type": "stream",
          "name": "stderr",
          "text": [
            "The following generation flags are not valid and may be ignored: ['temperature', 'top_p']. Set `TRANSFORMERS_VERBOSITY=info` for more details.\n"
          ]
        },
        {
          "output_type": "stream",
          "name": "stdout",
          "text": [
            "\n",
            " Extracted 7 constraints:\n",
            " • There are 7 outstanding students G, H, L, M, U, W and Z in a school. During the summer vacation, the school will send them to the United Kingdom and the United States for inspection. The school has only 7 students participating in this activity, and each person happens to go to one of these two countries.\n",
            " • If G goes to the UK, then H To the United States.\n",
            " • If L goes to the UK, both M and U go to the US.\n",
            " • The country W went to was different from the country Z went to.\n",
            " • The country where U goes is different from the country where G goes.\n",
            " • If Z goes to the UK, then H also goes to the UK.\n",
            " • G goes to the United States\n",
            "\n",
            " Parsed 5 steps:\n",
            " • {'statement': 'Condition (1) is not applicable', 'evidence': 'Condition (1): If G goes to the UK, then H To the United States. | G goes to the United States', 'Verification': 'false'}\n",
            " • {'statement': 'Condition (2) is not applicable', 'evidence': \"Condition (2): If L goes to the UK, both M and U go to the US. | L's destination is unknown\", 'Verification': 'false'}\n",
            " • {'statement': 'Condition (3) does not provide any info', 'evidence': 'Condition (3): The country W went to was different from the country Z went to. | No information about H, M, U, or W', 'Verification': 'false'}\n",
            " • {'statement': 'U must go to the UK', 'evidence': 'Condition (4): The country where U goes is different from the country where G goes. | G goes to the United States', 'Verification': 'true'}\n",
            " • {'statement': 'Condition (5) is not applicable', 'evidence': \"Condition (5): If Z goes to the UK, then H also goes to the UK. | Z's destination is unknown\", 'Verification': 'false'}\n"
          ]
        }
      ]
    },
    {
      "cell_type": "code",
      "source": [
        "with open(\"/content/drive/MyDrive/llm-sr-project/testingDataresultsfor700-2.json\") as f:\n",
        "    examples = json.load(f)\n",
        "\n",
        "ex = {\n",
        "    \"question\": \"Imagine you come across an ancient door with a numerical lock that consists of a sequence of numbers followed by a question mark. The sequence is as follows: 3, 6, 9, 12, ?, what number should you enter to unlock the door?\\nA. 14\\nB. 13\\nC. 18\\nD. 15\",\n",
        "    \"cot\": \"The sequence follows a simple arithmetic pattern where each number is derived by adding a constant increment to the previous one. Starting with 3, each subsequent number increases by 3: 3 becomes 6, 6 becomes 9, and 9 becomes 12. This indicates a consistent increment of 3. Applying the same rule, the next number after 12 is 12 + 3, which results in 15. Hence, 15 is the number that completes the sequence.\"\n",
        "}\n",
        "\n",
        "print(\" Question:\\n\", ex[\"question\"])\n",
        "print(\"\\n Chain of Thought:\\n\", ex[\"cot\"])\n",
        "\n",
        "qp = generate_question_parsing(ex[\"question\"])\n",
        "cp = generate_cot_parsing(ex[\"question\"], ex[\"cot\"], qp)\n",
        "\n",
        "print(f\"\\n Extracted {len(qp)} constraints:\")\n",
        "for c in qp: print(\" •\", c)\n",
        "\n",
        "print(f\"\\n Parsed {len(cp)} steps:\")\n",
        "for step in cp:\n",
        "    print(\" •\", step)\n"
      ],
      "metadata": {
        "id": "EZaaGZ2yq4_b",
        "colab": {
          "base_uri": "https://localhost:8080/"
        },
        "outputId": "d657acb2-e490-4321-cacb-7a62bec80161"
      },
      "execution_count": 8,
      "outputs": [
        {
          "output_type": "stream",
          "name": "stderr",
          "text": [
            "The following generation flags are not valid and may be ignored: ['temperature', 'top_p']. Set `TRANSFORMERS_VERBOSITY=info` for more details.\n"
          ]
        },
        {
          "output_type": "stream",
          "name": "stdout",
          "text": [
            " Question:\n",
            " Imagine you come across an ancient door with a numerical lock that consists of a sequence of numbers followed by a question mark. The sequence is as follows: 3, 6, 9, 12, ?, what number should you enter to unlock the door?\n",
            "A. 14\n",
            "B. 13\n",
            "C. 18\n",
            "D. 15\n",
            "\n",
            " Chain of Thought:\n",
            " The sequence follows a simple arithmetic pattern where each number is derived by adding a constant increment to the previous one. Starting with 3, each subsequent number increases by 3: 3 becomes 6, 6 becomes 9, and 9 becomes 12. This indicates a consistent increment of 3. Applying the same rule, the next number after 12 is 12 + 3, which results in 15. Hence, 15 is the number that completes the sequence.\n"
          ]
        },
        {
          "output_type": "stream",
          "name": "stderr",
          "text": [
            "The following generation flags are not valid and may be ignored: ['temperature', 'top_p']. Set `TRANSFORMERS_VERBOSITY=info` for more details.\n"
          ]
        },
        {
          "output_type": "stream",
          "name": "stdout",
          "text": [
            "\n",
            " Extracted 3 constraints:\n",
            " • Imagine you come across an ancient door with a numerical lock that consists of a sequence of numbers followed by a question mark.\n",
            " • The sequence is as follows: 3, 6, 9, 12,?\n",
            " • what number should you enter to unlock the door\n",
            "\n",
            " Parsed 5 steps:\n",
            " • {'statement': 'The sequence follows a simple arithmetic pattern', 'evidence': 'The sequence is as follows: 3, 6, 9, 12,?', 'Verification': 'true'}\n",
            " • {'statement': 'Each number is derived by adding a constant increment to the previous one', 'evidence': 'The sequence follows a simple arithmetic pattern where each number is derived by adding a constant increment to the previous one.', 'Verification': 'true'}\n",
            " • {'statement': 'Starting with 3, each subsequent number increases by 3', 'evidence': 'Starting with 3, each subsequent number increases by 3: 3 becomes 6, 6 becomes 9, and 9 becomes 12.', 'Verification': 'true'}\n",
            " • {'statement': 'The next number after 12 is 12 + 3', 'evidence': 'This indicates a consistent increment of 3. Applying the same rule, the next number after 12 is 12 + 3, which results in 15.', 'Verification': 'true'}\n",
            " • {'statement': 'Hence, 15 is the number that completes the sequence', 'evidence': 'Hence, 15 is the number that completes the sequence.', 'Verification': 'true'}\n"
          ]
        }
      ]
    }
  ]
}