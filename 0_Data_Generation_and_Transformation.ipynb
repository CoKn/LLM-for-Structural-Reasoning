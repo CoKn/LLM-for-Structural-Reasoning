{
 "cells": [
  {
   "metadata": {},
   "cell_type": "markdown",
   "source": "# Data Set Creation",
   "id": "27ddbd26dd6e5b30"
  },
  {
   "metadata": {},
   "cell_type": "markdown",
   "source": "### Load Data",
   "id": "b30ce6c61551ce1f"
  },
  {
   "cell_type": "code",
   "execution_count": null,
   "id": "d63c03db",
   "metadata": {},
   "outputs": [],
   "source": [
    "# !huggingface-cli login"
   ]
  },
  {
   "cell_type": "code",
   "execution_count": null,
   "id": "e43a784e",
   "metadata": {},
   "outputs": [],
   "source": [
    "import pandas as pd\n",
    "from datasets import load_dataset\n",
    "\n",
    "ds = load_dataset(\"hivaze/LOGIC-701\", \"en\")"
   ]
  },
  {
   "cell_type": "code",
   "execution_count": null,
   "id": "d5016e65",
   "metadata": {},
   "outputs": [],
   "source": [
    "df = pd.DataFrame(ds[\"train\"])\n",
    "# df.columns\n",
    "df.to_csv(\"../data/real_data/logic_701.csv\", index=False)"
   ]
  },
  {
   "metadata": {},
   "cell_type": "markdown",
   "source": "### Transform Data",
   "id": "594cef53ef8faf16"
  },
  {
   "cell_type": "code",
   "execution_count": null,
   "id": "1e83c5cc",
   "metadata": {},
   "outputs": [],
   "source": [
    "system_prompt=(\"\"\"I have data from a online dataset and I want you to help me to solve the logical problem and transform the data into a target format. Try to find the most optimal solution. I want you to output the question parsing, answer, cot, cot_parsing and sel_idx in json format. Please make sure that the output is valid JSON format. Formulate the answer as text. Do not just give the number or letter as answer.\n",
    "\n",
    "Target format:\n",
    "[\n",
    "    {\n",
    "        \"question\": \"There are 7 outstanding students G, H, L, M, U, W and Z in a school.During the summer vacation, the school will send them to the United Kingdom and the United States for inspection.The school has only 7 students participating in this activity, and each person happens to go to one of these two countries.Considering the specialty of each student, this activity must meet the following conditions? (1) If G goes to the UK, then H To the United States.(2) If L goes to the UK, both M and U go to the US.(3) The country W went to was different from the country Z went to.(4) The country where U goes is different from the country where G goes.(5) If Z goes to the UK, then H also goes to the UK.\\nIf G goes to the United States, which of the following must be true?\\nA.H go to the UK\\nB.L go to America\\nC.M go to the UK\\nD.W go to America\",\n",
    "        \"question_parsing\": [\n",
    "            \"There are 7 outstanding students G, H, L, M, U, W and Z in a school.During the summer vacation, the school will send them to the United Kingdom and the United States for inspection.\",\n",
    "            \"each person happens to go to one of these two countries\",\n",
    "            \"If G goes to the UK, then H To the United States\",\n",
    "            \"If L goes to the UK, both M and U go to the US\",\n",
    "            \"The country W went to was different from the country Z went to\",\n",
    "            \"The country where U goes is different from the country where G goes\",\n",
    "            \"If Z goes to the UK, then H also goes to the UK\",\n",
    "            \"G goes to the United States\"\n",
    "        ],\n",
    "        \"answer\": \"1\",\n",
    "        \"id\": 162,\n",
    "        \"cot\": \"Since G goes to the United States, we need to analyze the conditions that follow. Condition (1) is not applicable since G is going to the US. Condition (2) is also not applicable since L's destination is not specified. Condition (3) does not provide any information about H, M, U, or W. Condition (4) states that U's destination is different from G's, which is the US, so U must go to the UK. Condition (5) is not applicable since Z's destination is not specified.\",\n",
    "        \"cot_parsing\": [\n",
    "            {\n",
    "                \"statement\": \"Condition (1) is not applicable\",\n",
    "                \"evidence\": \"Condition (1): If G goes to the UK, then H To the United States. | G is going to the US\",\n",
    "                \"Verification\": \"false\"\n",
    "            },\n",
    "            {\n",
    "                \"statement\": \"Condition (2) is also not applicable\",\n",
    "                \"evidence\": \"Condition (2): If L goes to the UK, both M and U go to the US. | L's destination is not specified\",\n",
    "                \"Verification\": \"false\"\n",
    "            },\n",
    "            {\n",
    "                \"statement\": \"Condition (3) does not provide any information about H, M, U, or W\",\n",
    "                \"evidence\": \"Condition (3): The country W went to was different from the country Z went to.\",\n",
    "                \"Verification\": \"false\"\n",
    "            },\n",
    "            {\n",
    "                \"statement\": \"U must go to the UK\",\n",
    "                \"evidence\": \"Condition (4): The country where U goes is different from the country where G goes. | Condition (4) states that U's destination is different from G's, which is the US\",\n",
    "                \"Verification\": \"true\"\n",
    "            },\n",
    "            {\n",
    "                \"statement\": \"Condition (5) is not applicable\",\n",
    "                \"evidence\": \"Condition (5): If Z goes to the UK, then H also goes to the UK. | Z's destination is not specified\",\n",
    "                \"Verification\": \"true\"\n",
    "            }\n",
    "        ],\n",
    "        \"sel_idx\": 92\n",
    "    }\n",
    "]\n",
    "\n",
    "\n",
    "    given data:\n",
    "    \"\"\")"
   ]
  },
  {
   "cell_type": "code",
   "execution_count": null,
   "id": "b3a43e47",
   "metadata": {},
   "outputs": [],
   "source": [
    "import os\n",
    "from utils.AzureAdapter import AzureAdapter\n",
    "from dotenv import load_dotenv\n",
    "\n",
    "load_dotenv()\n",
    "\n",
    "api_key = os.getenv(\"AZURE_API_KEY\")\n",
    "api_endpoint = os.getenv(\"AZURE_API_ENDPOINT\")\n",
    "api_version = os.getenv(\"AZURE_API_VERSION\")\n",
    "deployment_name = \"gpt-4o\"\n",
    "\n",
    "llm = AzureAdapter(api_key=api_key, api_endpoint=api_endpoint, api_version=api_version)"
   ]
  },
  {
   "cell_type": "code",
   "execution_count": null,
   "id": "a99f18c0",
   "metadata": {},
   "outputs": [],
   "source": [
    "def save_to_json(output_folder, data, idx):\n",
    "    os.makedirs(output_folder, exist_ok=True)\n",
    "    output_path = os.path.join(output_folder, f\"response_{idx}.json\")\n",
    "    with open(output_path, 'w') as json_file:\n",
    "        json.dump(data, json_file, indent=4)"
   ]
  },
  {
   "cell_type": "code",
   "execution_count": null,
   "id": "a0e2e29d",
   "metadata": {},
   "outputs": [],
   "source": [
    "df[\"problem_statement\"] = df[['problem_statement', 'answer_option_1', 'answer_option_2', 'answer_option_3', 'answer_option_4', 'answer_option_5']].fillna('').apply(\n",
    "    lambda row: ', '.join([f\"{col}: {row[col]}\" for col in row.index]), axis=1\n",
    ")"
   ]
  },
  {
   "cell_type": "code",
   "execution_count": null,
   "id": "3005e2d3",
   "metadata": {},
   "outputs": [],
   "source": [
    "df[\"problem_statement\"][0]"
   ]
  },
  {
   "cell_type": "code",
   "execution_count": null,
   "id": "24797dba",
   "metadata": {},
   "outputs": [],
   "source": [
    "from tqdm import tqdm\n",
    "\n",
    "def generate_cot(n_rows):\n",
    "    for idx, row in tqdm(df.iterrows(), total=min(len(df), n_rows-1), desc=\"Processing rows\"):\n",
    "        if idx < 42:\n",
    "            continue\n",
    "        processed_row = row.to_json()\n",
    "        response = llm.call_model(prompt=str(processed_row) + f\"sel_idx: {idx}\", system_prompt=system_prompt, deployment_name=deployment_name)\n",
    "        # print(response)\n",
    "        # print(\"\\n\")\n",
    "        try:\n",
    "            parsed_response = eval(response)\n",
    "            save_to_json(\"./data\", data=parsed_response, idx=idx)\n",
    "        except Exception as e:\n",
    "            print(f\"Error processing row with id {idx}: {str(e)}\")\n",
    "\n",
    "        if idx >= n_rows-1:\n",
    "            break\n"
   ]
  },
  {
   "cell_type": "code",
   "execution_count": null,
   "id": "f8508fe3",
   "metadata": {},
   "outputs": [],
   "source": [
    "generate_cot(50)"
   ]
  },
  {
   "cell_type": "code",
   "execution_count": null,
   "id": "ba59473d",
   "metadata": {},
   "outputs": [],
   "source": [
    "def combine_json_to_jsonl(input_folder, output_file):\n",
    "    data_combined = []\n",
    "    with open(output_file, 'w') as jsonl_file:\n",
    "        for file_name in os.listdir(input_folder):\n",
    "            if file_name.endswith('.json'):\n",
    "                file_path = os.path.join(input_folder, file_name)\n",
    "                with open(file_path, 'r') as json_file:\n",
    "                    data = json.load(json_file)\n",
    "                    data_combined.append(data)\n",
    "        jsonl_file.write(json.dumps(data_combined))\n",
    "    print(f\"Combined JSONL file saved to {output_file}\")\n",
    "    return data_combined\n",
    "\n",
    "# Example usage\n",
    "combine_json_to_jsonl('./data', 'combined_data_answer_complete.jsonl')"
   ]
  },
  {
   "cell_type": "code",
   "execution_count": null,
   "id": "06f91e22",
   "metadata": {},
   "outputs": [],
   "source": [
    "df_original = pd.read_csv('./logic_701.csv')\n",
    "df_generated = pd.read_json('combined_data_answer_complete.jsonl')\n",
    "\n",
    "df_generated"
   ]
  },
  {
   "metadata": {},
   "cell_type": "markdown",
   "source": "### Data Verification",
   "id": "edc2ea5dc40639a3"
  },
  {
   "cell_type": "code",
   "execution_count": null,
   "id": "f6e30a26",
   "metadata": {},
   "outputs": [],
   "source": [
    "import json\n",
    "\n",
    "with open(\"combined_data_full_generation.jsonl\", \"r\") as file:\n",
    "    df_generated = json.loads(file.read())\n",
    "\n",
    "type(df_generated)"
   ]
  },
  {
   "cell_type": "code",
   "execution_count": null,
   "id": "fc3dadac",
   "metadata": {},
   "outputs": [],
   "source": [
    "df_generated_answers = [item[\"answer\"] for item in df_generated]\n",
    "df_generated_answers"
   ]
  },
  {
   "cell_type": "code",
   "execution_count": null,
   "id": "fd53985d",
   "metadata": {},
   "outputs": [],
   "source": [
    "def compare(original_answers, generated_answers):\n",
    "    # Initialize comparison results\n",
    "    comparison_results = {\n",
    "        \"total\": len(generated_answers),\n",
    "        \"correct\": 0,\n",
    "        \"incorrect\": 0,\n",
    "        \"mismatched_answers\": [],\n",
    "        \"matched_answers\": []\n",
    "    }\n",
    "\n",
    "    # Compare answers\n",
    "    for generated_item, original_answers in zip(generated_answers, original_answers):\n",
    "        if generated_item not in original_answers:\n",
    "            comparison_results[\"mismatched_answers\"].append((original_answers, generated_answers))\n",
    "            comparison_results[\"incorrect\"] += 1\n",
    "        else:\n",
    "            comparison_results[\"incorrect\"] += 1\n",
    "            comparison_results[\"matched_answers\"].append((original_answers, generated_answers))\n",
    "    return comparison_results\n",
    "\n",
    "df_original_answers = pd.read_csv(\"./logic_701.csv\")[\"correct_option_number\"]\n",
    "# Example usage\n",
    "results = compare(df_original_answers, df_generated_answers)\n",
    "print(results)"
   ]
  },
  {
   "cell_type": "code",
   "execution_count": null,
   "id": "73bbbfac",
   "metadata": {},
   "outputs": [],
   "source": [
    "results[\"mismatched_answers\"]"
   ]
  },
  {
   "cell_type": "code",
   "execution_count": null,
   "id": "d26b38d1",
   "metadata": {},
   "outputs": [],
   "source": [
    "questions = [(question_original, question_generated) for question_original, question_generated in zip(df_original_answers, df_generated_answers)]"
   ]
  },
  {
   "cell_type": "code",
   "execution_count": null,
   "id": "f138546a",
   "metadata": {},
   "outputs": [],
   "source": [
    "questions"
   ]
  },
  {
   "metadata": {},
   "cell_type": "markdown",
   "source": "### Benchmarking with OpenPipe",
   "id": "3f23285fa8b1a818"
  },
  {
   "cell_type": "code",
   "execution_count": null,
   "id": "4cb16d3a",
   "metadata": {},
   "outputs": [],
   "source": [
    "import json\n",
    "\n",
    "with open(\"combined_data_full_generation.jsonl\", \"r\") as file:\n",
    "    df_generated = json.loads(file.read())"
   ]
  },
  {
   "cell_type": "code",
   "execution_count": null,
   "id": "e505e38e",
   "metadata": {},
   "outputs": [],
   "source": [
    "df_generated"
   ]
  },
  {
   "cell_type": "code",
   "execution_count": null,
   "id": "901dcaab",
   "metadata": {},
   "outputs": [],
   "source": [
    "json.dumps(df_generated[0])"
   ]
  },
  {
   "cell_type": "code",
   "execution_count": null,
   "id": "bd5e2957",
   "metadata": {},
   "outputs": [],
   "source": [
    "def format_data(data: json) -> list:\n",
    "    output = []\n",
    "    for puzzle in data:\n",
    "        messages = {\"messages\": [\n",
    "            {\"role\": \"system\",\n",
    "            \"content\": \"You are a reasoning assistant that transforms logic-based multiple-choice questions into structured JSON outputs. For each question:\\n\\n1. Parse the question into distinct logical or contextual statements and list them as `question_parsing`.\\n2. Solve the problem using a clear, step-by-step chain-of-thought (`cot`).\\n3. Parse the chain-of-thought into structured steps under `cot_parsing`, where each step includes:\\n   - `statement`: the logical inference made\\n   - `evidence`: the rule or fact supporting it\\n   - `Verification`: whether the statement is logically verified as `true` or `false`\\n4. Determine and return the **correct answer choice as a fully formulated sentence** under `answer`, not just a letter.\\n5. Include the original question and use a valid JSON structure:\\n\\n{\\n  \\\"question\\\": \\\"...\\\",\\n  \\\"question_parsing\\\": [ \\\"...\\\", \\\"...\\\" ],\\n  \\\"answer\\\": \\\"<full_text_of_correct_answer>\\\",\\n  \\\"id\\\": <integer>,\\n  \\\"cot\\\": \\\"...\\\",\\n  \\\"cot_parsing\\\": [\\n    { \\\"statement\\\": \\\"...\\\", \\\"evidence\\\": \\\"...\\\", \\\"Verification\\\": \\\"true\\\" | \\\"false\\\" },\\n    ...\\n  ],\\n  \\\"sel_idx\\\": <integer>\\n}\\n\\nBe logical, step-by-step, and do not make unsupported assumptions. Output only the JSON.\"},\n",
    "            {\"role\":\"user\",\"content\": puzzle[\"question\"]},\n",
    "            {\"role\":\"assistant\",\"content\": json.dumps(puzzle)},\n",
    "        ],\n",
    "            \"metadata\": {\"prompt_id\": \"logic_question_parser\", \"source\": \"hivaze/LOGIC-701\"}}\n",
    "        output.append(messages)\n",
    "\n",
    "    return output"
   ]
  },
  {
   "cell_type": "code",
   "execution_count": null,
   "id": "209fbfdd",
   "metadata": {},
   "outputs": [],
   "source": [
    "dataset_fine_tuning = format_data(df_generated)"
   ]
  },
  {
   "cell_type": "code",
   "execution_count": null,
   "id": "878d1d77",
   "metadata": {},
   "outputs": [],
   "source": [
    "dataset_fine_tuning[0]"
   ]
  },
  {
   "cell_type": "code",
   "execution_count": null,
   "id": "e656fcc4",
   "metadata": {},
   "outputs": [],
   "source": [
    "def save_to_jsonl(data, output_file):\n",
    "    with open(output_file, 'w') as file:\n",
    "        for entry in data:\n",
    "            file.write(json.dumps(entry) + '\\n')\n",
    "\n",
    "save_to_jsonl(dataset_fine_tuning, \"dataset_fine_tuning.jsonl\")"
   ]
  },
  {
   "cell_type": "code",
   "execution_count": null,
   "id": "cafdf8e9",
   "metadata": {},
   "outputs": [],
   "source": [
    "from dotenv import load_dotenv\n",
    "\n",
    "load_dotenv()\n",
    "\n",
    "open_pipe = os.getenv(\"structural-reasoning\")"
   ]
  },
  {
   "cell_type": "code",
   "execution_count": null,
   "id": "99eff36d",
   "metadata": {},
   "outputs": [],
   "source": [
    "# pip install openpipe\n",
    "\n",
    "from openpipe import OpenAI\n",
    "\n",
    "client = OpenAI(\n",
    "  openpipe={\"api_key\": f\"{open_pipe}\"}\n",
    ")\n",
    "\n",
    "completion = client.chat.completions.create(\n",
    "    model=\"openpipe:long-taxis-show\",\n",
    "    messages=[\n",
    "        {\n",
    "            \"role\": \"system\",\n",
    "            \"content\": \"You are a reasoning assistant that transforms logic-based multiple-choice questions into structured JSON outputs. For each question:\\n\\n1. Parse the question into distinct logical or contextual statements and list them as `question_parsing`.\\n2. Solve the problem using a clear, step-by-step chain-of-thought (`cot`).\\n3. Parse the chain-of-thought into structured steps under `cot_parsing`, where each step includes:\\n   - `statement`: the logical inference made\\n   - `evidence`: the rule or fact supporting it\\n   - `Verification`: whether the statement is logically verified as `true` or `false`\\n4. Determine and return the **correct answer choice as a fully formulated sentence** under `answer`, not just a letter.\\n5. Include the original question and use a valid JSON structure:\\n\\n{\\n  \\\"question\\\": \\\"...\\\",\\n  \\\"question_parsing\\\": [ \\\"...\\\", \\\"...\\\" ],\\n  \\\"answer\\\": \\\"<full_text_of_correct_answer>\\\",\\n  \\\"id\\\": <integer>,\\n  \\\"cot\\\": \\\"...\\\",\\n  \\\"cot_parsing\\\": [\\n    { \\\"statement\\\": \\\"...\\\", \\\"evidence\\\": \\\"...\\\", \\\"Verification\\\": \\\"true\\\" | \\\"false\\\" },\\n    ...\\n  ],\\n  \\\"sel_idx\\\": <integer>\\n}\\n\\nBe logical, step-by-step, and do not make unsupported assumptions. Output only the JSON.\"\n",
    "        },\n",
    "        {\n",
    "            \"role\": \"user\",\n",
    "            \"content\": \"There are 7 outstanding students G, H, L, M, U, W and Z in a school.During the summer vacation, the school will send them to the United Kingdom and the United States for inspection.The school has only 7 students participating in this activity, and each person happens to go to one of these two countries.Considering the specialty of each student, this activity must meet the following conditions? (1) If G goes to the UK, then H To the United States.(2) If L goes to the UK, both M and U go to the US.(3) The country W went to was different from the country Z went to.(4) The country where U goes is different from the country where G goes.(5) If Z goes to the UK, then H also goes to the UK. If G goes to the United States, which of the following must be true? A.H go to the UK B.L go to America C.M go to the UK D.W go to America\"\n",
    "        }\n",
    "    ],\n",
    "    temperature=0,\n",
    "    openpipe={\n",
    "        \"tags\": {\n",
    "            \"prompt_id\": \"counting\",\n",
    "            \"any_key\": \"any_value\"\n",
    "        }\n",
    "    },\n",
    ")\n",
    "\n",
    "print(completion.choices[0].message)"
   ]
  }
 ],
 "metadata": {},
 "nbformat": 4,
 "nbformat_minor": 5
}
