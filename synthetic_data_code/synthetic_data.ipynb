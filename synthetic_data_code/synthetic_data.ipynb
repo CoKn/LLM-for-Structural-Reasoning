{
 "cells": [
  {
   "metadata": {},
   "cell_type": "markdown",
   "source": "#### Constraint Solving Problems",
   "id": "f9cd3ae292fb8fb0"
  },
  {
   "cell_type": "code",
   "id": "initial_id",
   "metadata": {
    "collapsed": true,
    "ExecuteTime": {
     "end_time": "2025-04-12T14:02:53.062115Z",
     "start_time": "2025-04-12T14:02:53.026526Z"
    }
   },
   "source": [
    "puzzle_generation_system_prompt = \"\"\"\n",
    "You are a question generator that creates challenging analytical reasoning questions similar to those used in logic-based assessments or civil service exams. Each question should involve reasoning, deduction, or analysis of conditions, and be followed by four answer options (A–D).\n",
    "\n",
    "Use the following examples as a guide for format, style, and logic complexity:\n",
    "\n",
    "Example 1:\n",
    "\n",
    "Question:\n",
    "Fair use refers to the non-commercial use of works published by others without the permission of the copyright owner, and without having to pay remuneration under the circumstances specified in the law. The \"cases specified in the law\" mainly include:\n",
    "(1) Personal study, research or appreciation, using published works of others;\n",
    "(2) Performing published works for free;\n",
    "(3) Copying, painting, photography, video recording of artistic works installed or displayed in outdoor public places;\n",
    "(4) Translating published works created in Chinese into minority languages and publishing them.\n",
    "\n",
    "According to the above provisions, which of the following are examples of fair use?\n",
    "A. A sang an unpublished song at the class party\n",
    "B. B translates an English work into Mongolian work and publishes it\n",
    "C. Company C took the sculptures in the public square and made them into pictures\n",
    "D. Ding Wei wrote a paper and copied a paper published by Geng in a journal for reference\n",
    "\n",
    "\n",
    "Example 2:\n",
    "\n",
    "Question:\n",
    "A.B, and C are from the school football team, table tennis team, and basketball team. There is only one correct statement:\n",
    "(1) A is on the football team;\n",
    "(2) B is not on the football team;\n",
    "(3) C is not on the basketball team.\n",
    "\n",
    "Which team are A, B, and C on?\n",
    "A. A is on the football team; B is on the basketball team; C is on the table tennis team\n",
    "B. A is on the basketball team; B is on the football team; C is on the table tennis team\n",
    "C. A is on the table tennis team; B is on the football team; C is on the basketball team\n",
    "D. A is on the table tennis team; B is on the basketball team; C is on the football team\n",
    "\n",
    "Example 3:\n",
    "\n",
    "Question:\n",
    "There are five volcanic islands E, F, G, H, and I arranged in a straight line from north to south. It is known:\n",
    "(1) F is adjacent to H and is to the north of H;\n",
    "(2) I and E are adjacent;\n",
    "(3) G is somewhere to the north of F.\n",
    "\n",
    "If G is the northernmost island, how many possible arrangements are there for the islands?\n",
    "A. 2\n",
    "B. 3\n",
    "C. 4\n",
    "D. 5\n",
    "\n",
    "Format the answer in JSON. Here is an example:\n",
    "[\n",
    "    {\"question\": \"generated question 1\"},\n",
    "    {\"question\": \"generated question 2\"}\n",
    "]\n",
    "\"\"\"\n",
    "\n",
    "puzzle_generation_prompt = \"\"\"\n",
    "Now, generate 20 new question in the same format. It must:\n",
    "- Involve logic or deductive reasoning\n",
    "- Provide 4 answer options\n",
    "- Include a clearly correct answer\n",
    "- Be original and not copied from the examples\n",
    "\n",
    "Do not solve the problem just generate a new question.\n",
    "\"\"\""
   ],
   "outputs": [],
   "execution_count": 6
  },
  {
   "metadata": {
    "ExecuteTime": {
     "end_time": "2025-04-12T15:40:07.089883Z",
     "start_time": "2025-04-12T15:40:05.288258Z"
    }
   },
   "cell_type": "code",
   "source": [
    "import os\n",
    "from AzureAdapter import AzureAdapter\n",
    "from dotenv import load_dotenv\n",
    "\n",
    "load_dotenv()\n",
    "\n",
    "api_key = os.getenv(\"AZURE_API_KEY\")\n",
    "api_endpoint = os.getenv(\"AZURE_API_ENDPOINT\")\n",
    "api_version = os.getenv(\"AZURE_API_VERSION\")\n",
    "deployment_name = \"gpt-4o\"\n",
    "\n",
    "llm = AzureAdapter(api_key=api_key, api_endpoint=api_endpoint, api_version=api_version)\n",
    "puzzles = llm.call_model(system_prompt=puzzle_generation_system_prompt, prompt=puzzle_generation_prompt, deployment_name=deployment_name)"
   ],
   "id": "33fc0033032e54dc",
   "outputs": [],
   "execution_count": 13
  },
  {
   "metadata": {
    "ExecuteTime": {
     "end_time": "2025-04-12T14:07:56.278623Z",
     "start_time": "2025-04-12T14:07:56.265824Z"
    }
   },
   "cell_type": "code",
   "source": [
    "import os\n",
    "import json\n",
    "import time\n",
    "\n",
    "def save_output_as_json(output, file_name, output_dir):\n",
    "    try:\n",
    "        # Ensure the output directory exists\n",
    "        os.makedirs(output_dir, exist_ok=True)\n",
    "\n",
    "        # Parse the output if it's a string\n",
    "        if isinstance(output, str):\n",
    "            output = json.loads(output)\n",
    "\n",
    "        # Construct the full file path\n",
    "        file_path = os.path.join(output_dir, file_name)\n",
    "\n",
    "        # Save the output to a JSON file\n",
    "        with open(file_path, 'w') as json_file:\n",
    "            json.dump(output, json_file, indent=4)\n",
    "        print(f\"Output successfully saved to {file_path}\")\n",
    "    except (json.JSONDecodeError, TypeError) as e:\n",
    "        print(f\"Failed to save output as JSON: {e}\")\n",
    "\n",
    "save_output_as_json(puzzles, f\"puzzles_{time.time()}.json\", \"../data/synthetic_data\")"
   ],
   "id": "d15fed3bc1bdfe5f",
   "outputs": [
    {
     "name": "stdout",
     "output_type": "stream",
     "text": [
      "Output successfully saved to ../data/synthetic_data/puzzles_1744466876.273887.json\n"
     ]
    }
   ],
   "execution_count": 11
  },
  {
   "metadata": {
    "ExecuteTime": {
     "end_time": "2025-04-12T14:07:56.379094Z",
     "start_time": "2025-04-12T14:07:56.368148Z"
    }
   },
   "cell_type": "code",
   "source": "puzzles",
   "id": "e5ef321145a8dae6",
   "outputs": [
    {
     "data": {
      "text/plain": [
       "'[\\n    {\"question\": \"Three friends, X, Y, and Z, each own one of the three pets: a dog, a cat, and a rabbit. There is only one correct statement:\\\\n(1) X owns the dog;\\\\n(2) Y does not own the cat;\\\\n(3) Z does not own the rabbit.\\\\nWhich pets do X, Y, and Z own?\\\\nA. X owns the dog; Y owns the rabbit; Z owns the cat\\\\nB. X owns the cat; Y owns the dog; Z owns the rabbit\\\\nC. X owns the rabbit; Y owns the dog; Z owns the cat\\\\nD. X owns the dog; Y owns the cat; Z owns the rabbit\"},\\n    {\"question\": \"Five colleagues M, N, O, P, and Q are seated in a row facing a stage. It is known:\\\\n(1) M is immediately to the left of P;\\\\n(2) N is next to Q on the right;\\\\n(3) O is somewhere to the left of M.\\\\nIf N is seated at one end of the row, who is seated exactly in the middle?\\\\nA. M\\\\nB. N\\\\nC. O\\\\nD. P\"},\\n    {\"question\": \"In a competition, there are five finalists: A, B, C, D, and E. It is known:\\\\n(1) A\\'s score is higher than B\\'s;\\\\n(2) C\\'s score is lower than both D\\'s and E\\'s but higher than B\\'s;\\\\n(3) D\\'s score is not the highest.\\\\nWho has the highest score?\\\\nA. A\\\\nB. B\\\\nC. D\\\\nD. E\"},\\n    {\"question\": \"Four employees P, Q, R, and S were each assigned a different project: 1, 2, 3, and 4. It is known:\\\\n(1) P did not get project 1;\\\\n(2) Q got project 2;\\\\n(3) R got a higher-numbered project than S.\\\\nWhich projects did P, Q, R, and S get?\\\\nA. P: 2, Q: 1, R: 3, S: 4\\\\nB. P: 3, Q: 2, R: 1, S: 4\\\\nC. P: 1, Q: 2, R: 4, S: 3\\\\nD. P: 4, Q: 2, R: 3, S: 1\"},\\n    {\"question\": \"A, B, C, D, and E are five family members. Their relations are:\\\\n(1) A is B\\'s sister;\\\\n(2) C is A\\'s brother;\\\\n(3) D is B\\'s father;\\\\n(4) E is D\\'s mother.\\\\nWho is C\\'s grandmother?\\\\nA. A\\\\nB. B\\\\nC. D\\\\nD. E\"},\\n    {\"question\": \"Three friends, L, M, and N, are each wearing a different colored shirt: red, blue, and green. It is known:\\\\n(1) L is not wearing red;\\\\n(2) M is not wearing blue;\\\\n(3) N is not wearing green.\\\\nWhich colors are L, M, and N wearing?\\\\nA. L: blue, M: green, N: red\\\\nB. L: green, M: red, N: blue\\\\nC. L: red, M: blue, N: green\\\\nD. L: blue, M: red, N: green\"},\\n    {\"question\": \"There are four siblings: W, X, Y, and Z. Their ages are different. It is known:\\\\n(1) W is older than X and Z;\\\\n(2) Y is older than W;\\\\n(3) Z is younger than X.\\\\nWho is the youngest sibling?\\\\nA. W\\\\nB. X\\\\nC. Y\\\\nD. Z\"},\\n    {\"question\": \"Four athletes participated in a race: P, Q, R, and S. Their finishing order is different. It is known:\\\\n(1) P finished before Q but after R;\\\\n(2) S finished before R.\\\\nWho finished last?\\\\nA. P\\\\nB. Q\\\\nC. R\\\\nD. S\"},\\n    {\"question\": \"In a company meeting, five managers are seated around a circular table: T, U, V, W, and X. It is known:\\\\n(1) V is seated next to U;\\\\n(2) W is seated opposite T;\\\\n(3) X is not seated next to V.\\\\nWho is seated directly to the left of W?\\\\nA. T\\\\nB. U\\\\nC. V\\\\nD. X\"},\\n    {\"question\": \"There are five houses on a street, each painted a different color: red, blue, green, yellow, and purple. The house numbers are 1 through 5. It is known:\\\\n(1) The red house is immediately to the left of the green house;\\\\n(2) The blue house is house number 3;\\\\n(3) The yellow house is not next to the purple house.\\\\nWhich house is number 1?\\\\nA. Red\\\\nB. Blue\\\\nC. Yellow\\\\nD. Green\"}\\n]'"
      ]
     },
     "execution_count": 12,
     "metadata": {},
     "output_type": "execute_result"
    }
   ],
   "execution_count": 12
  },
  {
   "metadata": {},
   "cell_type": "markdown",
   "source": "#### Extract Statements",
   "id": "19186ea2c65c646d"
  },
  {
   "metadata": {
    "ExecuteTime": {
     "end_time": "2025-04-12T14:57:10.161511Z",
     "start_time": "2025-04-12T14:57:10.128278Z"
    }
   },
   "cell_type": "code",
   "source": [
    "condition_extraction_system_prompt = \"\"\"\n",
    "Extract all the logical statements from the question text below. A \"statement\" is any individual sentence or clause presenting a condition, background fact, or relation. Ignore answer choices. Return the output as a JSON object with two keys:\n",
    "- \"question\": the original full text.\n",
    "- \"question_parsing\": an array of strings where each string is one extracted statement.\n",
    "\n",
    "Example:\n",
    "Input:\n",
    "\"There are 7 outstanding students G, H, L, M, U, W and Z in a school. During the summer vacation, the school will send them to the United Kingdom and the United States for inspection. Each person goes to one of these two countries. (1) If G goes to the UK, then H goes to the United States. (2) If L goes to the UK, both M and U go to the US. (3) The country W went to was different from the country Z went to. (4) The country where U goes is different from the country where G goes. (5) If Z goes to the UK, then H also goes to the UK. If G goes to the United States, which of the following must be true? A. H go to the UK; B. L go to America; C. M go to the UK; D. W go to America\"\n",
    "Output:\n",
    "{\n",
    "  \"question\": \"There are 7 outstanding students G, H, L, M, U, W and Z in a school. During the summer vacation, the school will send them to the United Kingdom and the United States for inspection. Each person goes to one of these two countries. (1) If G goes to the UK, then H goes to the United States. (2) If L goes to the UK, both M and U go to the US. (3) The country W went to was different from the country Z went to. (4) The country where U goes is different from the country where G goes. (5) If Z goes to the UK, then H also goes to the UK. If G goes to the United States, which of the following must be true? A. H go to the UK; B. L go to America; C. M go to the UK; D. W go to America\",\n",
    "  \"question_parsing\": [\n",
    "    \"There are 7 outstanding students G, H, L, M, U, W and Z in a school. During the summer vacation, the school will send them to the United Kingdom and the United States for inspection.\",\n",
    "    \"Each person goes to one of these two countries.\",\n",
    "    \"If G goes to the UK, then H goes to the United States.\",\n",
    "    \"If L goes to the UK, both M and U go to the US.\",\n",
    "    \"The country W went to was different from the country Z went to.\",\n",
    "    \"The country where U goes is different from the country where G goes.\",\n",
    "    \"If Z goes to the UK, then H also goes to the UK.\",\n",
    "    \"G goes to the United States.\"\n",
    "  ]\n",
    "}\n",
    "\"\"\"\n",
    "\n",
    "condition_extraction_prompt = \"Now, extract the statements from the given question text: \\n\" + str(puzzles)"
   ],
   "id": "2cf271b14e9680bd",
   "outputs": [],
   "execution_count": 13
  },
  {
   "metadata": {
    "ExecuteTime": {
     "end_time": "2025-04-12T14:57:46.480558Z",
     "start_time": "2025-04-12T14:57:34.259834Z"
    }
   },
   "cell_type": "code",
   "source": "question_parsing = llm.call_model(system_prompt=condition_extraction_system_prompt, prompt=condition_extraction_prompt, deployment_name=deployment_name)",
   "id": "fb088b1fc87fb1ec",
   "outputs": [],
   "execution_count": 14
  },
  {
   "metadata": {
    "ExecuteTime": {
     "end_time": "2025-04-12T14:58:06.113325Z",
     "start_time": "2025-04-12T14:58:06.099507Z"
    }
   },
   "cell_type": "code",
   "source": "save_output_as_json(question_parsing, f\"question_parsing_{time.time()}.json\", \"../data/synthetic_data\")\n",
   "id": "67a1f8fd69119b82",
   "outputs": [
    {
     "name": "stdout",
     "output_type": "stream",
     "text": [
      "Output successfully saved to ../data/synthetic_data/question_parsing_1744469886.10512.json\n"
     ]
    }
   ],
   "execution_count": 15
  },
  {
   "metadata": {
    "ExecuteTime": {
     "end_time": "2025-04-12T15:49:47.225055Z",
     "start_time": "2025-04-12T15:49:47.217343Z"
    }
   },
   "cell_type": "code",
   "source": [
    "import json\n",
    "\n",
    "# Path to the JSON file\n",
    "# file_path = '../data/synthetic_data/question_parsing_1744469886.10512.json'\n",
    "file_path = '../data/train.json'\n",
    "\n",
    "# Load the JSON file\n",
    "with open(file_path, 'r') as file:\n",
    "    data = json.load(file)\n",
    "\n",
    "# Print the loaded data\n",
    "question_parsing = data[0].get('question_parsing')"
   ],
   "id": "707aae819a6b0e4c",
   "outputs": [],
   "execution_count": 21
  },
  {
   "metadata": {},
   "cell_type": "markdown",
   "source": "#### Solver",
   "id": "ca4b99178d2e8226"
  },
  {
   "metadata": {
    "ExecuteTime": {
     "end_time": "2025-04-12T15:49:48.865908Z",
     "start_time": "2025-04-12T15:49:48.857696Z"
    }
   },
   "cell_type": "code",
   "source": [
    "solver_system_prompt = \"\"\"\n",
    "You are an expert logic puzzle parser. Your task is to extract from a given natural language puzzle description all variables and constraints, and output a JSON object that can later be used to construct a constraint solver with the python‑constraint package.\n",
    "\n",
    "Please output the JSON object following this exact schema:\n",
    "\n",
    "{\n",
    "    \"variables\": [\n",
    "        {\n",
    "            \"name\": \"<variable_name_as_string>\",\n",
    "            \"domain\": [ <list_of_possible_values> ]\n",
    "        },\n",
    "        ...\n",
    "    ],\n",
    "    \"constraints\": [\n",
    "        {\n",
    "            \"variables\": [ \"<var1>\", \"<var2>\", ... ],\n",
    "            \"expression\": \"<Python expression string representing the constraint>\"\n",
    "        },\n",
    "        ...\n",
    "    ]\n",
    "}\n",
    "\n",
    "Guidelines:\n",
    "1. **Variables:**\n",
    "   - Identify all variables mentioned (typically represented by letters or names).\n",
    "   - For each variable, if the domain (the list of possible values) is explicitly defined in the puzzle, use that; otherwise, infer a default domain based on context.\n",
    "     For example, if the puzzle involves countries and mentions \"United Kingdom\" and \"United States\", use the domain `[\"UK\", \"US\"]`.\n",
    "2. **Constraints:**\n",
    "   - Convert each condition statement into a constraint expression.\n",
    "   - Use a Python logical expression format that can be passed to the python‑constraint package.\n",
    "   - Reference variables exactly as they appear.\n",
    "   - For example, given the statement:\n",
    "     \"If G goes to the UK, then H goes to the United States.\"\n",
    "     a possible constraint expression is:\n",
    "     `\"G != 'UK' or H == 'US'\"`\n",
    "     and the corresponding constraint object should include the variable names `[\"G\", \"H\"]`.\n",
    "3. **Output:**\n",
    "   - Do not include any additional text or explanation; output only the JSON object.\n",
    "\n",
    "For example, if the puzzle description is:\n",
    "\n",
    "\"There are 7 outstanding students G, H, L, M, U, W and Z in a school. During the summer vacation, the school will send them to the United Kingdom and the United States for inspection. The school has only 7 students participating in this activity, and each person happens to go to one of these two countries. Considering the specialty of each student, the activity must meet the following conditions:\n",
    "(1) If G goes to the UK, then H goes to the United States.\n",
    "(2) If L goes to the UK, then both M and U go to the US.\n",
    "(3) The country W went to is different from the country Z went to.\n",
    "(4) The country where U goes is different from the country where G goes.\n",
    "(5) If Z goes to the UK, then H also goes to the UK.\"\n",
    "\n",
    "Your output should include:\n",
    "- Variables: G, H, L, M, U, W, Z (each with an appropriate domain, e.g., `[\"UK\", \"US\"]`)\n",
    "- Constraints:\n",
    "   - For condition (1): `{\"variables\": [\"G\", \"H\"], \"expression\": \"G != 'UK' or H == 'US'\"}`\n",
    "   - For condition (2): `{\"variables\": [\"L\", \"M\", \"U\"], \"expression\": \"L != 'UK' or (M == 'US' and U == 'US')\"}`\n",
    "   - For condition (3): `{\"variables\": [\"W\", \"Z\"], \"expression\": \"W != Z\"}`\n",
    "   - For condition (4): `{\"variables\": [\"U\", \"G\"], \"expression\": \"U != G\"}`\n",
    "   - For condition (5): `{\"variables\": [\"Z\", \"H\"], \"expression\": \"Z != 'UK' or H == 'UK'\"}`\n",
    "\n",
    "Now, please process the following puzzle description and output the corresponding JSON:\n",
    "\n",
    "\"There's the puzzle description here:\n",
    "'There are 7 outstanding students G, H, L, M, U, W and Z in a school. During the summer vacation, the school will send them to the United Kingdom and the United States for inspection. The school has only 7 students participating in this activity, and each person happens to go to one of these two countries. Considering the specialty of each student, the activity must meet the following conditions: (1) If G goes to the UK, then H goes to the United States. (2) If L goes to the UK, then both M and U go to the US. (3) The country W went to is different from the country Z went to. (4) The country where U goes is different from the country where G goes. (5) If Z goes to the UK, then H also goes to the UK.'\"\n",
    "\n",
    "Output only the JSON.\n",
    "\"\"\"\n",
    "\n",
    "solver_prompt = \"Here are the statements: \" + str(question_parsing)"
   ],
   "id": "d783262838cf728b",
   "outputs": [],
   "execution_count": 22
  },
  {
   "metadata": {
    "ExecuteTime": {
     "end_time": "2025-04-12T15:49:55.723967Z",
     "start_time": "2025-04-12T15:49:52.546719Z"
    }
   },
   "cell_type": "code",
   "source": "solver_structure = llm.call_model(system_prompt=solver_system_prompt, prompt=solver_prompt, deployment_name=deployment_name)",
   "id": "867dd6b3d71662f5",
   "outputs": [],
   "execution_count": 23
  },
  {
   "metadata": {
    "ExecuteTime": {
     "end_time": "2025-04-12T15:49:55.745180Z",
     "start_time": "2025-04-12T15:49:55.738587Z"
    }
   },
   "cell_type": "code",
   "source": "solver_structure",
   "id": "37edaa4c533dcf18",
   "outputs": [
    {
     "data": {
      "text/plain": [
       "'{\\n    \"variables\": [\\n        {\\n            \"name\": \"G\",\\n            \"domain\": [\"UK\", \"US\"]\\n        },\\n        {\\n            \"name\": \"H\",\\n            \"domain\": [\"UK\", \"US\"]\\n        },\\n        {\\n            \"name\": \"L\",\\n            \"domain\": [\"UK\", \"US\"]\\n        },\\n        {\\n            \"name\": \"M\",\\n            \"domain\": [\"UK\", \"US\"]\\n        },\\n        {\\n            \"name\": \"U\",\\n            \"domain\": [\"UK\", \"US\"]\\n        },\\n        {\\n            \"name\": \"W\",\\n            \"domain\": [\"UK\", \"US\"]\\n        },\\n        {\\n            \"name\": \"Z\",\\n            \"domain\": [\"UK\", \"US\"]\\n        }\\n    ],\\n    \"constraints\": [\\n        {\\n            \"variables\": [\"G\", \"H\"],\\n            \"expression\": \"G != \\'UK\\' or H == \\'US\\'\"\\n        },\\n        {\\n            \"variables\": [\"L\", \"M\", \"U\"],\\n            \"expression\": \"L != \\'UK\\' or (M == \\'US\\' and U == \\'US\\')\"\\n        },\\n        {\\n            \"variables\": [\"W\", \"Z\"],\\n            \"expression\": \"W != Z\"\\n        },\\n        {\\n            \"variables\": [\"U\", \"G\"],\\n            \"expression\": \"U != G\"\\n        },\\n        {\\n            \"variables\": [\"Z\", \"H\"],\\n            \"expression\": \"Z != \\'UK\\' or H == \\'UK\\'\"\\n        },\\n        {\\n            \"variables\": [\"G\"],\\n            \"expression\": \"G == \\'US\\'\"\\n        }\\n    ]\\n}'"
      ]
     },
     "execution_count": 24,
     "metadata": {},
     "output_type": "execute_result"
    }
   ],
   "execution_count": 24
  },
  {
   "metadata": {
    "ExecuteTime": {
     "end_time": "2025-04-12T15:52:34.675243Z",
     "start_time": "2025-04-12T15:52:34.665874Z"
    }
   },
   "cell_type": "code",
   "source": "json.loads(solver_structure)",
   "id": "4d4a78f9da4a3bbe",
   "outputs": [
    {
     "data": {
      "text/plain": [
       "{'variables': [{'name': 'G', 'domain': ['UK', 'US']},\n",
       "  {'name': 'H', 'domain': ['UK', 'US']},\n",
       "  {'name': 'L', 'domain': ['UK', 'US']},\n",
       "  {'name': 'M', 'domain': ['UK', 'US']},\n",
       "  {'name': 'U', 'domain': ['UK', 'US']},\n",
       "  {'name': 'W', 'domain': ['UK', 'US']},\n",
       "  {'name': 'Z', 'domain': ['UK', 'US']}],\n",
       " 'constraints': [{'variables': ['G', 'H'],\n",
       "   'expression': \"G != 'UK' or H == 'US'\"},\n",
       "  {'variables': ['L', 'M', 'U'],\n",
       "   'expression': \"L != 'UK' or (M == 'US' and U == 'US')\"},\n",
       "  {'variables': ['W', 'Z'], 'expression': 'W != Z'},\n",
       "  {'variables': ['U', 'G'], 'expression': 'U != G'},\n",
       "  {'variables': ['Z', 'H'], 'expression': \"Z != 'UK' or H == 'UK'\"},\n",
       "  {'variables': ['G'], 'expression': \"G == 'US'\"}]}"
      ]
     },
     "execution_count": 28,
     "metadata": {},
     "output_type": "execute_result"
    }
   ],
   "execution_count": 28
  },
  {
   "metadata": {
    "ExecuteTime": {
     "end_time": "2025-04-12T15:57:09.221390Z",
     "start_time": "2025-04-12T15:57:09.206289Z"
    }
   },
   "cell_type": "code",
   "source": [
    "import json\n",
    "from constraint import Problem\n",
    "\n",
    "def build_solver_from_json(config):\n",
    "    problem = Problem()\n",
    "\n",
    "    # Get the set of defined variable names.\n",
    "    defined_vars = {var[\"name\"] for var in config[\"variables\"]}\n",
    "\n",
    "    # Verify that all variables referenced in constraints are defined.\n",
    "    for constr in config[\"constraints\"]:\n",
    "        for var in constr[\"variables\"]:\n",
    "            if var not in defined_vars:\n",
    "                raise ValueError(f\"Constraint references variable '{var}' which is not defined in the variables list.\")\n",
    "\n",
    "    # Add all defined variables to the problem.\n",
    "    for var in config[\"variables\"]:\n",
    "        name = var[\"name\"]\n",
    "        domain = var[\"domain\"]\n",
    "        problem.addVariable(name, domain)\n",
    "\n",
    "    # Add constraints.\n",
    "    for constr in config[\"constraints\"]:\n",
    "        var_list = constr[\"variables\"]\n",
    "        expression = constr[\"expression\"]\n",
    "        # Create a lambda function string.\n",
    "        args = \", \".join(var_list)\n",
    "        lambda_str = f\"lambda {args}: {expression}\"\n",
    "        try:\n",
    "            constraint_func = eval(lambda_str)\n",
    "        except Exception as e:\n",
    "            raise ValueError(f\"Error evaluating lambda expression: {lambda_str}\") from e\n",
    "        problem.addConstraint(constraint_func, var_list)\n",
    "\n",
    "    return problem"
   ],
   "id": "5fa33313ca9d7b2f",
   "outputs": [],
   "execution_count": 31
  },
  {
   "metadata": {
    "ExecuteTime": {
     "end_time": "2025-04-12T15:57:10.770636Z",
     "start_time": "2025-04-12T15:57:10.762788Z"
    }
   },
   "cell_type": "code",
   "source": [
    "solver = build_solver_from_json(config=json.loads(solver_structure))\n",
    "solutions = solver.getSolutions()\n",
    "print(\"Solutions found:\")\n",
    "print(solutions)"
   ],
   "id": "8e458539439f34ff",
   "outputs": [
    {
     "name": "stdout",
     "output_type": "stream",
     "text": [
      "Solutions found:\n",
      "[{'G': 'US', 'U': 'UK', 'H': 'US', 'Z': 'US', 'W': 'UK', 'L': 'US', 'M': 'US'}, {'G': 'US', 'U': 'UK', 'H': 'US', 'Z': 'US', 'W': 'UK', 'L': 'US', 'M': 'UK'}, {'G': 'US', 'U': 'UK', 'H': 'UK', 'Z': 'UK', 'W': 'US', 'L': 'US', 'M': 'US'}, {'G': 'US', 'U': 'UK', 'H': 'UK', 'Z': 'UK', 'W': 'US', 'L': 'US', 'M': 'UK'}, {'G': 'US', 'U': 'UK', 'H': 'UK', 'Z': 'US', 'W': 'UK', 'L': 'US', 'M': 'US'}, {'G': 'US', 'U': 'UK', 'H': 'UK', 'Z': 'US', 'W': 'UK', 'L': 'US', 'M': 'UK'}]\n"
     ]
    }
   ],
   "execution_count": 32
  },
  {
   "metadata": {},
   "cell_type": "markdown",
   "source": "#### Generate cot and cot parsing",
   "id": "684ab60e16fc8f47"
  },
  {
   "metadata": {},
   "cell_type": "code",
   "outputs": [],
   "execution_count": null,
   "source": "",
   "id": "fb30ec0579ab95e1"
  }
 ],
 "metadata": {
  "kernelspec": {
   "display_name": ".venv-nlp-project",
   "language": "python",
   "name": ".venv-nlp-project"
  },
  "language_info": {
   "codemirror_mode": {
    "name": "ipython",
    "version": 2
   },
   "file_extension": ".py",
   "mimetype": "text/x-python",
   "name": "python",
   "nbconvert_exporter": "python",
   "pygments_lexer": "ipython2",
   "version": "2.7.6"
  }
 },
 "nbformat": 4,
 "nbformat_minor": 5
}
